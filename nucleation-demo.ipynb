{
 "cells": [
  {
   "cell_type": "markdown",
   "metadata": {},
   "source": [
    "# Phase Field Benchmark\n",
    "## Homogeneous nucleation, multiple seeds at random times\n",
    "FiPy implementation of problem I.3 in \"Phase Field Benchmark Problems for Nucleation\", Wenkun Wu *et al.*, *Comp. Mat. Sci.* (in press)"
   ]
  },
  {
   "cell_type": "markdown",
   "metadata": {},
   "source": [
    "## Import Python modules"
   ]
  },
  {
   "cell_type": "code",
   "execution_count": 16,
   "metadata": {
    "ExecuteTime": {
     "end_time": "2021-03-03T05:54:05.521922Z",
     "start_time": "2021-03-03T05:54:05.497189Z"
    }
   },
   "outputs": [],
   "source": [
    "from matplotlib import pyplot as plt\n",
    "from matplotlib import cm\n",
    "from matplotlib.colors import ListedColormap\n",
    "\n",
    "import fipy as fp\n",
    "from fipy.tools import parallelComm"
   ]
  },
  {
   "cell_type": "markdown",
   "metadata": {},
   "source": [
    "## Initialize mesh and solution variables"
   ]
  },
  {
   "cell_type": "code",
   "execution_count": 17,
   "metadata": {
    "ExecuteTime": {
     "end_time": "2021-03-03T05:54:19.079467Z",
     "start_time": "2021-03-03T05:54:19.059709Z"
    }
   },
   "outputs": [],
   "source": [
    "totaltime = 10.0\n",
    "dt = 0.04\n",
    "\n",
    "Lx = Ly = 100.\n",
    "dx = dy = 0.8\n",
    "\n",
    "nx = Lx // dx\n",
    "ny = Lx // dy\n",
    "\n",
    "mesh = fp.Grid2D(dx=dx, nx=nx, dy=dy, ny=ny)\n",
    "\n",
    "phi = fp.CellVariable(mesh=mesh, name=\"$\\phi$\", value=0., hasOld=True)\n",
    "\n",
    "elapsed = fp.Variable(name=\"$t$\", value=0.)\n",
    "    \n",
    "x, y = mesh.cellCenters[0], mesh.cellCenters[1]"
   ]
  },
  {
   "cell_type": "markdown",
   "metadata": {
    "ExecuteTime": {
     "end_time": "2019-10-12T12:44:29.458892Z",
     "start_time": "2019-10-12T12:44:29.454698Z"
    }
   },
   "source": [
    "## Define governing equation"
   ]
  },
  {
   "cell_type": "markdown",
   "metadata": {},
   "source": [
    "> [Set] the driving force to $\\Delta f = \\sqrt{2} / 12$"
   ]
  },
  {
   "cell_type": "code",
   "execution_count": 18,
   "metadata": {
    "ExecuteTime": {
     "end_time": "2021-03-03T05:54:31.348599Z",
     "start_time": "2021-03-03T05:54:31.345100Z"
    }
   },
   "outputs": [],
   "source": [
    "Delta_f = fp.numerix.sqrt(2.) / 12"
   ]
  },
  {
   "cell_type": "markdown",
   "metadata": {},
   "source": [
    "> $$r_c = \\frac{1}{3\\sqrt{2}}\\frac{1}{\\Delta f} = 2.0$$"
   ]
  },
  {
   "cell_type": "code",
   "execution_count": 19,
   "metadata": {
    "ExecuteTime": {
     "end_time": "2021-03-03T05:54:32.707991Z",
     "start_time": "2021-03-03T05:54:32.705664Z"
    }
   },
   "outputs": [],
   "source": [
    "rc = 2.0"
   ]
  },
  {
   "cell_type": "markdown",
   "metadata": {},
   "source": [
    "and define the governing equation \n",
    "> \\begin{align}\n",
    "\\frac{\\partial\\phi}{\\partial t} &= \\nabla^2\\phi - g'(\\phi) + \\Delta f p'(\\phi) \\tag{7}\n",
    "\\end{align}\n",
    "\n",
    "> $$g(\\phi) = \\phi^2(1 - \\phi)^2 \\qquad p(\\phi)=\\phi^3(10 - 15\\phi + 6\\phi^2)$$\n",
    "\n",
    "Following [`examples/phase/simple.py`](https://www.ctcms.nist.gov/fipy/examples/phase/generated/examples.phase.simple.html)\n",
    "\n",
    "\n",
    "\\begin{align}\n",
    "\\frac{\\partial\\phi}{\\partial t}\n",
    "&= \\nabla^2\\phi + m_\\phi \\phi (1 - \\phi) \\notag\n",
    "\\qquad\\text{for $m_\\phi \\equiv -2(1 - 2\\phi) + 30 \\phi (1 - \\phi) \\Delta f$} \\notag\n",
    "\\\\\n",
    "&= \\nabla^2\\phi + S \\notag\n",
    "\\\\\n",
    "&\\approx \\nabla^2\\phi + S|_\\text{old}\n",
    "+ \\left.{\\frac{\\partial S}{\\partial \\phi}}\\right|_\\text{old} (\\phi - \\phi_\\text{old}) \n",
    "\\notag \\\\\n",
    "&= \\nabla^2\\phi + \\left(S - \\frac{\\partial S}{\\partial \\phi} \\phi\\right)_\\text{old} \n",
    "+ \\left.{\\frac{\\partial S}{\\partial \\phi}}\\right|_\\text{old} \\phi \\notag\n",
    "\\\\\n",
    "&= \\nabla^2\\phi + S_0 + S_1 \\phi \\notag\n",
    "\\\\\n",
    "S_0 &\\equiv \\left(S - \\frac{\\partial S}{\\partial \\phi} \\phi\\right)_\\text{old}\n",
    "\\notag \\\\\n",
    "&= m_\\phi \\phi_\\text{old} (1 - \\phi_\\text{old}) - S_1 \\phi_\\text{old}\n",
    "\\notag \\\\\n",
    "S_1 &\\equiv \\left.{\\frac{\\partial S}{\\partial \\phi}}\\right|_\\text{old}\n",
    "\\notag \\\\\n",
    "&= \\frac{\\partial m_\\phi}{\\partial \\phi} \\phi (1 - \\phi) + m_\\phi (1 - 2\\phi)\n",
    "\\notag\n",
    "\\end{align}"
   ]
  },
  {
   "cell_type": "code",
   "execution_count": 20,
   "metadata": {
    "ExecuteTime": {
     "end_time": "2021-03-03T05:55:35.142561Z",
     "start_time": "2021-03-03T05:55:35.114210Z"
    }
   },
   "outputs": [],
   "source": [
    "mPhi = -2 * (1 - 2 * phi) + 30 * phi * (1 - phi) * Delta_f\n",
    "dmPhidPhi = 4 + 30 * (1 - 2 * phi) * Delta_f\n",
    "S1 = dmPhidPhi * phi * (1 - phi) + mPhi * (1 - 2 * phi)\n",
    "S0 = mPhi * phi * (1 - phi) - S1 * phi\n",
    "\n",
    "eq = (fp.TransientTerm() == \n",
    "      fp.DiffusionTerm(coeff=1.) + S0 + fp.ImplicitSourceTerm(coeff=S1))"
   ]
  },
  {
   "cell_type": "markdown",
   "metadata": {},
   "source": [
    "## Calculate total free energy\n",
    "\n",
    "> \\begin{align}\n",
    "F[\\phi] = \\int\\left[\\frac{1}{2}(\\nabla\\phi)^2 + g(\\phi) - \\Delta f p(\\phi)\\right]\\,dV \\tag{6}\n",
    "\\end{align}"
   ]
  },
  {
   "cell_type": "code",
   "execution_count": 21,
   "metadata": {
    "ExecuteTime": {
     "end_time": "2021-03-03T05:55:45.543234Z",
     "start_time": "2021-03-03T05:55:45.493512Z"
    }
   },
   "outputs": [],
   "source": [
    "ftot = (0.5 * phi.grad.mag**2\n",
    "        + phi**2 * (1 - phi)**2\n",
    "        - Delta_f * phi**3 * (10 - 15 * phi + 6 * phi**2))\n",
    "volumes = fp.CellVariable(mesh=mesh, value=mesh.cellVolumes)\n",
    "F = ftot.cellVolumeAverage * volumes.sum()"
   ]
  },
  {
   "cell_type": "markdown",
   "metadata": {},
   "source": [
    "## Define nucleation\n",
    "\n",
    "> generate ... supercritical seeds with $r_0 = 1.1r^∗$. ... When adding a new seed, simply add the $\\phi$ values given by the $\\phi(r)$ profile\n",
    "\\begin{align}\n",
    "\\phi(x) &= \\frac{1 - \\tanh\\left(\\frac{x - x_0}{\\sqrt{2}}\\right)}{2}\\tag{8}\n",
    "\\end{align}\n",
    "to the $\\phi$ values already in the domain, and handle the possible overlaps by setting $\\phi = 1$ for all cells where $\\phi > 1.$"
   ]
  },
  {
   "cell_type": "code",
   "execution_count": 22,
   "metadata": {
    "ExecuteTime": {
     "end_time": "2021-03-03T05:55:59.878513Z",
     "start_time": "2021-03-03T05:55:59.875206Z"
    }
   },
   "outputs": [],
   "source": [
    "def nucleus(x0, y0, r0):\n",
    "    r = fp.numerix.sqrt((x - x0)**2 + (y - y0)**2)\n",
    "\n",
    "    return (1 - fp.numerix.tanh((r - r0) / fp.numerix.sqrt(2.))) / 2"
   ]
  },
  {
   "cell_type": "markdown",
   "metadata": {},
   "source": [
    "### Determine nucleation times\n",
    "> 100 random nucleation times are generated, $t_1, \\dots , t_{100}$, drawn\n",
    "from a uniform distribution in the interval $t \\in [0, t_{max})$ with centers $r$ drawn from a uniform\n",
    "distribution on the domain"
   ]
  },
  {
   "cell_type": "code",
   "execution_count": 23,
   "metadata": {
    "ExecuteTime": {
     "end_time": "2021-03-03T05:56:14.341374Z",
     "start_time": "2021-03-03T05:56:14.337343Z"
    }
   },
   "outputs": [],
   "source": [
    "numnuclei = 100\n",
    "\n",
    "if parallelComm.procID == 0:\n",
    "    times = fp.numerix.random.random(numnuclei) * totaltime\n",
    "    times.sort()\n",
    "    nucleii = fp.numerix.concatenate((times[..., fp.numerix.newaxis],\n",
    "                                      fp.numerix.random.random((numnuclei, 2))),\n",
    "                                     axis=-1)\n",
    "else:\n",
    "    nucleii = None\n",
    "nucleii = parallelComm.bcast(nucleii, root=0)"
   ]
  },
  {
   "cell_type": "markdown",
   "metadata": {},
   "source": [
    "## Setup output"
   ]
  },
  {
   "cell_type": "markdown",
   "metadata": {},
   "source": [
    "### Create particle counter"
   ]
  },
  {
   "cell_type": "code",
   "execution_count": 24,
   "metadata": {
    "ExecuteTime": {
     "end_time": "2021-03-03T05:57:07.383381Z",
     "start_time": "2021-03-03T05:57:07.376117Z"
    }
   },
   "outputs": [],
   "source": [
    "from scipy import ndimage\n",
    "\n",
    "class LabelVariable(fp.CellVariable):\n",
    "    \"\"\"Label features in `var` using scipy.ndimage.label\n",
    "    \n",
    "    Parameters\n",
    "    ----------\n",
    "    var : ~fipy.variables.cellVariable.CellVariable\n",
    "        Field to be labeled. Any values equal to or greater than `threshold`\n",
    "        are counted as features and values below are considered the background.\n",
    "        \n",
    "        .. important:\n",
    "           Only sensible if `var` is defined on a `...Grid...` Mesh.\n",
    "    structure : array_like, optional\n",
    "        A structuring element that defines feature connections.\n",
    "        `structure` must be centrosymmetric\n",
    "        (see ```scipy.ndimage.label`` Notes\n",
    "        <https://docs.scipy.org/doc/scipy/reference/generated/scipy.ndimage.label.html#scipy.ndimage.label>`_).\n",
    "        If no structuring element is provided,\n",
    "        one is automatically generated with a squared connectivity equal to\n",
    "        one.  That is, for a 2-D `input` array, the default structuring element\n",
    "        is::\n",
    "            [[0,1,0],\n",
    "             [1,1,1],\n",
    "             [0,1,0]]\n",
    "    threshold : float, optional\n",
    "        Boundary value between features (inclusive) and background.\n",
    "    dtype : date-type, optional\n",
    "        The desired data-type for the labels. Note that the type must be able\n",
    "        to store the largest label, or this Variable will raise an Exception.\n",
    "        Default: int.\n",
    "    \"\"\"\n",
    "    def __init__(self, var, structure=None, threshold=0.5, dtype=int):\n",
    "        # We want our value to hold dtype,\n",
    "        # but if we pass an array, the CellVariable\n",
    "        # will probably be wonky\n",
    "        value = fp.numerix.array(0.).astype(dtype).item()\n",
    "        fp.CellVariable.__init__(self,\n",
    "                                 mesh=var.mesh,\n",
    "                                 value=value,\n",
    "                                 elementshape=var.shape[:-1])\n",
    "        self.var = self._requires(var)\n",
    "        self.structure = structure\n",
    "        self.threshold = threshold\n",
    "        self.dtype = dtype\n",
    "        self._num_features = None\n",
    "    \n",
    "    def _calcValue(self):\n",
    "        \"\"\"Label features of `var`\n",
    "        \n",
    "        Side-effect: sets self._num_features\n",
    "        \"\"\"\n",
    "        arr = (self.var.globalValue > self.threshold).astype(self.dtype)\n",
    "        shape = (self.var.mesh.args['nx'], self.var.mesh.args['ny'])\n",
    "        arr = arr.reshape(shape)\n",
    "        self._num_features = ndimage.label(input=arr,\n",
    "                                           structure=self.structure,\n",
    "                                           output=arr)\n",
    "        return arr.flat\n",
    "        \n",
    "    @property\n",
    "    def num_features(self):\n",
    "        \"\"\"How many objects were found\n",
    "        \"\"\"\n",
    "        if self.stale or not self._isCached() or self._num_features is None:\n",
    "            self._getValue()\n",
    "\n",
    "        return self._num_features"
   ]
  },
  {
   "cell_type": "code",
   "execution_count": 25,
   "metadata": {
    "ExecuteTime": {
     "end_time": "2021-03-03T05:57:07.838753Z",
     "start_time": "2021-03-03T05:57:07.832212Z"
    }
   },
   "outputs": [],
   "source": [
    "labels = LabelVariable(phi, threshold=0.5)"
   ]
  },
  {
   "cell_type": "markdown",
   "metadata": {},
   "source": [
    "### Collect statistics"
   ]
  },
  {
   "cell_type": "code",
   "execution_count": 26,
   "metadata": {
    "ExecuteTime": {
     "end_time": "2021-03-03T05:57:17.168995Z",
     "start_time": "2021-03-03T05:57:17.157812Z"
    }
   },
   "outputs": [],
   "source": [
    "def current_stats(elapsed):\n",
    "    return [float(x) for x in [elapsed, phi.cellVolumeAverage, labels.num_features, F]]\n",
    "\n",
    "stats = []\n",
    "stats.append(current_stats(elapsed))"
   ]
  },
  {
   "cell_type": "markdown",
   "metadata": {},
   "source": [
    "### Setup display"
   ]
  },
  {
   "cell_type": "code",
   "execution_count": 27,
   "metadata": {
    "ExecuteTime": {
     "end_time": "2021-03-03T05:57:27.088016Z",
     "start_time": "2021-03-03T05:57:27.083178Z"
    }
   },
   "outputs": [],
   "source": [
    "cmap = cm.get_cmap('brg', numnuclei)\n",
    "newcolors = cmap(fp.tools.numerix.linspace(0, 1, numnuclei))\n",
    "newcolors[0] = [0., 0., 0., 1.]\n",
    "newcmap = ListedColormap(newcolors)"
   ]
  },
  {
   "cell_type": "code",
   "execution_count": 28,
   "metadata": {
    "ExecuteTime": {
     "end_time": "2021-03-03T05:57:44.838467Z",
     "start_time": "2021-03-03T05:57:44.279259Z"
    }
   },
   "outputs": [
    {
     "data": {
      "image/png": "[encoded data removed]",
      "text/plain": [
       "<Figure size 432x288 with 4 Axes>"
      ]
     },
     "metadata": {
      "needs_background": "light"
     },
     "output_type": "display_data"
    }
   ],
   "source": [
    "fig, axs = plt.subplots(2, 2)\n",
    "phiViewer = fp.Viewer(vars=phi, datamin=0, datamax=1, axes=axs[0,0], colorbar=None)\n",
    "labelViewer = fp.Viewer(vars=labels, datamin=0, axes=axs[0,1], colorbar=None, cmap=newcmap) # datamax=numnuclei/2, \n",
    "\n",
    "log10 = fp.tools.numerix.log10\n",
    "\n",
    "avrline, = axs[1,0].plot([], [])\n",
    "_ = axs[1,0].set_xlabel(\"$log(t)$\")\n",
    "_ = axs[1,0].set_ylabel(\"$log(-log(1-f))$\")\n",
    "axs[1,0].set_xlim(xmin=fp.tools.numerix.log10(dt), xmax=fp.tools.numerix.log10(totaltime))\n",
    "axs[1,0].set_ylim(ymin=-6, ymax=1)\n",
    "\n",
    "numline, = axs[1,1].plot([], [])\n",
    "_ = axs[1,1].set_xlabel(\"$t$\")\n",
    "_ = axs[1,1].set_ylabel(\"#\")\n",
    "axs[1,1].set_xlim(xmin=0., xmax=totaltime)\n",
    "axs[1,1].set_ylim(ymin=0., ymax=numnuclei)\n",
    "\n",
    "\n",
    "fig.tight_layout()"
   ]
  },
  {
   "cell_type": "markdown",
   "metadata": {},
   "source": [
    "## Solve and output"
   ]
  },
  {
   "cell_type": "code",
   "execution_count": 29,
   "metadata": {
    "ExecuteTime": {
     "end_time": "2021-03-03T05:57:50.588120Z",
     "start_time": "2021-03-03T05:57:50.585722Z"
    }
   },
   "outputs": [],
   "source": [
    "times = nucleii[..., 0]\n",
    "times.sort()"
   ]
  },
  {
   "cell_type": "code",
   "execution_count": 30,
   "metadata": {
    "ExecuteTime": {
     "end_time": "2021-03-03T06:02:23.858222Z",
     "start_time": "2021-03-03T05:58:16.729489Z"
    }
   },
   "outputs": [
    {
     "data": {
      "image/png": "[encoded data removed]",
      "text/plain": [
       "<fipy.viewers.matplotlibViewer.matplotlib2DGridViewer.Matplotlib2DGridViewer at 0x7fa1384f4190>"
      ]
     },
     "metadata": {},
     "output_type": "display_data"
    }
   ],
   "source": [
    "for until in times:\n",
    "    while elapsed.value < until:\n",
    "        phi.updateOld()\n",
    "        dt_until = (until - elapsed).value\n",
    "        dt_save = dt\n",
    "        if dt_until < dt:\n",
    "            dt = dt_until\n",
    "        for sweep in range(5):\n",
    "            eq.sweep(var=phi, dt=dt)\n",
    "        elapsed.value = elapsed() + dt\n",
    "        stats.append(current_stats(elapsed))\n",
    "        dt = dt_save\n",
    "\n",
    "    for tt, fx, fy in nucleii[nucleii[..., 0] == until]:\n",
    "        phi.setValue(phi + nucleus(x0=fx * Lx, y0=fy * Ly, r0=1.1 * rc))\n",
    "        phi.setValue(1., where=phi > 1.)\n",
    "              \n",
    "    phiViewer.plot()\n",
    "    labelViewer.plot()\n",
    "    t, f, N, FE = fp.numerix.array(stats).T\n",
    "    \n",
    "    avrline.set_xdata(log10(t))\n",
    "    avrline.set_ydata(log10(-log10(1-f)))\n",
    "    \n",
    "    numline.set_xdata(t)\n",
    "    numline.set_ydata(N)"
   ]
  },
  {
   "cell_type": "code",
   "execution_count": null,
   "metadata": {},
   "outputs": [],
   "source": []
  }
 ],
 "metadata": {
  "kernelspec": {
   "display_name": "Python 3",
   "language": "python",
   "name": "python3"
  },
  "language_info": {
   "codemirror_mode": {
    "name": "ipython",
    "version": 3
   },
   "file_extension": ".py",
   "mimetype": "text/x-python",
   "name": "python",
   "nbconvert_exporter": "python",
   "pygments_lexer": "ipython3",
   "version": "3.6.7"
  },
  "toc": {
   "base_numbering": "1",
   "nav_menu": {},
   "number_sections": false,
   "sideBar": true,
   "skip_h1_title": false,
   "title_cell": "Table of Contents",
   "title_sidebar": "Contents",
   "toc_cell": false,
   "toc_position": {
    "height": "calc(100% - 180px)",
    "left": "10px",
    "top": "150px",
    "width": "299.078px"
   },
   "toc_section_display": true,
   "toc_window_display": true
  }
 },
 "nbformat": 4,
 "nbformat_minor": 2
}
