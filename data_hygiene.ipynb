{
 "cells": [
  {
   "cell_type": "markdown",
   "metadata": {},
   "source": [
    "Clean up Sumatra records. Keep a record of what was done by using [freeze](https://jupyter-contrib-nbextensions.readthedocs.io/en/latest/nbextensions/freeze/readme.html)."
   ]
  },
  {
   "cell_type": "code",
   "execution_count": 1,
   "metadata": {
    "ExecuteTime": {
     "end_time": "2020-01-31T16:51:47.697350Z",
     "start_time": "2020-01-31T16:51:40.086267Z"
    }
   },
   "outputs": [],
   "source": [
    "%matplotlib inline\n",
    "from matplotlib import pyplot as plt"
   ]
  },
  {
   "cell_type": "code",
   "execution_count": 2,
   "metadata": {
    "ExecuteTime": {
     "end_time": "2020-01-31T16:51:47.707525Z",
     "start_time": "2020-01-31T16:51:47.701346Z"
    }
   },
   "outputs": [],
   "source": [
    "import glob\n",
    "import os\n",
    "import shutil"
   ]
  },
  {
   "cell_type": "code",
   "execution_count": 5,
   "metadata": {
    "ExecuteTime": {
     "end_time": "2020-01-31T16:54:25.271645Z",
     "start_time": "2020-01-31T16:54:25.265389Z"
    }
   },
   "outputs": [],
   "source": [
    "from sumatreant import load_sumatreant"
   ]
  },
  {
   "cell_type": "code",
   "execution_count": 3,
   "metadata": {
    "ExecuteTime": {
     "end_time": "2020-01-31T16:51:48.121639Z",
     "start_time": "2020-01-31T16:51:47.712539Z"
    }
   },
   "outputs": [],
   "source": [
    "import datreant as dtr"
   ]
  },
  {
   "cell_type": "code",
   "execution_count": 5,
   "metadata": {
    "ExecuteTime": {
     "end_time": "2020-01-31T16:20:08.124583Z",
     "start_time": "2020-01-31T16:20:05.151009Z"
    },
    "deletable": false,
    "editable": false,
    "run_control": {
     "frozen": true
    }
   },
   "outputs": [],
   "source": [
    "!python /data/guyer/miniconda3/envs/petsc37/lib/python3.7/site-packages/datreant/scripts/datreant_07to1.py Data/*"
   ]
  },
  {
   "cell_type": "code",
   "execution_count": 14,
   "metadata": {
    "ExecuteTime": {
     "end_time": "2020-01-31T16:42:08.175927Z",
     "start_time": "2020-01-31T16:42:08.150004Z"
    },
    "deletable": false,
    "editable": false,
    "run_control": {
     "frozen": true
    }
   },
   "outputs": [],
   "source": [
    "tr = dtr.discover(\"Data/\")"
   ]
  },
  {
   "cell_type": "code",
   "execution_count": 21,
   "metadata": {
    "ExecuteTime": {
     "end_time": "2020-01-31T16:47:29.802357Z",
     "start_time": "2020-01-31T16:47:22.423088Z"
    },
    "deletable": false,
    "editable": false,
    "run_control": {
     "frozen": true
    }
   },
   "outputs": [],
   "source": [
    "tr.categories['smt_project'] = \"benchmark8\""
   ]
  },
  {
   "cell_type": "code",
   "execution_count": 6,
   "metadata": {
    "ExecuteTime": {
     "end_time": "2020-01-31T16:54:33.842877Z",
     "start_time": "2020-01-31T16:54:28.331060Z"
    }
   },
   "outputs": [
    {
     "name": "stderr",
     "output_type": "stream",
     "text": [
      "/data/guyer/sumatra/sumatra/programs.py:77: Warning: /data/guyer/miniconda3/envs/fipy/bin/mpiexec could not be found. Please supply the path to the /data/guyer/miniconda3/envs/fipy/bin/mpiexec executable.\n",
      "  warnings.warn(errmsg)\n",
      "/data/guyer/sumatra/sumatra/programs.py:77: Warning: Python could not be found. Please supply the path to the /tmp/guyer/miniconda2/envs/cluster_fipy/bin/python executable.\n",
      "  warnings.warn(errmsg)\n",
      "/data/guyer/sumatra/sumatra/parameters.py:156: YAMLLoadWarning: calling yaml.load() without Loader=... is deprecated, as the default Loader is unsafe. Please read https://msg.pyyaml.org/load for full details.\n",
      "  self.values = yaml.load(initialiser)\n",
      "/data/guyer/sumatra/sumatra/programs.py:77: Warning: /tmp/guyer/miniconda2/envs/cluster_fipy/bin/mpiexec could not be found. Please supply the path to the /tmp/guyer/miniconda2/envs/cluster_fipy/bin/mpiexec executable.\n",
      "  warnings.warn(errmsg)\n"
     ]
    }
   ],
   "source": [
    "df = load_sumatreant(\"benchmark8\")"
   ]
  },
  {
   "cell_type": "markdown",
   "metadata": {},
   "source": [
    "## `_running_`"
   ]
  },
  {
   "cell_type": "code",
   "execution_count": 9,
   "metadata": {
    "ExecuteTime": {
     "end_time": "2020-01-31T17:44:46.293770Z",
     "start_time": "2020-01-31T17:44:46.284322Z"
    }
   },
   "outputs": [],
   "source": [
    "running = df[df['tags'].map(lambda x: '_running_' in x)]"
   ]
  },
  {
   "cell_type": "code",
   "execution_count": 10,
   "metadata": {
    "ExecuteTime": {
     "end_time": "2020-01-31T17:44:48.844441Z",
     "start_time": "2020-01-31T17:44:48.835245Z"
    }
   },
   "outputs": [
    {
     "data": {
      "text/plain": [
       "9"
      ]
     },
     "execution_count": 10,
     "metadata": {},
     "output_type": "execute_result"
    }
   ],
   "source": [
    "len(running)"
   ]
  },
  {
   "cell_type": "code",
   "execution_count": 11,
   "metadata": {
    "ExecuteTime": {
     "end_time": "2020-01-31T17:44:55.016649Z",
     "start_time": "2020-01-31T17:44:54.975784Z"
    }
   },
   "outputs": [
    {
     "data": {
      "text/html": [
       "<div>\n",
       "<style scoped>\n",
       "    .dataframe tbody tr th:only-of-type {\n",
       "        vertical-align: middle;\n",
       "    }\n",
       "\n",
       "    .dataframe tbody tr th {\n",
       "        vertical-align: top;\n",
       "    }\n",
       "\n",
       "    .dataframe thead th {\n",
       "        text-align: right;\n",
       "    }\n",
       "</style>\n",
       "<table border=\"1\" class=\"dataframe\">\n",
       "  <thead>\n",
       "    <tr style=\"text-align: right;\">\n",
       "      <th></th>\n",
       "      <th>datastore</th>\n",
       "      <th>dependencies</th>\n",
       "      <th>diff</th>\n",
       "      <th>duration</th>\n",
       "      <th>executable</th>\n",
       "      <th>input_data</th>\n",
       "      <th>input_datastore</th>\n",
       "      <th>launch_mode</th>\n",
       "      <th>main_file</th>\n",
       "      <th>outcome</th>\n",
       "      <th>...</th>\n",
       "      <th>factor</th>\n",
       "      <th>restart</th>\n",
       "      <th>savetime</th>\n",
       "      <th>sumatra_label</th>\n",
       "      <th>totaltime</th>\n",
       "      <th>numnuclei</th>\n",
       "      <th>checkpoint</th>\n",
       "      <th>radius</th>\n",
       "      <th>--restart</th>\n",
       "      <th>smt_project</th>\n",
       "    </tr>\n",
       "    <tr>\n",
       "      <th>label</th>\n",
       "      <th></th>\n",
       "      <th></th>\n",
       "      <th></th>\n",
       "      <th></th>\n",
       "      <th></th>\n",
       "      <th></th>\n",
       "      <th></th>\n",
       "      <th></th>\n",
       "      <th></th>\n",
       "      <th></th>\n",
       "      <th></th>\n",
       "      <th></th>\n",
       "      <th></th>\n",
       "      <th></th>\n",
       "      <th></th>\n",
       "      <th></th>\n",
       "      <th></th>\n",
       "      <th></th>\n",
       "      <th></th>\n",
       "      <th></th>\n",
       "      <th></th>\n",
       "    </tr>\n",
       "  </thead>\n",
       "  <tbody>\n",
       "  </tbody>\n",
       "</table>\n",
       "<p>0 rows × 37 columns</p>\n",
       "</div>"
      ],
      "text/plain": [
       "Empty DataFrame\n",
       "Columns: [datastore, dependencies, diff, duration, executable, input_data, input_datastore, launch_mode, main_file, outcome, output_data, parameters, platforms, reason, repeats, repository, script_arguments, stdout_stderr, tags, timestamp, user, version, Lx, Ly, checkpoint_interval, dt, dx, factor, restart, savetime, sumatra_label, totaltime, numnuclei, checkpoint, radius, --restart, smt_project]\n",
       "Index: []\n",
       "\n",
       "[0 rows x 37 columns]"
      ]
     },
     "execution_count": 11,
     "metadata": {},
     "output_type": "execute_result"
    }
   ],
   "source": [
    "running[running.stdout_stderr != \"Not yet captured.\"]"
   ]
  },
  {
   "cell_type": "code",
   "execution_count": 12,
   "metadata": {
    "ExecuteTime": {
     "end_time": "2020-01-31T17:45:33.738534Z",
     "start_time": "2020-01-31T17:45:33.719337Z"
    }
   },
   "outputs": [
    {
     "name": "stdout",
     "output_type": "stream",
     "text": [
      "[u'Data/0fb3c4956568/stats.txt', u'Data/0fb3c4956568/t=0.08.tar.gz']\n",
      "[u'Data/25645475dafd/t=0.0.tar.gz', u'Data/25645475dafd/t=500.0.tar.gz', u'Data/25645475dafd/t=1000.0.tar.gz', u'Data/25645475dafd/t=1500.0.tar.gz', u'Data/25645475dafd/stats.txt', u'Data/25645475dafd/t=2000.0.tar.gz']\n",
      "[u'Data/3b9c156317ab/t=0.0.tar.gz', u'Data/3b9c156317ab/t=500.0.tar.gz', u'Data/3b9c156317ab/t=1000.0.tar.gz', u'Data/3b9c156317ab/t=1500.0.tar.gz', u'Data/3b9c156317ab/stats.txt', u'Data/3b9c156317ab/t=2000.0.tar.gz']\n",
      "[u'Data/65ac831fdaaf/stats.txt', u'Data/65ac831fdaaf/t=0.0.tar.gz', u'Data/65ac831fdaaf/nucleii.txt']\n",
      "[u'Data/a8d8c8c53199/t=0.0.tar.gz', u'Data/a8d8c8c53199/nucleii.txt', u'Data/a8d8c8c53199/t=4.0.tar.gz', u'Data/a8d8c8c53199/t=8.0.tar.gz', u'Data/a8d8c8c53199/t=12.0.tar.gz', u'Data/a8d8c8c53199/t=16.0.tar.gz', u'Data/a8d8c8c53199/t=20.0.tar.gz', u'Data/a8d8c8c53199/t=24.0.tar.gz', u'Data/a8d8c8c53199/t=28.0.tar.gz', u'Data/a8d8c8c53199/t=32.0.tar.gz', u'Data/a8d8c8c53199/t=36.0.tar.gz', u'Data/a8d8c8c53199/t=40.0.tar.gz', u'Data/a8d8c8c53199/t=44.0.tar.gz', u'Data/a8d8c8c53199/t=48.0.tar.gz', u'Data/a8d8c8c53199/t=52.0.tar.gz', u'Data/a8d8c8c53199/t=56.0.tar.gz', u'Data/a8d8c8c53199/stats.txt', u'Data/a8d8c8c53199/t=60.0.tar.gz']\n",
      "[u'Data/b71bc7590077/t=384.0.tar.gz', u'Data/b71bc7590077/nucleii.txt', u'Data/b71bc7590077/t=388.0.tar.gz', u'Data/b71bc7590077/t=392.0.tar.gz', u'Data/b71bc7590077/t=396.0.tar.gz', u'Data/b71bc7590077/t=400.0.tar.gz', u'Data/b71bc7590077/t=404.0.tar.gz', u'Data/b71bc7590077/t=408.0.tar.gz', u'Data/b71bc7590077/t=412.0.tar.gz', u'Data/b71bc7590077/t=416.0.tar.gz', u'Data/b71bc7590077/t=420.0.tar.gz', u'Data/b71bc7590077/t=424.0.tar.gz', u'Data/b71bc7590077/t=428.0.tar.gz', u'Data/b71bc7590077/t=432.0.tar.gz', u'Data/b71bc7590077/t=436.0.tar.gz', u'Data/b71bc7590077/t=440.0.tar.gz', u'Data/b71bc7590077/t=444.0.tar.gz', u'Data/b71bc7590077/t=448.0.tar.gz', u'Data/b71bc7590077/t=452.0.tar.gz', u'Data/b71bc7590077/t=456.0.tar.gz', u'Data/b71bc7590077/t=460.0.tar.gz', u'Data/b71bc7590077/t=464.0.tar.gz', u'Data/b71bc7590077/t=468.0.tar.gz', u'Data/b71bc7590077/t=472.0.tar.gz', u'Data/b71bc7590077/t=476.0.tar.gz', u'Data/b71bc7590077/t=480.0.tar.gz', u'Data/b71bc7590077/t=484.0.tar.gz', u'Data/b71bc7590077/t=488.0.tar.gz', u'Data/b71bc7590077/t=492.0.tar.gz', u'Data/b71bc7590077/t=496.0.tar.gz', u'Data/b71bc7590077/t=500.0.tar.gz', u'Data/b71bc7590077/t=504.0.tar.gz', u'Data/b71bc7590077/t=508.0.tar.gz', u'Data/b71bc7590077/stats.txt', u'Data/b71bc7590077/t=512.0.tar.gz']\n",
      "[u'Data/bf00cede67ae/stats.txt', u'Data/bf00cede67ae/t=0.08.tar.gz']\n",
      "[u'Data/c6784dcd8e50/stats.txt', u'Data/c6784dcd8e50/t=0.08.tar.gz']\n",
      "[u'Data/e64424306261/t=0.0.tar.gz', u'Data/e64424306261/t=500.0.tar.gz', u'Data/e64424306261/t=1000.0.tar.gz', u'Data/e64424306261/t=1500.0.tar.gz', u'Data/e64424306261/stats.txt', u'Data/e64424306261/t=2000.0.tar.gz']\n"
     ]
    }
   ],
   "source": [
    "for label in running.index:\n",
    "    g = glob.glob(os.path.join(\"Data\", label, \"*\"))\n",
    "    [g.remove(gg) for gg in glob.glob(os.path.join(\"Data\", label, \"Sumatra.*.json\"))]\n",
    "    [g.remove(gg) for gg in glob.glob(os.path.join(\"Data\", label, \"Treant.*.json\"))]\n",
    "    [g.remove(gg) for gg in glob.glob(os.path.join(\"Data\", label, \"mprofile.dat\"))]\n",
    "    if g:\n",
    "        print(g)"
   ]
  },
  {
   "cell_type": "markdown",
   "metadata": {},
   "source": [
    "Get rid of all `_running_` jobs if they only have (partial) Sumatra and Treant information"
   ]
  },
  {
   "cell_type": "code",
   "execution_count": 13,
   "metadata": {
    "ExecuteTime": {
     "end_time": "2020-01-31T17:46:32.082247Z",
     "start_time": "2020-01-31T17:46:32.067177Z"
    }
   },
   "outputs": [],
   "source": [
    "for label in running.index:\n",
    "    g = glob.glob(os.path.join(\"Data\", label, \"*\"))\n",
    "    [g.remove(gg) for gg in glob.glob(os.path.join(\"Data\", label, \"Sumatra.*.json\"))]\n",
    "    [g.remove(gg) for gg in glob.glob(os.path.join(\"Data\", label, \"Treant.*.json\"))]\n",
    "    if not g:\n",
    "        print label, \"MT\"\n",
    "        shutil.rmtree(os.path.join(\"Data\", label))"
   ]
  },
  {
   "cell_type": "code",
   "execution_count": 14,
   "metadata": {
    "ExecuteTime": {
     "end_time": "2020-01-31T17:46:46.443668Z",
     "start_time": "2020-01-31T17:46:46.426421Z"
    }
   },
   "outputs": [
    {
     "name": "stdout",
     "output_type": "stream",
     "text": [
      "[u'Data/0fb3c4956568/stats.txt', u'Data/0fb3c4956568/t=0.08.tar.gz']\n",
      "[u'Data/25645475dafd/t=0.0.tar.gz', u'Data/25645475dafd/t=500.0.tar.gz', u'Data/25645475dafd/t=1000.0.tar.gz', u'Data/25645475dafd/t=1500.0.tar.gz', u'Data/25645475dafd/stats.txt', u'Data/25645475dafd/t=2000.0.tar.gz']\n",
      "[u'Data/3b9c156317ab/t=0.0.tar.gz', u'Data/3b9c156317ab/t=500.0.tar.gz', u'Data/3b9c156317ab/t=1000.0.tar.gz', u'Data/3b9c156317ab/t=1500.0.tar.gz', u'Data/3b9c156317ab/stats.txt', u'Data/3b9c156317ab/t=2000.0.tar.gz']\n",
      "[u'Data/65ac831fdaaf/stats.txt', u'Data/65ac831fdaaf/t=0.0.tar.gz', u'Data/65ac831fdaaf/nucleii.txt']\n",
      "[u'Data/a8d8c8c53199/t=0.0.tar.gz', u'Data/a8d8c8c53199/nucleii.txt', u'Data/a8d8c8c53199/t=4.0.tar.gz', u'Data/a8d8c8c53199/t=8.0.tar.gz', u'Data/a8d8c8c53199/t=12.0.tar.gz', u'Data/a8d8c8c53199/t=16.0.tar.gz', u'Data/a8d8c8c53199/t=20.0.tar.gz', u'Data/a8d8c8c53199/t=24.0.tar.gz', u'Data/a8d8c8c53199/t=28.0.tar.gz', u'Data/a8d8c8c53199/t=32.0.tar.gz', u'Data/a8d8c8c53199/t=36.0.tar.gz', u'Data/a8d8c8c53199/t=40.0.tar.gz', u'Data/a8d8c8c53199/t=44.0.tar.gz', u'Data/a8d8c8c53199/t=48.0.tar.gz', u'Data/a8d8c8c53199/t=52.0.tar.gz', u'Data/a8d8c8c53199/t=56.0.tar.gz', u'Data/a8d8c8c53199/stats.txt', u'Data/a8d8c8c53199/t=60.0.tar.gz']\n",
      "[u'Data/b71bc7590077/t=384.0.tar.gz', u'Data/b71bc7590077/nucleii.txt', u'Data/b71bc7590077/t=388.0.tar.gz', u'Data/b71bc7590077/t=392.0.tar.gz', u'Data/b71bc7590077/t=396.0.tar.gz', u'Data/b71bc7590077/t=400.0.tar.gz', u'Data/b71bc7590077/t=404.0.tar.gz', u'Data/b71bc7590077/t=408.0.tar.gz', u'Data/b71bc7590077/t=412.0.tar.gz', u'Data/b71bc7590077/t=416.0.tar.gz', u'Data/b71bc7590077/t=420.0.tar.gz', u'Data/b71bc7590077/t=424.0.tar.gz', u'Data/b71bc7590077/t=428.0.tar.gz', u'Data/b71bc7590077/t=432.0.tar.gz', u'Data/b71bc7590077/t=436.0.tar.gz', u'Data/b71bc7590077/t=440.0.tar.gz', u'Data/b71bc7590077/t=444.0.tar.gz', u'Data/b71bc7590077/t=448.0.tar.gz', u'Data/b71bc7590077/t=452.0.tar.gz', u'Data/b71bc7590077/t=456.0.tar.gz', u'Data/b71bc7590077/t=460.0.tar.gz', u'Data/b71bc7590077/t=464.0.tar.gz', u'Data/b71bc7590077/t=468.0.tar.gz', u'Data/b71bc7590077/t=472.0.tar.gz', u'Data/b71bc7590077/t=476.0.tar.gz', u'Data/b71bc7590077/t=480.0.tar.gz', u'Data/b71bc7590077/t=484.0.tar.gz', u'Data/b71bc7590077/t=488.0.tar.gz', u'Data/b71bc7590077/t=492.0.tar.gz', u'Data/b71bc7590077/t=496.0.tar.gz', u'Data/b71bc7590077/t=500.0.tar.gz', u'Data/b71bc7590077/t=504.0.tar.gz', u'Data/b71bc7590077/t=508.0.tar.gz', u'Data/b71bc7590077/stats.txt', u'Data/b71bc7590077/t=512.0.tar.gz']\n",
      "[u'Data/bf00cede67ae/stats.txt', u'Data/bf00cede67ae/t=0.08.tar.gz']\n",
      "[u'Data/c6784dcd8e50/stats.txt', u'Data/c6784dcd8e50/t=0.08.tar.gz']\n",
      "[u'Data/e64424306261/t=0.0.tar.gz', u'Data/e64424306261/t=500.0.tar.gz', u'Data/e64424306261/t=1000.0.tar.gz', u'Data/e64424306261/t=1500.0.tar.gz', u'Data/e64424306261/stats.txt', u'Data/e64424306261/t=2000.0.tar.gz']\n"
     ]
    }
   ],
   "source": [
    "for label in running.index:\n",
    "    g = glob.glob(os.path.join(\"Data\", label, \"*\"))\n",
    "    [g.remove(gg) for gg in glob.glob(os.path.join(\"Data\", label, \"Sumatra.*.json\"))]\n",
    "    [g.remove(gg) for gg in glob.glob(os.path.join(\"Data\", label, \"Treant.*.json\"))]\n",
    "    if g:\n",
    "        print g"
   ]
  },
  {
   "cell_type": "markdown",
   "metadata": {},
   "source": [
    "Even though the remainder have contents, both `mprofile.dat` memory profiles and some solution outputs, the fact that run metadata is incomplete or missing renders these of limited use. Purge:"
   ]
  },
  {
   "cell_type": "code",
   "execution_count": 47,
   "metadata": {
    "deletable": false,
    "editable": false,
    "run_control": {
     "frozen": true
    }
   },
   "outputs": [
    {
     "name": "stdout",
     "output_type": "stream",
     "text": [
      "0002afcb8c89\n",
      "003c784dd408\n",
      "006774bbe6db\n",
      "0187e7f317da\n",
      "018b8296ea04\n",
      "019f0ab16ca5\n",
      "021eac431cb2\n",
      "023be805c508\n",
      "026f10598657\n",
      "02740d2105fc\n",
      "028d5b411bf3\n",
      "02ba0d595ea2\n",
      "0374d754246f\n",
      "03a7aee6c8b6\n",
      "03ef1bedc840\n",
      "03f950cad3de\n",
      "04378e34f94c\n",
      "047733f5dcb6\n",
      "04fb98f59bff\n",
      "055952dbb126\n",
      "05e6d9083a21\n",
      "05eb4d17a0e4\n",
      "061ea4d1d2f8\n",
      "062039e3ab4d\n",
      "06757011ca4b\n",
      "06d749896a6b\n",
      "06e85ebd0194\n",
      "06f1dee7c38a\n",
      "07383d6af751\n",
      "074560bc818e\n",
      "077d3b0240aa\n",
      "07a3ddd18baa\n",
      "08091618ae33\n",
      "08646835cd27\n",
      "0867a24ef865\n",
      "08c9589e77f1\n",
      "08f2cbf7cba2\n",
      "094352d31b31\n",
      "09631e6a516f\n",
      "09c7b23c3493\n",
      "0a164f0f5e5b\n",
      "0a3799310975\n",
      "0a87270101ba\n",
      "0b0e7e023b5c\n",
      "0b197cfbd8e4\n",
      "0b1a26867b2e\n",
      "0b6aa1175e6c\n",
      "0b71ce21354d\n",
      "0b84ba974c01\n",
      "0b87fbbbe0ad\n",
      "0b8d0c2d4dc6\n",
      "0bcb41845c5c\n",
      "0c284b1e82b2\n",
      "0c70f959c913\n",
      "0cef76020db2\n",
      "0cf521b885e3\n",
      "0e036723b837\n",
      "0e0e3f4acd4c\n",
      "0e3923abca26\n",
      "0f18bdf1f2a6\n",
      "1176655536ce\n",
      "11b90888b939\n",
      "11db8ad2203c\n",
      "11e9effd0d95\n",
      "1265a618cb88\n",
      "12db03848956\n",
      "132475c04969\n",
      "141997b06ec5\n",
      "1420257d85b1\n",
      "150216dbec08\n",
      "154fc4746fd5\n",
      "1637b050d382\n",
      "169afd417ac6\n",
      "172e5215a0d6\n",
      "174bc130f29b\n",
      "17554db0ed20\n",
      "17593ed927f3\n",
      "17c0cbe59280\n",
      "181a997b4ccc\n",
      "1848a4fe8c8d\n",
      "192c70ca25ac\n",
      "197567544b46\n",
      "19ad7d30079e\n",
      "1a093447c52b\n",
      "1b477a91c9ee\n",
      "1bc68c701f62\n",
      "1bed8b998947\n",
      "1bf1afbb8aa0\n",
      "1c13986c6b56\n",
      "1c3dba7e1802\n",
      "1ceb179000fe\n",
      "1cf70d23fb52\n",
      "1cfbacd608bc\n",
      "1d2802950d09\n",
      "1d2aa497d4ac\n",
      "1d5c976f5815\n",
      "1d9f4dffcabf\n",
      "1e00cde083d9\n",
      "1e2864f69018\n",
      "1e326211e8e1\n",
      "1e6e840311d2\n",
      "1e8714be7557\n",
      "1eb0d17159dd\n",
      "1fbea67e2fa4\n",
      "20ab176092e2\n",
      "20e296c7f631\n",
      "21098af3e54e\n",
      "219d526ac2cb\n",
      "21a8b5eb1fc1\n",
      "21d428ddd542\n",
      "21fe9969ef44\n",
      "2288d0473dbf\n",
      "22ad88c9fb28\n",
      "22e6b7b1bfc6\n",
      "22f9a55b612a\n",
      "230797325189\n",
      "231286f152a1\n",
      "238e99212b19\n",
      "23ce5134b89f\n",
      "240b0f326140\n",
      "245c374bdc4c\n",
      "24bc96ba78ac\n",
      "2528b79574ad\n",
      "253304adde2a\n",
      "259fa7aae993\n",
      "25b09ce5facb\n",
      "261b96b5db40\n",
      "2672d58e3de6\n",
      "27586cd25f73\n",
      "278d11507c7a\n",
      "27de38a83b52\n",
      "29ba9cde18f6\n",
      "29d399e7ea24\n",
      "2a07d46897b9\n",
      "2ab8e5754342\n",
      "2afea5a6a746\n",
      "2b3af71c001e\n",
      "2b5a3b486e9b\n",
      "2beb680a101d\n",
      "2c3e273cf4f1\n",
      "2c5201161012\n",
      "2c67310e408d\n",
      "2c80c1980056\n",
      "2cc54e7857f7\n",
      "2cec0121a452\n",
      "2d4741476fa7\n",
      "2d4a01b3bc45\n",
      "2d4d83405343\n",
      "2de2744ab9f5\n",
      "2e0aa11186ef\n",
      "2e5e10c7286d\n",
      "2f41fa1f4ef0\n",
      "2f84292984cb\n",
      "2fadbd757b03\n",
      "2fbf5f566ede\n",
      "30090e538da8\n",
      "3080459803eb\n",
      "30af89386bb3\n",
      "317563df1f98\n",
      "31d226a4d646\n",
      "32350d729e6e\n",
      "3332ca08bf6e\n",
      "33808ab9fe19\n",
      "339e8e1260ee\n",
      "34d70261b69b\n",
      "34eac548146b\n",
      "352112549135\n",
      "3547a7777441\n",
      "358206052bbb\n",
      "360162323263\n",
      "3617c043656d\n",
      "367090f622ba\n",
      "36f2a7bee8bd\n",
      "3748dfa78274\n",
      "376126c69439\n",
      "37631708d934\n",
      "379553a5d749\n",
      "37f6a1399768\n",
      "3818241b4de3\n",
      "3872a9d13c72\n",
      "387f6db06aba\n",
      "38f8f945fc0b\n",
      "392991a3a19e\n",
      "3980b97b6016\n",
      "3a4a14ebd9d4\n",
      "3a96a541714d\n",
      "3b24401b9bc0\n",
      "3b3302ddccb0\n",
      "3b5b92158a02\n",
      "3bd331bf0a1f\n",
      "3c1b8bb04e75\n",
      "3ce47e3d6ecb\n",
      "3d3fe0a069a4\n",
      "3df718cd2e4f\n",
      "3e268c3ef54c\n",
      "3e37b0f1b54c\n",
      "3e6a670dbaa0\n",
      "3e969f47bd3e\n",
      "3ed6af4ad7b2\n",
      "3ed8f29e880f\n",
      "3effec878760\n",
      "3f49fb50b3a5\n",
      "3f8118747270\n",
      "3ff9b1f68350\n",
      "40f11b5e5ada\n",
      "40f3d5efa32e\n",
      "4208a3624972\n",
      "421d80d750b9\n",
      "42a17c6bfe8c\n",
      "432ca0740614\n",
      "438782d699ef\n",
      "43ae9e0915ff\n",
      "43bcd8e28c9f\n",
      "440673d480b7\n",
      "4432748bc7cc\n",
      "446282f5cad5\n",
      "453924380748\n",
      "4587dad7bcb5\n",
      "459623479f8d\n",
      "45a7791966db\n",
      "45f44bd28309\n",
      "4682b6f9a6a7\n",
      "46a18083e095\n",
      "4709cd232ea9\n",
      "475c0ef89a6f\n",
      "475d01f2d684\n",
      "477af5515de8\n",
      "47eac8152656\n",
      "4930dece8c3e\n",
      "4a222ff5b1b2\n",
      "4a36136e1dd5\n",
      "4a552b88d5f8\n",
      "4ae694512bb0\n",
      "4b4b6842056c\n",
      "4b58a0c2f8e2\n",
      "4c35642649d0\n",
      "4c3a238ee2f4\n",
      "4c6084d104b7\n",
      "4cc5662e7098\n",
      "4d447bf7d6b0\n",
      "4da9b6c14e5e\n",
      "4dff97e4bb7f\n",
      "4e1979fb206c\n",
      "4e2d3bad5150\n",
      "4e5e593f53b0\n",
      "4ea33a9a2b78\n",
      "4f5b51516e29\n",
      "4fe51c4e6f43\n",
      "503f23158fe4\n",
      "50574e353eab\n",
      "50a084cb41ee\n",
      "50a3636e57eb\n",
      "51fd6f8dbd31\n",
      "52d65376e851\n",
      "531499815d62\n",
      "533cb7b7ce88\n",
      "535df15a4255\n",
      "5367038ee6bf\n",
      "53ad64105418\n",
      "53ca83183bb8\n",
      "54260ac14bd7\n",
      "543743db6e99\n",
      "554dce62128e\n",
      "55527db0dee3\n",
      "558e73987cd5\n",
      "55ad5457538b\n",
      "56ab5d0e2390\n",
      "56fbf9372d9e\n",
      "570cd47023aa\n",
      "57f109e53b66\n",
      "587627348d5f\n",
      "58f44db86e28\n",
      "5953d9a57953\n",
      "5a051eb9d057\n",
      "5a627e24400d\n",
      "5a8d926c5a22\n",
      "5aad49b67c46\n",
      "5add7259f52b\n",
      "5ae5b8a2e3aa\n",
      "5b0da864ed04\n",
      "5b0fa63d14f0\n",
      "5b6293eb6d81\n",
      "5b8153ca6fc9\n",
      "5b92a7913812\n",
      "5c8479aaef37\n",
      "5cda8c50497a\n",
      "5d518bfce0ef\n",
      "5d5bcdb8e0f9\n",
      "5dbce588a7ae\n",
      "5dc8b4eb52f9\n",
      "5ebc4d87cb66\n",
      "5ed49d855f81\n",
      "5f4fadb0e8d3\n",
      "5f5df118f9bf\n",
      "5f8310a20937\n",
      "6067f15ef410\n",
      "6081f54c67cf\n",
      "60bc79743c1f\n",
      "610a7ac894b8\n",
      "611c174ef2d0\n",
      "6148fef223f7\n",
      "61df719ec89a\n",
      "630fd54d285d\n",
      "631e74eb919f\n",
      "63aba6246af8\n",
      "63bf80e95696\n",
      "63cf4964d2c1\n",
      "63dade5ca5c9\n",
      "640353441fa9\n",
      "6410b189990a\n",
      "643053776de6\n",
      "6445bcb09f5e\n",
      "648875f9502b\n",
      "65188ad86ce4\n",
      "659f7431230e\n",
      "65e7517ebfd1\n",
      "66016967a114\n",
      "663bbb18c43a\n",
      "66843c6c9200\n",
      "672825fbf1df\n",
      "674b0ed09e13\n",
      "679e7160791b\n",
      "6832078a5abb\n",
      "684fa9f4d02c\n",
      "689c3f231bb9\n",
      "68b20ff7a75b\n",
      "68cfeee308fe\n",
      "6aa6e2936657\n",
      "6af63f9dd57d\n",
      "6b34fd80345a\n",
      "6b90a90a982b\n",
      "6c57d1292d9b\n",
      "6cc1e7c9ed99\n",
      "6cc693db16e0\n",
      "6dce3a93c4e2\n",
      "6e28bffcc313\n",
      "6e2eb61bfad3\n",
      "6e2ef717ebb1\n",
      "6e915e6529ab\n",
      "6ebb73b97cfd\n",
      "6ee85dbaeabc\n",
      "6f0b2230e7d9\n",
      "6f717c91f998\n",
      "6f8b24f8057b\n",
      "704788dc0e18\n",
      "70728bf592bb\n",
      "711bcd1352a7\n",
      "715c7b27f178\n",
      "71de4c07a91b\n",
      "72192c0b516a\n",
      "72642f5c0c34\n",
      "72865dafcde1\n",
      "72d89977dee7\n",
      "72ebe9eccefe\n",
      "739f3b916d52\n",
      "73d963f58924\n",
      "73f8182d2e6a\n",
      "7408e9e0fae2\n",
      "748e45d1eea7\n",
      "7548f3c988b1\n",
      "756a355b18a6\n",
      "75aadcd964ff\n",
      "75dcf832d59a\n",
      "75ef62c5e4c9\n",
      "75fec8cc59c9\n",
      "7664fc1957d4\n",
      "76a0c3ab110a\n",
      "7779afe7c386\n",
      "7796f3ece31e\n",
      "77c2e0d646ad\n",
      "78799c60fb6c\n",
      "78a9ca6d5a41\n",
      "78c25079eb41\n",
      "796036746be1\n",
      "7979e3da90d8\n",
      "798ad1515819\n",
      "79d213ded4d2\n",
      "79df09b81290\n",
      "7a144fa32261\n",
      "7a34735d065c\n",
      "7bdd5c5607fc\n",
      "7bea606b7fab\n",
      "7bffb15cfdb6\n",
      "7c211b244832\n",
      "7c78bb106220\n",
      "7ce716ca81e8\n",
      "7ce974299a81\n",
      "7d0d05ecefaa\n",
      "7d50c7c4d1d0\n",
      "7d8bfa04b088\n",
      "7e295d92fb20\n",
      "7e797ff59eae\n",
      "7e95727113fb\n",
      "7f1257311b3c\n",
      "7fa41d323081\n",
      "7fd24030502f\n",
      "8067a86c2d7b\n",
      "80c34d46bc8c\n",
      "80de439ba460\n",
      "80eaddbb42e7\n",
      "80ff0390b98a\n",
      "818670c011eb\n",
      "8199e8bdaf2e\n",
      "81ce63385932\n",
      "81f9c3dd9a7b\n",
      "82378088a576\n",
      "8268e2a721d3\n",
      "82a26df6bc93\n",
      "83365d22f8ca\n",
      "837a5f256603\n",
      "842ce56ae552\n",
      "846c80444b13\n",
      "84a3c34d14b4\n",
      "84d55fef8766\n",
      "85018218e0a9\n",
      "8541220a7352\n",
      "85d1df44ebee\n",
      "8616f7b9d847\n",
      "862936f28567\n",
      "87004a5a5136\n",
      "871e8bba3a13\n",
      "875c545a4065\n",
      "87d37677363e\n",
      "87f3f77899f6\n",
      "881387c33625\n",
      "8845426335b2\n",
      "88a506511363\n",
      "891b34fb5bd1\n",
      "89403a2bff96\n",
      "8943a3c80a47\n",
      "8944e11bcd19\n",
      "896ac2d7e38c\n",
      "896e05f0240d\n",
      "89d8ad06fc1e\n",
      "8a95a9ba2fa4\n",
      "8b44b239afc2\n",
      "8b58fd65cb04\n",
      "8be7f66f6332\n",
      "8c43f7bc10f5\n",
      "8cf9f22e7a44\n",
      "8d1068ff7cc2\n",
      "8d7171d8e572\n",
      "8d9a5cb6042d\n",
      "8e5414c98ca1\n",
      "8ea3773fb1fc\n",
      "8eb46e9fc5c0\n",
      "8edca968ebb8\n",
      "8f6d8ba738c7\n",
      "8fb47f846aa4\n",
      "8fc2a7395c88\n",
      "9011eb06ac25\n",
      "901917357e0c\n",
      "901d0c2f7c94\n",
      "9037f783240f\n",
      "908eb676843c\n",
      "9144797d8789\n",
      "915d8c9d466e\n",
      "916c6561d381\n",
      "916d1ca25b46\n",
      "91fedac81c52\n",
      "9242c2e3058e\n",
      "924bc2484f1c\n",
      "92799a15354e\n",
      "9319eed0141a\n",
      "93753badff30\n",
      "945caf0ba172\n",
      "947d326239a3\n",
      "949ad7ab45ed\n",
      "9514c16ccc63\n",
      "953c92a6e281\n",
      "95e317ae11a8\n",
      "95fcf2ebaaa3\n",
      "96239c798b61\n",
      "9636d6e70eef\n",
      "96741f88531b\n",
      "969298b3b63d\n",
      "96b3858879ba\n",
      "96ebd702704b\n",
      "9725257917fa\n",
      "9728ea283d4d\n",
      "9739a63250d9\n",
      "9746c837749c\n",
      "97adcb3ecb26\n",
      "97b41bd6b249\n",
      "97f952e3e043\n",
      "9845e399257a\n",
      "98c641aa1158\n",
      "9969f87d18ce\n",
      "997c471d6e12\n",
      "99ed0d1c5291\n",
      "9a257004d8df\n",
      "9a621cb8a388\n",
      "9b77a4485a07\n",
      "9bfd97e29cdc\n",
      "9ca481e429af\n",
      "9d1469c8cefc\n",
      "9d34eee9dbb0\n",
      "9d6e91a93567\n",
      "9e2e4f70956a\n",
      "9e568cc14ddf\n",
      "9e80577a921d\n",
      "9e8e35bdf680\n",
      "9f9297f4ca23\n",
      "9f946aa0d2d8\n",
      "9ff59f99eff0\n",
      "9ff78958546f\n",
      "a02084f89445\n",
      "a034e3abf644\n",
      "a06fe2aed885\n",
      "a0a7f2731981\n",
      "a0abea838d25\n",
      "a0dc6e146d74\n",
      "a14cff817791\n",
      "a1c1a5e1e385\n",
      "a1ee190f8277\n",
      "a21203c079f8\n",
      "a22e3b7a8abf\n",
      "a2f74f8ea999\n",
      "a362bd14e4b2\n",
      "a42deb8f7dd6\n",
      "a46a75f69abc\n",
      "a4a6722e8957\n",
      "a5126e1a6ec7\n",
      "a53cac7b045d\n",
      "a560a60e079d\n",
      "a57b8de3076e\n",
      "a5b97894261d\n",
      "a5f07215385b\n",
      "a5fa4ef44874\n",
      "a65974f2a75b\n",
      "a6c263f94c98\n",
      "a6e76e5aea78\n",
      "a73c341ea719\n",
      "a743d5931905\n",
      "a747c853d3cd\n",
      "a755d164304e\n",
      "a7a8765de8f8\n",
      "a7d4a1f0aec7\n",
      "a7efc136df26\n",
      "a846115a6652\n",
      "a8b5251d7aa7\n",
      "a9567e394a20\n",
      "a97d55209c74\n",
      "a9ab306fe3fc\n",
      "a9b18486bf01\n",
      "aa66a425682c\n",
      "aaa1429e12c4\n",
      "aab48be32ac8\n",
      "ab2ab2984ffb\n",
      "ab41f13dd9bf\n",
      "ab42de81b777\n",
      "ab5011b7df71\n",
      "ac1282523740\n",
      "ac1f55c5172b\n",
      "ac68f5816763\n",
      "ac766f5ee57b\n",
      "ac879b2c9ee0\n",
      "ae411c49a741\n",
      "aeb42b2087d7\n",
      "aedd3fb4a510\n",
      "af3d2596e107\n",
      "afbf40a2e820\n",
      "afc1d8482393\n",
      "afc66f87e956\n",
      "afe22fe011d8\n",
      "b06f65cb1482\n",
      "b0accba2542e\n",
      "b0ed277d844f\n",
      "b0f9ffa851d6\n",
      "b1b3ee149fd7\n",
      "b252e8802b40\n",
      "b25b1edeca3e\n",
      "b2d7499d2226\n",
      "b30f517ebe36\n",
      "b312326f27b6\n",
      "b33bd88b22f3\n",
      "b38cf22b5964\n",
      "b404025f7b27\n",
      "b45a0043b8ae\n",
      "b4666ab41a7a\n",
      "b4c898af610d\n",
      "b4ceace2dcec\n",
      "b53d2e2f038c\n",
      "b55141e4966c\n",
      "b560c873b154\n",
      "b5ae0cf38029\n",
      "b5cad96346f6\n",
      "b5f67703070e\n",
      "b63ede9405c7\n",
      "b6953116cb5b\n",
      "b75c93ecb6f8\n",
      "b79df9d2fbc7\n",
      "b7e1ca94f48a\n",
      "b821cb460852\n",
      "b85434968bdd\n",
      "b87ca2896695\n",
      "b9412f3fa2b5\n",
      "b95a558663f1\n",
      "b96055bde356\n",
      "b980172883af\n",
      "ba0d0011faaf\n",
      "ba3fd54709e3\n",
      "ba54b3edb402\n",
      "ba7142b289d3\n",
      "ba717291843b\n",
      "ba7f5572f34b\n",
      "bafe69018112\n",
      "bb8d25cea0f5\n",
      "bbe373426ea3\n",
      "bbeb97f432b8\n",
      "bc5b822a04ba\n",
      "bc647b3e804e\n",
      "bcab3c25a423\n",
      "bce40982f730\n",
      "bd00460c182d\n",
      "bd93061a5281\n",
      "bdaa38d9d9f4\n",
      "bdb343b770f1\n",
      "bea4ce034f53\n",
      "bef1f3e77e8c\n",
      "bf1cec009ea7\n",
      "bf4746f00c4b\n",
      "bf98dec410b2\n",
      "bfb6f49e7fe4\n",
      "bfed918579db\n",
      "c062b45825b2\n",
      "c080696773da\n",
      "c0807bfb4d73\n",
      "c15e62c05768\n",
      "c1a62562a72c\n",
      "c1ed4d5d3c52\n",
      "c236c7ad82df\n",
      "c2564e19c97a\n",
      "c25de5342fef\n",
      "c297e9b9528c\n",
      "c2deb7757cec\n"
     ]
    },
    {
     "name": "stdout",
     "output_type": "stream",
     "text": [
      "c36132d53923\n",
      "c3d8c0123a71\n",
      "c3e18533e4b2\n",
      "c4435c229fc3\n",
      "c469bd11aae8\n",
      "c4e934c98e5c\n",
      "c540823bfc47\n",
      "c562da865d85\n",
      "c5aef04932d2\n",
      "c6a1ddfb8485\n",
      "c6af515d6a08\n",
      "c6e75d8bd5fe\n",
      "c70b21ab08b7\n",
      "c71c1996ea32\n",
      "c74faf970e7b\n",
      "c7d4fd052ed3\n",
      "c7f3f2bfdeba\n",
      "c7f5d5f52328\n",
      "c81f2125377e\n",
      "c8435397212d\n",
      "c876f4b52a7b\n",
      "c96a4a202195\n",
      "c9af4f5d047d\n",
      "c9eaa7ee7d61\n",
      "ca233bdbda82\n",
      "ca38c7784932\n",
      "ca4941868e16\n",
      "cafb48912813\n",
      "cb19c33deffa\n",
      "cb5f8b5a19d7\n",
      "cb68e950e737\n",
      "cb8605d53e6d\n",
      "cccf27bbd5e8\n",
      "ccf312abaaac\n",
      "cddef55ecf5f\n",
      "cdf47b18572c\n",
      "ce4d97ae095e\n",
      "ce8e6aff4141\n",
      "cea8beb1bcc7\n",
      "cf02c6403b97\n",
      "cf2aa60a0ab0\n",
      "cf3bae76f61b\n",
      "d027d17bea61\n",
      "d02c3a202bf9\n",
      "d08f7df17c41\n",
      "d091ab208556\n",
      "d0cec96710bb\n",
      "d0faf3f6a4f9\n",
      "d1a423393b05\n",
      "d1dfdbc3112e\n",
      "d211764bc935\n",
      "d2304ad34551\n",
      "d24afdc1b9f5\n",
      "d25e336d7f71\n",
      "d27491063152\n",
      "d287190a9993\n",
      "d2fa0531dfec\n",
      "d389b7057839\n",
      "d3d56dd4dc9e\n",
      "d3e3ad1c8a54\n",
      "d42478880b7e\n",
      "d4945a3b3d43\n",
      "d4ad0c9e23f1\n",
      "d54472826aae\n",
      "d56a26b5a29c\n",
      "d5f8f7b85256\n",
      "d60943dbe2b1\n",
      "d62cd103e006\n",
      "d694504d1113\n",
      "d6b6b7253de7\n",
      "d6e3600832a2\n",
      "d79ea331a86b\n",
      "d7db64d2e690\n",
      "d82a3efd31a2\n",
      "d8e71766479f\n",
      "d8ece5483317\n",
      "d954e8d5971e\n",
      "d96f9f52f4c9\n",
      "d9cc801bcedf\n",
      "d9d149d33b59\n",
      "da049ed0b352\n",
      "da3307b30688\n",
      "da7f5ab6fd63\n",
      "db61b6aea0ee\n",
      "dbaed38dce59\n",
      "dbd19e59a9ed\n",
      "dbea9fe771b3\n",
      "dc5b36835755\n",
      "dcf5b6760f6a\n",
      "dd085cee198c\n",
      "dd25e5fc5036\n",
      "dd3ceb3ce213\n",
      "dd59db6e041f\n",
      "dd9b5d7a0706\n",
      "dda39d826e13\n",
      "dda7e40f6f2a\n",
      "de141e9c4479\n",
      "de3bbc1ca8be\n",
      "de53ad78583e\n",
      "de5df53f4c4c\n",
      "dede0d105c90\n",
      "dee60ca08702\n",
      "df29baf19e6b\n",
      "dfaeea26822a\n",
      "e15755889638\n",
      "e1892c7ebf99\n",
      "e1a2a4385b3e\n",
      "e2845bc63eda\n",
      "e32b06dd73c2\n",
      "e369a4cc5d8a\n",
      "e36d4f8f60cc\n",
      "e38a7cf17d71\n",
      "e3e6f289850f\n",
      "e4667c41bb43\n",
      "e4e14001dc54\n",
      "e505d52d5172\n",
      "e57833d5bc8d\n",
      "e5d0e670a0b3\n",
      "e657b87aef5f\n",
      "e6906c91d695\n",
      "e696b41edd27\n",
      "e6e0bae1591e\n",
      "e6f7b03f21a7\n",
      "e7519d27cae8\n",
      "e78547f764e0\n",
      "e7ab8b21e377\n",
      "e8524fdc78b1\n",
      "e8a9a8606026\n",
      "e96e430e6d1c\n",
      "e99e97e58877\n",
      "e9df793125ff\n",
      "ea0d41b0cee7\n",
      "ea270c10d04d\n",
      "ea30837e233e\n",
      "ea91cbd017a8\n",
      "ebbaf5e5044f\n",
      "ec02b2257831\n",
      "ec5b032d19d3\n",
      "ee0c2224ecda\n",
      "ee0d34f4c4bf\n",
      "ee1fdfa1e610\n",
      "ee2d52b1c5f3\n",
      "ee3ae63dce15\n",
      "ee9550b7e387\n",
      "eea5b2cbb2bb\n",
      "eead5df4c558\n",
      "eeaea3a1b734\n",
      "eeaf413dcdcb\n",
      "eebd11b520bb\n",
      "eee08b462cc7\n",
      "efca064ab37d\n",
      "f012189827fc\n",
      "f02db1877033\n",
      "f0421af35623\n",
      "f105394e77c9\n",
      "f18a20786aa8\n",
      "f191f53e2f58\n",
      "f1b3237ec5b1\n",
      "f1b85f9a6abb\n",
      "f24ae7b19ec7\n",
      "f2538feb810d\n",
      "f2a9678f703c\n",
      "f3767ffa2726\n",
      "f3b57d437405\n",
      "f3d05d2c29d2\n",
      "f3d648748789\n",
      "f3db7bcedbd9\n",
      "f45ebfddf01a\n",
      "f4c09e905c67\n",
      "f4fa9fb50c2f\n",
      "f5241973c091\n",
      "f60bbb591821\n",
      "f634165f1803\n",
      "f64dd48be716\n",
      "f68dba2f5358\n",
      "f74fa86019ac\n",
      "f78fb190a4f2\n",
      "f7b7f34c7fb7\n",
      "f7bb24e658bd\n",
      "f82df8776e29\n",
      "f83b9d5113e2\n",
      "f8ed3ace0d1f\n",
      "f957079c1a0e\n",
      "f95971c9398a\n",
      "f96c0d15db99\n",
      "f96f159d1432\n",
      "f97748961dad\n",
      "f9973cc13312\n",
      "fa048c2dc15e\n",
      "faa54a74ff90\n",
      "fab5756f0013\n",
      "fad1acc1ce06\n",
      "fae2ebf6037c\n",
      "fb205644ffa1\n",
      "fb46613a189b\n",
      "fb4726a8a0a5\n",
      "fbf7a91ccc3b\n",
      "fc04f8949c07\n",
      "fd3dc43a7d07\n",
      "fd838cbfe53a\n",
      "fdc3f13e25a1\n",
      "fe0203ffbf37\n",
      "fe24851c6484\n",
      "feb35cab1146\n",
      "fedb419a4d81\n",
      "ff63a0871cb6\n",
      "ffce87cdeca4\n",
      "ffea83e85bd0\n",
      "ffeebc182fb3\n",
      "fff3708a7563\n"
     ]
    }
   ],
   "source": [
    "for label in running.index:\n",
    "    g = glob.glob(os.path.join(\"Data\", label, \"*\"))\n",
    "    [g.remove(gg) for gg in glob.glob(os.path.join(\"Data\", label, \"Sumatra.*.json\"))]\n",
    "    [g.remove(gg) for gg in glob.glob(os.path.join(\"Data\", label, \"Treant.*.json\"))]\n",
    "    if g:\n",
    "        print label\n",
    "        shutil.rmtree(os.path.join(\"Data\", label))"
   ]
  },
  {
   "cell_type": "markdown",
   "metadata": {},
   "source": [
    "What's left?"
   ]
  },
  {
   "cell_type": "code",
   "execution_count": 49,
   "metadata": {
    "deletable": false,
    "editable": false,
    "run_control": {
     "frozen": true
    }
   },
   "outputs": [],
   "source": [
    "df = load_sumatreant(\"benchmark7\")"
   ]
  },
  {
   "cell_type": "code",
   "execution_count": 64,
   "metadata": {
    "deletable": false,
    "editable": false,
    "run_control": {
     "frozen": true
    }
   },
   "outputs": [
    {
     "data": {
      "text/plain": [
       "1693"
      ]
     },
     "execution_count": 64,
     "metadata": {},
     "output_type": "execute_result"
    }
   ],
   "source": [
    "len(df)"
   ]
  },
  {
   "cell_type": "code",
   "execution_count": 51,
   "metadata": {
    "deletable": false,
    "editable": false,
    "run_control": {
     "frozen": true
    }
   },
   "outputs": [],
   "source": [
    "running = df[df['tags'].map(lambda x: '_running_' in x)]"
   ]
  },
  {
   "cell_type": "code",
   "execution_count": 52,
   "metadata": {
    "deletable": false,
    "editable": false,
    "run_control": {
     "frozen": true
    }
   },
   "outputs": [
    {
     "data": {
      "text/html": [
       "<div>\n",
       "<style scoped>\n",
       "    .dataframe tbody tr th:only-of-type {\n",
       "        vertical-align: middle;\n",
       "    }\n",
       "\n",
       "    .dataframe tbody tr th {\n",
       "        vertical-align: top;\n",
       "    }\n",
       "\n",
       "    .dataframe thead th {\n",
       "        text-align: right;\n",
       "    }\n",
       "</style>\n",
       "<table border=\"1\" class=\"dataframe\">\n",
       "  <thead>\n",
       "    <tr style=\"text-align: right;\">\n",
       "      <th></th>\n",
       "      <th>datastore</th>\n",
       "      <th>dependencies</th>\n",
       "      <th>diff</th>\n",
       "      <th>duration</th>\n",
       "      <th>executable</th>\n",
       "      <th>input_data</th>\n",
       "      <th>input_datastore</th>\n",
       "      <th>launch_mode</th>\n",
       "      <th>main_file</th>\n",
       "      <th>outcome</th>\n",
       "      <th>...</th>\n",
       "      <th>sweeps</th>\n",
       "      <th>tolerance</th>\n",
       "      <th>totaltime</th>\n",
       "      <th>dt_exact</th>\n",
       "      <th>eq</th>\n",
       "      <th>eta</th>\n",
       "      <th>kappa_y</th>\n",
       "      <th>numsteps</th>\n",
       "      <th>smt_project</th>\n",
       "      <th>solvetime</th>\n",
       "    </tr>\n",
       "    <tr>\n",
       "      <th>label</th>\n",
       "      <th></th>\n",
       "      <th></th>\n",
       "      <th></th>\n",
       "      <th></th>\n",
       "      <th></th>\n",
       "      <th></th>\n",
       "      <th></th>\n",
       "      <th></th>\n",
       "      <th></th>\n",
       "      <th></th>\n",
       "      <th></th>\n",
       "      <th></th>\n",
       "      <th></th>\n",
       "      <th></th>\n",
       "      <th></th>\n",
       "      <th></th>\n",
       "      <th></th>\n",
       "      <th></th>\n",
       "      <th></th>\n",
       "      <th></th>\n",
       "      <th></th>\n",
       "    </tr>\n",
       "  </thead>\n",
       "  <tbody>\n",
       "  </tbody>\n",
       "</table>\n",
       "<p>0 rows × 48 columns</p>\n",
       "</div>"
      ],
      "text/plain": [
       "Empty DataFrame\n",
       "Columns: [datastore, dependencies, diff, duration, executable, input_data, input_datastore, launch_mode, main_file, outcome, output_data, parameters, platforms, reason, repeats, repository, script_arguments, stdout_stderr, tags, timestamp, user, version, Lx, Ly, checkpoint, dt, input, iterations, kappa_x, ncpus, nproc, nslots, nthreads, nx, preconditioner, script, solver, sumatra_label, sweeps, tolerance, totaltime, dt_exact, eq, eta, kappa_y, numsteps, smt_project, solvetime]\n",
       "Index: []\n",
       "\n",
       "[0 rows x 48 columns]"
      ]
     },
     "execution_count": 52,
     "metadata": {},
     "output_type": "execute_result"
    }
   ],
   "source": [
    "running"
   ]
  },
  {
   "cell_type": "markdown",
   "metadata": {
    "deletable": false,
    "editable": false
   },
   "source": [
    "What tags are left?"
   ]
  },
  {
   "cell_type": "code",
   "execution_count": 53,
   "metadata": {
    "deletable": false,
    "editable": false,
    "run_control": {
     "frozen": true
    }
   },
   "outputs": [
    {
     "data": {
      "text/plain": [
       "{u'_crashed_',\n",
       " u'_failed_',\n",
       " u'_finished..._',\n",
       " u'_finished_',\n",
       " u'_killed_',\n",
       " u'benchmark7a',\n",
       " u'benson',\n",
       " u'leakage',\n",
       " u'master',\n",
       " u'meshsize',\n",
       " u'mprof',\n",
       " u'optimize',\n",
       " u'petsc',\n",
       " u'profile_smt_run',\n",
       " u'r001',\n",
       " u'r041',\n",
       " u'r049',\n",
       " u'scaling',\n",
       " u'scaling_addpetsc_py3k_r049',\n",
       " u'testchunking',\n",
       " u'threading',\n",
       " u'threading_addpetsc_r049',\n",
       " u'ticket644-Add_support_for_PETSc_solvers',\n",
       " u'timestep',\n",
       " u'troubleshoot',\n",
       " u'troubleshooting'}"
      ]
     },
     "execution_count": 53,
     "metadata": {},
     "output_type": "execute_result"
    }
   ],
   "source": [
    "set(df.tags.sum())"
   ]
  },
  {
   "cell_type": "markdown",
   "metadata": {},
   "source": [
    "## `_killed_`"
   ]
  },
  {
   "cell_type": "code",
   "execution_count": 71,
   "metadata": {
    "deletable": false,
    "editable": false,
    "run_control": {
     "frozen": true
    }
   },
   "outputs": [],
   "source": [
    "killed = df[df['tags'].map(lambda x: '_killed_' in x)]"
   ]
  },
  {
   "cell_type": "code",
   "execution_count": 75,
   "metadata": {
    "deletable": false,
    "editable": false,
    "run_control": {
     "frozen": true
    }
   },
   "outputs": [
    {
     "data": {
      "text/html": [
       "<div>\n",
       "<style scoped>\n",
       "    .dataframe tbody tr th:only-of-type {\n",
       "        vertical-align: middle;\n",
       "    }\n",
       "\n",
       "    .dataframe tbody tr th {\n",
       "        vertical-align: top;\n",
       "    }\n",
       "\n",
       "    .dataframe thead th {\n",
       "        text-align: right;\n",
       "    }\n",
       "</style>\n",
       "<table border=\"1\" class=\"dataframe\">\n",
       "  <thead>\n",
       "    <tr style=\"text-align: right;\">\n",
       "      <th></th>\n",
       "      <th>timestamp</th>\n",
       "      <th>outcome</th>\n",
       "    </tr>\n",
       "    <tr>\n",
       "      <th>label</th>\n",
       "      <th></th>\n",
       "      <th></th>\n",
       "    </tr>\n",
       "  </thead>\n",
       "  <tbody>\n",
       "    <tr>\n",
       "      <th>10bfd10b89a8</th>\n",
       "      <td>2018-03-07 10:54:46</td>\n",
       "      <td>Spent more time restarting than running</td>\n",
       "    </tr>\n",
       "    <tr>\n",
       "      <th>71816f874e8b</th>\n",
       "      <td>2018-03-07 10:54:46</td>\n",
       "      <td>Spent more time restarting than running</td>\n",
       "    </tr>\n",
       "    <tr>\n",
       "      <th>f80c97aaa9f5</th>\n",
       "      <td>2018-03-07 10:54:46</td>\n",
       "      <td>Spent more time restarting than running</td>\n",
       "    </tr>\n",
       "  </tbody>\n",
       "</table>\n",
       "</div>"
      ],
      "text/plain": [
       "                       timestamp                                  outcome\n",
       "label                                                                    \n",
       "10bfd10b89a8 2018-03-07 10:54:46  Spent more time restarting than running\n",
       "71816f874e8b 2018-03-07 10:54:46  Spent more time restarting than running\n",
       "f80c97aaa9f5 2018-03-07 10:54:46  Spent more time restarting than running"
      ]
     },
     "execution_count": 75,
     "metadata": {},
     "output_type": "execute_result"
    }
   ],
   "source": [
    "killed[killed['outcome'] != \"\"][[\"timestamp\", \"outcome\"]]"
   ]
  },
  {
   "cell_type": "code",
   "execution_count": 78,
   "metadata": {
    "deletable": false,
    "editable": false,
    "run_control": {
     "frozen": true
    }
   },
   "outputs": [
    {
     "data": {
      "text/plain": [
       "datastore           {u'type': u'FileSystemDataStore', u'parameters...\n",
       "dependencies        [{u'name': u'pygments', u'module': u'python', ...\n",
       "diff                                                                 \n",
       "duration                                                          NaN\n",
       "executable          {u'path': u'/data/guyer/miniconda2/envs/fipy/b...\n",
       "input_data                                                         []\n",
       "input_datastore     {u'type': u'FileSystemDataStore', u'parameters...\n",
       "launch_mode         {u'type': u'SerialLaunchMode', u'parameters': ...\n",
       "main_file                                            initializer7a.py\n",
       "outcome                       Spent more time restarting than running\n",
       "output_data                                                        []\n",
       "parameters          {u'content': u'Lx: 1.0\n",
       "Ly: 0.5\n",
       "checkpoint: 0.0...\n",
       "platforms           [{u'system_name': u'Linux', u'ip_addr': u'127....\n",
       "reason                                                               \n",
       "repeats                                                           NaN\n",
       "repository          {u'url': u'/data/guyer/CHiMaDPhaseFieldVI', u'...\n",
       "script_arguments                                         <parameters>\n",
       "stdout_stderr                                       Not yet captured.\n",
       "tags                                          [_killed_, benchmark7a]\n",
       "timestamp                                         2018-03-07 10:54:46\n",
       "user                                  Jonathan Guyer <guyer@nist.gov>\n",
       "version                      f3271ceec42485341177930d8fe295ed9a9c3cb5\n",
       "Lx                                                                  1\n",
       "Ly                                                                0.5\n",
       "checkpoint                                                       0.01\n",
       "dt                                                             0.0001\n",
       "input                                                             NaN\n",
       "iterations                                                        NaN\n",
       "kappa_x                                                        0.0004\n",
       "ncpus                                                              16\n",
       "nproc                                                              16\n",
       "nslots                                                             16\n",
       "nthreads                                                            1\n",
       "nx                                                                200\n",
       "preconditioner                                                    NaN\n",
       "script                                                            NaN\n",
       "solver                                                            NaN\n",
       "sumatra_label                                            10bfd10b89a8\n",
       "sweeps                                                            NaN\n",
       "tolerance                                                         NaN\n",
       "totaltime                                                           8\n",
       "dt_exact                                                       0.0001\n",
       "eq                  lambda N_x,N_y,t: (-12.5*(tanh(25.0*sqrt(2)*(-...\n",
       "eta                 lambda N_x,N_y,t: (-tanh(25.0*sqrt(2)*(N_y - 0...\n",
       "kappa_y                                                        0.0004\n",
       "numsteps                                                        80000\n",
       "smt_project                                                benchmark7\n",
       "solvetime                                                         NaN\n",
       "Name: 10bfd10b89a8, dtype: object"
      ]
     },
     "execution_count": 78,
     "metadata": {},
     "output_type": "execute_result"
    }
   ],
   "source": [
    "killed.loc[\"10bfd10b89a8\"]"
   ]
  },
  {
   "cell_type": "code",
   "execution_count": 80,
   "metadata": {
    "deletable": false,
    "editable": false,
    "run_control": {
     "frozen": true
    }
   },
   "outputs": [
    {
     "data": {
      "text/html": [
       "<div>\n",
       "<style scoped>\n",
       "    .dataframe tbody tr th:only-of-type {\n",
       "        vertical-align: middle;\n",
       "    }\n",
       "\n",
       "    .dataframe tbody tr th {\n",
       "        vertical-align: top;\n",
       "    }\n",
       "\n",
       "    .dataframe thead th {\n",
       "        text-align: right;\n",
       "    }\n",
       "</style>\n",
       "<table border=\"1\" class=\"dataframe\">\n",
       "  <thead>\n",
       "    <tr style=\"text-align: right;\">\n",
       "      <th></th>\n",
       "      <th>timestamp</th>\n",
       "      <th>outcome</th>\n",
       "      <th>stdout_stderr</th>\n",
       "    </tr>\n",
       "    <tr>\n",
       "      <th>label</th>\n",
       "      <th></th>\n",
       "      <th></th>\n",
       "      <th></th>\n",
       "    </tr>\n",
       "  </thead>\n",
       "  <tbody>\n",
       "    <tr>\n",
       "      <th>10bfd10b89a8</th>\n",
       "      <td>2018-03-07 10:54:46</td>\n",
       "      <td>Spent more time restarting than running</td>\n",
       "      <td>Not yet captured.</td>\n",
       "    </tr>\n",
       "    <tr>\n",
       "      <th>39dc80730122</th>\n",
       "      <td>2018-03-22 22:38:57</td>\n",
       "      <td></td>\n",
       "      <td>storing results in /data/guyer/CHiMaDPhaseFiel...</td>\n",
       "    </tr>\n",
       "    <tr>\n",
       "      <th>42f0b986ec84</th>\n",
       "      <td>2018-03-07 10:16:03</td>\n",
       "      <td></td>\n",
       "      <td>storing results in /data/guyer/CHiMaDPhaseFiel...</td>\n",
       "    </tr>\n",
       "    <tr>\n",
       "      <th>71816f874e8b</th>\n",
       "      <td>2018-03-07 10:54:46</td>\n",
       "      <td>Spent more time restarting than running</td>\n",
       "      <td>Not yet captured.</td>\n",
       "    </tr>\n",
       "    <tr>\n",
       "      <th>818ccac74a74</th>\n",
       "      <td>2018-03-07 10:37:43</td>\n",
       "      <td></td>\n",
       "      <td>eeny\\nmeeny\\nminey\\nstoring results in /data/g...</td>\n",
       "    </tr>\n",
       "    <tr>\n",
       "      <th>b0f07f4b812d</th>\n",
       "      <td>2018-03-15 15:35:37</td>\n",
       "      <td></td>\n",
       "      <td>storing results in /data/guyer/CHiMaDPhaseFiel...</td>\n",
       "    </tr>\n",
       "    <tr>\n",
       "      <th>f3daedbf7d0b</th>\n",
       "      <td>2018-03-15 16:55:43</td>\n",
       "      <td></td>\n",
       "      <td>storing results in /data/guyer/CHiMaDPhaseFiel...</td>\n",
       "    </tr>\n",
       "    <tr>\n",
       "      <th>f80c97aaa9f5</th>\n",
       "      <td>2018-03-07 10:54:46</td>\n",
       "      <td>Spent more time restarting than running</td>\n",
       "      <td>Not yet captured.</td>\n",
       "    </tr>\n",
       "  </tbody>\n",
       "</table>\n",
       "</div>"
      ],
      "text/plain": [
       "                       timestamp                                  outcome  \\\n",
       "label                                                                       \n",
       "10bfd10b89a8 2018-03-07 10:54:46  Spent more time restarting than running   \n",
       "39dc80730122 2018-03-22 22:38:57                                            \n",
       "42f0b986ec84 2018-03-07 10:16:03                                            \n",
       "71816f874e8b 2018-03-07 10:54:46  Spent more time restarting than running   \n",
       "818ccac74a74 2018-03-07 10:37:43                                            \n",
       "b0f07f4b812d 2018-03-15 15:35:37                                            \n",
       "f3daedbf7d0b 2018-03-15 16:55:43                                            \n",
       "f80c97aaa9f5 2018-03-07 10:54:46  Spent more time restarting than running   \n",
       "\n",
       "                                                  stdout_stderr  \n",
       "label                                                            \n",
       "10bfd10b89a8                                  Not yet captured.  \n",
       "39dc80730122  storing results in /data/guyer/CHiMaDPhaseFiel...  \n",
       "42f0b986ec84  storing results in /data/guyer/CHiMaDPhaseFiel...  \n",
       "71816f874e8b                                  Not yet captured.  \n",
       "818ccac74a74  eeny\\nmeeny\\nminey\\nstoring results in /data/g...  \n",
       "b0f07f4b812d  storing results in /data/guyer/CHiMaDPhaseFiel...  \n",
       "f3daedbf7d0b  storing results in /data/guyer/CHiMaDPhaseFiel...  \n",
       "f80c97aaa9f5                                  Not yet captured.  "
      ]
     },
     "execution_count": 80,
     "metadata": {},
     "output_type": "execute_result"
    }
   ],
   "source": [
    "killed[[\"timestamp\", \"outcome\", \"stdout_stderr\"]]"
   ]
  },
  {
   "cell_type": "code",
   "execution_count": 86,
   "metadata": {
    "deletable": false,
    "editable": false,
    "run_control": {
     "frozen": true
    }
   },
   "outputs": [
    {
     "data": {
      "text/plain": [
       "datastore           {u'type': u'FileSystemDataStore', u'parameters...\n",
       "dependencies        [{u'name': u'pygments', u'module': u'python', ...\n",
       "diff                                                                 \n",
       "duration                                                      438.574\n",
       "executable          {u'path': u'/data/guyer/miniconda2/envs/fipy/b...\n",
       "input_data                                                         []\n",
       "input_datastore     {u'type': u'FileSystemDataStore', u'parameters...\n",
       "launch_mode         {u'type': u'SerialLaunchMode', u'parameters': ...\n",
       "main_file                                            initializer7a.py\n",
       "outcome                                                              \n",
       "output_data         [{u'path': u'.Treant.e5faf5b9-75bb-4c20-8b53-3...\n",
       "parameters          {u'content': u'Lx: 1.0\n",
       "Ly: 0.5\n",
       "checkpoint: 0.1...\n",
       "platforms           [{u'system_name': u'Linux', u'ip_addr': u'127....\n",
       "reason                                                               \n",
       "repeats                                                           NaN\n",
       "repository          {u'url': u'/data/guyer/CHiMaDPhaseFieldVI', u'...\n",
       "script_arguments                                         <parameters>\n",
       "stdout_stderr       storing results in /data/guyer/CHiMaDPhaseFiel...\n",
       "tags                                      [_killed_, troubleshooting]\n",
       "timestamp                                         2018-03-22 22:38:57\n",
       "user                                  Jonathan Guyer <guyer@nist.gov>\n",
       "version                      de4fa7459919d020cd7431f696fc8271e2e334d1\n",
       "Lx                                                                  1\n",
       "Ly                                                                0.5\n",
       "checkpoint                                                        0.1\n",
       "dt                                                               0.01\n",
       "input                                                             NaN\n",
       "iterations                                                        NaN\n",
       "kappa_x                                                        0.0004\n",
       "ncpus                                                               1\n",
       "nproc                                                               1\n",
       "nslots                                                              1\n",
       "nthreads                                                            1\n",
       "nx                                                                800\n",
       "preconditioner                                                    NaN\n",
       "script                                                implicitDW7a.py\n",
       "solver                                                            NaN\n",
       "sumatra_label                                            39dc80730122\n",
       "sweeps                                                              5\n",
       "tolerance                                                         NaN\n",
       "totaltime                                                           8\n",
       "dt_exact                                                         0.01\n",
       "eq                  lambda N_x,N_y,t: (-12.5*(tanh(25.0*sqrt(2)*(-...\n",
       "eta                 lambda N_x,N_y,t: (-tanh(25.0*sqrt(2)*(N_y - 0...\n",
       "kappa_y                                                        0.0004\n",
       "numsteps                                                          800\n",
       "smt_project                                                benchmark7\n",
       "solvetime                                                         NaN\n",
       "Name: 39dc80730122, dtype: object"
      ]
     },
     "execution_count": 86,
     "metadata": {},
     "output_type": "execute_result"
    }
   ],
   "source": [
    "killed.loc[\"39dc80730122\"]"
   ]
  },
  {
   "cell_type": "code",
   "execution_count": 87,
   "metadata": {
    "deletable": false,
    "editable": false,
    "run_control": {
     "frozen": true
    }
   },
   "outputs": [
    {
     "data": {
      "text/plain": [
       "u'storing results in /data/guyer/CHiMaDPhaseFieldVI/Data/39dc80730122\\nsolver: LinearPCGSolver(tolerance=1e-10, iterations=1000)\\n0 1-0 0.0 2.89478163175e-05 0.000226313298476 \\n0 1-1 0.0 1.85234874135e-07 0.000227468919213 \\n0 1-2 0.0 1.47379405007e-09 0.000227477547724 \\n0 1-3 0.0 1.26175223082e-11 0.00022747761092 \\n0 1-4 0.0 4.96365132112e-12 0.00022747761092 \\n0 2-0 0.01 2.89767904397e-05 0.000222713898421 \\n0 2-1 0.01 1.8573762028e-07 0.000223864049752 \\n0 2-2 0.01 1.47755924005e-09 0.000223872637696 \\n0 2-3 0.01 1.26505129618e-11 0.000223872700719 \\n0 2-4 0.01 4.97959674173e-12 0.000223872700719 \\n0 3-0 0.02 2.9004099278e-05 0.00021942991054 \\n0 3-1 0.02 1.86154839843e-07 0.000220574124581 \\n0 3-2 0.02 1.48067822234e-09 0.000220582668827 \\n0 3-3 0.02 1.26777600395e-11 0.000220582731654 \\n0 3-4 0.02 4.9931261164e-12 0.000220582731654 \\n0 4-0 0.03 2.90292372926e-05 0.000216393692395 \\n0 4-1 0.03 1.86505245399e-07 0.000217531785892 \\n0 4-2 0.03 1.48329937761e-09 0.000217540285248 \\n0 4-3 0.03 1.27005491467e-11 0.000217540347868 \\n0 4-4 0.03 5.00444214246e-12 0.000217540347868 \\n0 5-0 0.04 2.90521908002e-05 0.000213558010381 \\n0 5-1 0.04 1.8680297974e-07 0.000214689955393 \\n0 5-2 0.04 1.48552990238e-09 0.000214698409767 \\n0 5-3 0.04 1.27198388609e-11 0.000214698472173 \\n0 5-4 0.04 5.01389369564e-12 0.000214698472173 \\n0 6-0 0.05 2.90731135022e-05 0.000210888647702 \\n0 6-1 0.05 1.87058702674e-07 0.000212014506499 \\n0 6-2 0.05 1.48744968457e-09 0.000212022916431 \\n0 6-3 0.05 1.2736347178e-11 0.000212022978622 \\n0 6-4 0.05 5.02172998452e-12 0.000212022978622 \\n0 7-0 0.06 2.90922061717e-05 0.000208360062825 \\n0 7-1 0.06 1.87280513752e-07 0.000209479949269 \\n0 7-2 0.06 1.48911869533e-09 0.000209488315651 \\n0 7-3 0.06 1.27506420581e-11 0.000209488377627 \\n0 7-4 0.06 5.02842619153e-12 0.000209488377627 \\n0 8-0 0.07 2.91096708372e-05 0.000205952707549 \\n0 8-1 0.07 1.87474618878e-07 0.000207066760855 \\n0 8-2 0.07 1.49058247433e-09 0.000207075084756 \\n0 8-3 0.07 1.27631621409e-11 0.000207075146519 \\n0 8-4 0.07 5.03434367492e-12 0.000207075146519 \\n0 9-0 0.08 2.91256940353e-05 0.000203651295891 \\n0 9-1 0.08 1.87645839582e-07 0.000204759664989 \\n0 9-2 0.08 1.4918755881e-09 0.000204767947572 \\n0 9-3 0.08 1.27742099343e-11 0.000204768009124 \\n0 9-4 0.08 5.0394594279e-12 0.000204768009124 \\n0 10-0 0.09 2.91404418441e-05 0.000201443640258 \\n0 10-1 0.09 1.87797960078e-07 0.000202546484427 \\n0 10-2 0.09 1.49302705716e-09 0.000202554726876 \\n0 10-3 0.09 1.27840696624e-11 0.00020255478822 \\n0 10-4 0.09 5.04419805961e-12 0.00020255478822 \\n0 11-0 0.1 2.91540596947e-05 0.000199319881153 \\n0 11-1 0.1 1.87933989732e-07 0.000200417352779 \\n0 11-2 0.1 1.4940578935e-09 0.000200425556263 \\n0 11-3 0.1 1.27929085758e-11 0.000200425617403 \\n0 11-4 0.1 5.04851385114e-12 0.000200425617403 \\n0 12-0 0.11 2.91666740159e-05 0.000197271906451 \\n0 12-1 0.11 1.88056348386e-07 0.000198364159403 \\n0 12-2 0.11 1.49498685319e-09 0.000198372325072 \\n0 12-3 0.11 1.28008507726e-11 0.00019837238601 \\n0 12-4 0.11 5.05232302598e-12 0.00019837238601 \\n0 13-0 0.12 2.91783944464e-05 0.000195292963652 \\n0 13-1 0.12 1.88166998513e-07 0.000196380149825 \\n0 13-2 0.12 1.49582872602e-09 0.000196388278778 \\n0 13-3 0.12 1.28080149267e-11 0.000196388339517 \\n0 13-4 0.12 5.05558397627e-12 0.000196388339517 \\n0 14-0 0.13 2.9189316078e-05 0.000193377371618 \\n0 14-1 0.13 1.88267553047e-07 0.000194459632457 \\n0 14-2 0.13 1.49659558453e-09 0.000194467725738 \\n0 14-3 0.13 1.28144918848e-11 0.000194467786283 \\n0 14-4 0.13 5.05818972456e-12 0.000194467786283 \\n0 15-0 0.14 2.91995215187e-05 0.000191520287933 \\n0 15-1 0.14 1.88359333766e-07 0.000192597759671 \\n0 15-2 0.14 1.49729776479e-09 0.000192605818264 \\n0 15-3 0.14 1.28203872084e-11 0.000192605878616 \\n0 15-4 0.14 5.06037324473e-12 0.000192605878616 \\n0 16-0 0.15 2.92090827063e-05 0.000189717551929 \\n0 16-1 0.15 1.88443449865e-07 0.000190790361852 \\n0 16-2 0.15 1.49794309332e-09 0.000190798386675 \\n0 16-3 0.15 1.28257862027e-11 0.000190798446839 \\n0 16-4 0.15 5.06217801039e-12 0.000190798446839 \\n0 17-0 0.16 2.9218062468e-05 0.000187965553361 \\n0 17-1 0.16 1.88520850816e-07 0.000189033819876 \\n0 17-2 0.16 1.49853896049e-09 0.000189041811783 \\n0 17-3 0.16 1.28307225602e-11 0.000189041871762 \\n0 17-4 0.16 5.06353514437e-12 0.000189041871762 \\n0 18-0 0.17 2.92265158449e-05 0.000186261136948 \\n0 18-1 0.17 1.88592345008e-07 0.000187324965911 \\n0 18-2 0.17 1.49909090199e-09 0.000187332925673 \\n0 18-3 0.17 1.28353186706e-11 0.000187332985468 \\n0 18-4 0.17 5.06500043386e-12 0.000187332985468 \\n0 19-0 0.18 2.92344912122e-05 0.000184601526602 \\n0 19-1 0.18 1.88658627301e-07 0.000185661005332 \\n0 19-2 0.18 1.49960191865e-09 0.000185668933642 \\n0 19-3 0.18 1.28396149998e-11 0.000185668993256 \\n0 19-4 0.18 5.06665721827e-12 0.000185668993256 \\n0 20-0 0.19 2.9242031224e-05 0.000182984246655 \\n0 20-1 0.19 1.88720285948e-07 0.000184039454656 \\n0 20-2 0.19 1.50007605706e-09 0.000184047352157 \\n0 20-3 0.19 1.28436502326e-11 0.000184047411591 \\n0 20-4 0.19 5.06855320152e-12 0.000184047411591 \\n0 21-0 0.2 2.92491736094e-05 0.000181407080804 \\n0 21-1 0.2 1.88777812854e-07 0.000182458091767 \\n0 21-2 0.2 1.50051673553e-09 0.000182465959077 \\n0 21-3 0.2 1.28474026676e-11 0.000182466018334 \\n0 21-4 0.2 5.07016596896e-12 0.000182466018334 \\n0 22-0 0.21 2.92559518457e-05 0.000179868021518 \\n0 22-1 0.21 1.88831602701e-07 0.000180914915696 \\n0 22-2 0.21 1.50092924741e-09 0.000180922753395 \\n0 22-3 0.21 1.28509654867e-11 0.000180922812476 \\n0 22-4 0.21 5.07195869771e-12 0.000180922812476 \\n0 23-0 0.22 2.92623957272e-05 0.00017836526596 \\n0 23-1 0.22 1.88881994376e-07 0.000179408113792 \\n0 23-2 0.22 1.501315335e-09 0.000179415922412 \\n0 23-3 0.22 1.28543254668e-11 0.000179415981319 \\n0 23-4 0.22 5.0737960514e-12 0.000179415981319 \\n0 24-0 0.23 2.92685318482e-05 0.000176897164858 \\n0 24-1 0.23 1.88929316705e-07 0.000177936034738 \\n0 24-2 0.23 1.50167817685e-09 0.000177943814797 \\n0 24-3 0.23 1.28574165649e-11 0.000177943873532 \\n0 24-4 0.23 5.07499591079e-12 0.000177943873532 \\n0 25-0 0.24 2.92743840138e-05 0.000175462200504 \\n0 25-1 0.24 1.88973855743e-07 0.000176497166355 \\n0 25-2 0.24 1.50202197039e-09 0.000176504918334 \\n0 25-3 0.24 1.28603113915e-11 0.000176504976898 \\n0 25-4 0.24 5.07593408853e-12 0.000176504976898 \\n0 26-0 0.25 2.92799735905e-05 0.000174058992406 \\n0 26-1 0.25 1.89015855143e-07 0.000175090117101 \\n0 26-2 0.25 1.50234695414e-09 0.000175097841429 \\n0 26-3 0.25 1.2863041159e-11 0.000175097899825 \\n0 26-4 0.25 5.07673630012e-12 0.000175097899825 \\n0 27-0 0.26 2.92853198061e-05 0.000172686262106 \\n0 27-1 0.26 1.89055550731e-07 0.000173713600577 \\n0 27-2 0.26 1.50265486361e-09 0.000173721297669 \\n0 27-3 0.26 1.28655507139e-11 0.000173721355898 \\n0 27-4 0.26 5.07699275043e-12 0.000173721355898 \\n0 28-0 0.27 2.92904400069e-05 0.000171342810924 \\n0 28-1 0.27 1.89093151083e-07 0.000172366422621 \\n0 28-2 0.27 1.50294825172e-09 0.000172374092853 \\n0 28-3 0.27 1.2867936199e-11 0.000172374150915 \\n0 28-4 0.27 5.0772091807e-12 0.000172374150915 \\n0 29-0 0.28 2.92953498805e-05 0.000170027540333 \\n0 29-1 0.28 1.89128831392e-07 0.000171047470378 \\n0 29-2 0.28 1.50322661189e-09 0.000171055114059 \\n0 29-3 0.28 1.28702877239e-11 0.000171055171956 \\n0 29-4 0.28 5.07802135356e-12 0.000171055171956 \\n0 30-0 0.29 2.93000636465e-05 0.000168739425409 \\n0 30-1 0.29 1.89162759705e-07 0.000169755702981 \\n0 30-2 0.29 1.50348913929e-09 0.000169763320387 \\n0 30-3 0.29 1.28725437492e-11 0.000169763378119 \\n0 30-4 0.29 5.07903778212e-12 0.000169763378119 \\n0 31-0 0.3 2.93045942231e-05 0.000167477486452 \\n0 31-1 0.3 1.89195099257e-07 0.000168490143672 \\n0 31-2 0.3 1.50373816635e-09 0.000168497735085 \\n0 31-3 0.3 1.2874679555e-11 0.000168497792653 \\n0 31-4 0.3 5.07996628122e-12 0.000168497792653 \\n0 32-0 0.31 2.93089533713e-05 0.000166240801603 \\n0 32-1 0.31 1.89225968237e-07 0.000167249873128 \\n0 32-2 0.31 1.50397525605e-09 0.000167257438819 \\n0 32-3 0.31 1.28767334583e-11 0.000167257496223 \\n0 32-4 0.31 5.08097024054e-12 0.000167257496223 \\n0 33-0 0.32 2.93131518206e-05 0.000165028503446 \\n0 33-1 0.32 1.89255441837e-07 0.00016603402369 \\n0 33-2 0.32 1.50420109484e-09 0.000166041563916 \\n0 33-3 0.32 1.28787219917e-11 0.000166041621158 \\n0 33-4 0.32 5.08200794989e-12 0.000166041621158 \\n0 34-0 0.33 2.93171993793e-05 0.000163839769819 \\n0 34-1 0.33 1.89283597609e-07 0.000164841774394 \\n0 34-2 0.33 1.50441716756e-09 0.000164849289404 \\n0 34-3 0.33 1.28806138068e-11 0.000164849346484 \\n0 34-4 0.33 5.08288620728e-12 0.000164849346484 \\n0 35-0 0.34 2.93211050302e-05 0.000162673822986 \\n0 35-1 0.34 1.89310532833e-07 0.000163672346692 \\n0 35-2 0.34 1.50462474848e-09 0.000163679836729 \\n0 35-3 0.34 1.28823849576e-11 0.000163679893648 \\n0 35-4 0.34 5.08341624958e-12 0.000163679893648 \\n0 36-0 0.35 2.93248770161e-05 0.000161529919648 \\n0 36-1 0.35 1.893363261e-07 0.000162525000759 \\n0 36-2 0.35 1.50482514723e-09 0.000162532466044 \\n0 36-3 0.35 1.28840706497e-11 0.000162532522803 \\n0 36-4 0.35 5.08372087054e-12 0.000162532522803 \\n0 37-0 0.36 2.93285229136e-05 0.000160407364923 \\n0 37-1 0.36 1.89361067423e-07 0.00016139903225 \\n0 37-2 0.36 1.50501804301e-09 0.000161406472978 \\n0 37-3 0.36 1.28856838752e-11 0.000161406529578 \\n0 37-4 0.36 5.08390272512e-12 0.000161406529578 \\n0 38-0 0.37 2.93320496996e-05 0.000159305493395 \\n0 38-1 0.37 1.89384847106e-07 0.000160293769461 \\n0 38-2 0.37 1.50520357372e-09 0.000160301185815 \\n0 38-3 0.37 1.28872252912e-11 0.000160301242257 \\n0 38-4 0.37 5.08397891373e-12 0.000160301242257 \\n0 39-0 0.38 2.93354638092e-05 0.000158223660777 \\n0 39-1 0.38 1.8940773297e-07 0.000159208570875 \\n0 39-2 0.38 1.50538208836e-09 0.000159215963018 \\n0 39-3 0.38 1.28887502013e-11 0.000159216019301 \\n0 39-4 0.38 5.08439293004e-12 0.000159216019301 \\n0 40-0 0.39 2.93387711875e-05 0.000157161262629 \\n0 40-1 0.39 1.89429780047e-07 0.000158142822978 \\n0 40-2 0.39 1.50555263145e-09 0.00015815019105 \\n0 40-3 0.39 1.28902388409e-11 0.000158150247175 \\n0 40-4 0.39 5.08503330747e-12 0.000158150247175 \\n0 41-0 0.4 2.93419773357e-05 0.000156117714632 \\n0 41-1 0.4 1.8945104701e-07 0.000157095938304 \\n0 41-2 0.4 1.50571584151e-09 0.000157103282448 \\n0 41-3 0.4 1.28916638897e-11 0.000157103338414 \\n0 41-4 0.4 5.08567846805e-12 0.000157103338414 \\n0 42-0 0.41 2.93450873521e-05 0.000155092447544 \\n0 42-1 0.41 1.89471576087e-07 0.000156067353753 \\n0 42-2 0.41 1.50587264272e-09 0.000156074674108 \\n0 42-3 0.41 1.28930773834e-11 0.000156074729917 \\n0 42-4 0.41 5.08659095262e-12 0.000156074729917 \\n0 43-0 0.42 2.93481059683e-05 0.000154084924005 \\n0 43-1 0.42 1.89491394879e-07 0.000155056529041 \\n0 43-2 0.42 1.50602286183e-09 0.000155063825768 \\n0 43-3 0.42 1.28943915089e-11 0.000155063881419 \\n0 43-4 0.42 5.08705671092e-12 0.000155063881419 \\n0 44-0 0.43 2.93510375826e-05 0.000153094609876 \\n0 44-1 0.43 1.89510520535e-07 0.000154062945375 \\n0 44-2 0.43 1.50616977854e-09 0.000154070218631 \\n0 44-3 0.43 1.28956847009e-11 0.000154070274125 \\n0 44-4 0.43 5.08759139883e-12 0.000154070274125 \\n0 45-0 0.44 2.93538862886e-05 0.000152121018283 \\n0 45-1 0.44 1.89528984209e-07 0.000153086104212 \\n0 45-2 0.44 1.50631183413e-09 0.000153093354143 \\n0 45-3 0.44 1.28969189995e-11 0.000153093409482 \\n0 45-4 0.44 5.08789827487e-12 0.000153093409482 \\n0 46-0 0.45 2.93566559021e-05 0.000151163663835 \\n0 46-1 0.45 1.89546830737e-07 0.000152125526135 \\n0 46-2 0.45 1.50645054386e-09 0.00015213275288 \\n0 46-3 0.45 1.28981068937e-11 0.000152132808063 \\n0 46-4 0.45 5.08798922279e-12 0.000152132808063 \\n0 47-0 0.46 2.93593499845e-05 0.000150222093039 \\n0 47-1 0.46 1.89564117731e-07 0.000151180749852 \\n0 47-2 0.46 1.50658560342e-09 0.000151187953539 \\n0 47-3 0.46 1.28992477695e-11 0.000151188008568 \\n0 47-4 0.46 5.08794604252e-12 0.000151188008568 \\n0 48-0 0.47 2.93619718642e-05 0.000149295862395 \\n0 48-1 0.47 1.89580885402e-07 0.000150251331277 \\n0 48-2 0.47 1.50671659786e-09 0.000150258512023 \\n0 48-3 0.47 1.29003842257e-11 0.000150258566896 \\n0 48-4 0.47 5.08808439965e-12 0.000150258566896 \\n0 49-0 0.48 2.93645246559e-05 0.000148384548004 \\n0 49-1 0.48 1.89597149842e-07 0.000149336842696 \\n0 49-2 0.48 1.50684288431e-09 0.000149344000594 \\n0 49-3 0.48 1.29015511374e-11 0.000149344055313 \\n0 49-4 0.48 5.08870967133e-12 0.000149344055313 \\n0 50-0 0.49 2.93670112781e-05 0.000147487745248 \\n0 50-1 0.49 1.896129474e-07 0.000148436871957 \\n0 50-2 0.49 1.50696341193e-09 0.000148444007108 \\n0 50-3 0.49 1.29026708579e-11 0.000148444061672 \\n0 50-4 0.49 5.08935907598e-12 0.000148444061672 \\n0 51-0 0.5 2.93694344684e-05 0.000146605047141 \\n0 51-1 0.5 1.89628309463e-07 0.000147551021782 \\n0 51-2 0.5 1.50708024795e-09 0.000147558134296 \\n0 51-3 0.5 1.2903763705e-11 0.000147558188706 \\n0 51-4 0.5 5.09010341706e-12 0.000147558188706 \\n0 52-0 0.51 2.93717967985e-05 0.000145736073156 \\n0 52-1 0.51 1.89643245647e-07 0.000146678909128 \\n0 52-2 0.51 1.50719297948e-09 0.000146685999105 \\n0 52-3 0.51 1.29048670562e-11 0.000146686053361 \\n0 52-4 0.51 5.09112434682e-12 0.000146686053361 \\n0 53-0 0.52 2.93741006865e-05 0.000144880455524 \\n0 53-1 0.52 1.89657761094e-07 0.000145820164524 \\n0 53-2 0.52 1.50730136225e-09 0.000145827232088 \\n0 53-3 0.52 1.29058851654e-11 0.000145827286191 \\n0 53-4 0.52 5.09174163508e-12 0.000145827286191 \\n0 54-0 0.53 2.93763484092e-05 0.000144037823253 \\n0 54-1 0.53 1.89671855283e-07 0.000144974431537 \\n0 54-2 0.53 1.50740814162e-09 0.000144981476823 \\n0 54-3 0.53 1.29068648704e-11 0.000144981530774 \\n0 54-4 0.53 5.09214461064e-12 0.000144981530774 \\n0 55-0 0.54 2.93785421124e-05 0.000143207835534 \\n0 55-1 0.54 1.8968552478e-07 0.000144141366252 \\n0 55-2 0.54 1.50751301788e-09 0.000144148389386 \\n0 55-3 0.54 1.29077926165e-11 0.000144148443184 \\n0 55-4 0.54 5.09225776227e-12 0.000144148443184 \\n0 56-0 0.55 2.9380683821e-05 0.000142390163724 \\n0 56-1 0.55 1.8969880089e-07 0.000143320636753 \\n0 56-2 0.55 1.50761640702e-09 0.000143327637836 \\n0 56-3 0.55 1.29087210352e-11 0.000143327691483 \\n0 56-4 0.55 5.09237869468e-12 0.000143327691483 \\n0 57-0 0.56 2.93827754476e-05 0.000141584498097 \\n0 57-1 0.56 1.89711734766e-07 0.000142511922616 \\n0 57-2 0.56 1.50771716407e-09 0.000142518901753 \\n0 57-3 0.56 1.29095683357e-11 0.000142518955249 \\n0 57-4 0.56 5.09209550481e-12 0.000142518955249 \\n0 58-0 0.57 2.93848188012e-05 0.000140790521966 \\n0 58-1 0.57 1.89724366641e-07 0.000141714914485 \\n0 58-2 0.57 1.50781628349e-09 0.000141721871777 \\n0 58-3 0.57 1.29104179514e-11 0.000141721925123 \\n0 58-4 0.57 5.09198827696e-12 0.000141721925123 \\n0 59-0 0.58 2.9386815594e-05 0.000140007942784 \\n0 59-1 0.58 1.89736691306e-07 0.000140929313667 \\n0 59-2 0.58 1.50791160342e-09 0.000140936249194 \\n0 59-3 0.58 1.29113263085e-11 0.000140936302389 \\n0 59-4 0.58 5.09238448657e-12 0.000140936302389 \\n0 60-0 0.59 2.93887674485e-05 0.000139236476039 \\n0 60-1 0.59 1.89748721217e-07 0.000140154831668 \\n0 60-2 0.59 1.50800276881e-09 0.000140161745527 \\n0 60-3 0.59 1.29121823192e-11 0.000140161798571 \\n0 60-4 0.59 5.09268679608e-12 0.000140161798571 \\n0 61-0 0.6 2.93906759038e-05 0.000138475833063 \\n0 61-1 0.6 1.89760464828e-07 0.000139391189867 \\n0 61-2 0.6 1.50809203169e-09 0.000139398082153 \\n0 61-3 0.6 1.29130815698e-11 0.000139398135048 \\n0 61-4 0.6 5.09340210009e-12 0.000139398135048 \\n0 62-0 0.61 2.93925424215e-05 0.000137725752294 \\n0 62-1 0.61 1.89771930143e-07 0.000138638119136 \\n0 62-2 0.61 1.50817763117e-09 0.000138644989944 \\n0 62-3 0.61 1.29139711592e-11 0.00013864504269 \\n0 62-4 0.61 5.09422007918e-12 0.00013864504269 \\n0 63-0 0.62 2.93943683904e-05 0.00013698596594 \\n0 63-1 0.62 1.89783123032e-07 0.00013789535947 \\n0 63-2 0.62 1.50826080548e-09 0.000137902208914 \\n0 63-3 0.62 1.29148162098e-11 0.00013790226151 \\n0 63-4 0.62 5.09490814971e-12 0.00013790226151 \\n0 64-0 0.63 2.9396155132e-05 0.000136256218615 \\n0 64-1 0.63 1.89794045207e-07 0.00013716265968 \\n0 64-2 0.63 1.50834243554e-09 0.000137169487884 \\n0 64-3 0.63 1.29155931839e-11 0.000137169540332 \\n0 64-4 0.63 5.09528900971e-12 0.000137169540332 \\n0 65-0 0.64 2.93979039046e-05 0.000135536266001 \\n0 65-1 0.64 1.89804681751e-07 0.000136439777089 \\n0 65-2 0.64 1.50842311404e-09 0.000136446584172 \\n0 65-3 0.64 1.291633874e-11 0.000136446636473 \\n0 65-4 0.64 5.09544899334e-12 0.000136446636473 \\n0 66-0 0.65 2.93996159072e-05 0.000134825876496 \\n0 66-1 0.65 1.89815046936e-07 0.000135726477206 \\n0 66-2 0.65 1.5085027571e-09 0.00013573326328 \\n0 66-3 0.65 1.29170625671e-11 0.000135733315433 \\n0 66-4 0.65 5.09539485453e-12 0.000135733315433 \\n0 67-0 0.66 2.94012922839e-05 0.000134124827537 \\n0 67-1 0.66 1.89825174164e-07 0.00013502253343 \\n0 67-2 0.66 1.50858137193e-09 0.000135029298602 \\n0 67-3 0.66 1.29177526868e-11 0.00013502935061 \\n0 67-4 0.66 5.0951932952e-12 0.00013502935061 \\n0 68-0 0.67 2.94029341268e-05 0.000133432899422 \\n0 68-1 0.67 1.89835083424e-07 0.000134327726787 \\n0 68-2 0.67 1.50865880756e-09 0.000134334471149 \\n0 68-3 0.67 1.29184631239e-11 0.000134334523011 \\n0 68-4 0.67 5.09526013913e-12 0.000134334523011 \\n0 69-0 0.68 2.94045424797e-05 0.000132749889811 \\n0 69-1 0.68 1.89844785421e-07 0.000133641845644 \\n0 69-2 0.68 1.50873334047e-09 0.00013364856927 \\n0 69-3 0.68 1.29192208212e-11 0.000133648620986 \\n0 69-4 0.68 5.09577288577e-12 0.000133648620986 \\n0 70-0 0.69 2.94061183404e-05 0.000132075596118 \\n0 70-1 0.69 1.8985430197e-07 0.000132964685412 \\n0 70-2 0.69 1.50880450352e-09 0.000132971388399 \\n0 70-3 0.69 1.2919946464e-11 0.00013297143997 \\n0 70-4 0.69 5.09609201744e-12 0.00013297143997 \\n0 71-0 0.7 2.94076626644e-05 0.000131409809725 \\n0 71-1 0.7 1.89863636357e-07 0.000132296048356 \\n0 71-2 0.7 1.50887466349e-09 0.000132302730801 \\n0 71-3 0.7 1.29207261207e-11 0.000132302782227 \\n0 71-4 0.7 5.09685775628e-12 0.000132302782227 \\n0 72-0 0.71 2.94091763666e-05 0.000130752346491 \\n0 72-1 0.71 1.89872772533e-07 0.000131635743335 \\n0 72-2 0.71 1.508941794e-09 0.000131642405332 \\n0 72-3 0.71 1.29215046569e-11 0.000131642456614 \\n0 72-4 0.71 5.09774919679e-12 0.000131642456614 \\n0 73-0 0.72 2.94106603242e-05 0.000130103015211 \\n0 73-1 0.72 1.89881713906e-07 0.00013098358555 \\n0 73-2 0.72 1.50900729499e-09 0.000130990227209 \\n0 73-3 0.72 1.29222534705e-11 0.000130990278347 \\n0 73-4 0.72 5.09850379332e-12 0.000130990278347 \\n0 74-0 0.73 2.94121153785e-05 0.000129461633659 \\n0 74-1 0.73 1.89890456241e-07 0.000130339396352 \\n0 74-2 0.73 1.50907191533e-09 0.000130346017785 \\n0 74-3 0.73 1.29229683802e-11 0.00013034606878 \\n0 74-4 0.73 5.09914269669e-12 0.00013034606878 \\n0 75-0 0.74 2.94135423373e-05 0.000128828030123 \\n0 75-1 0.74 1.8989899304e-07 0.000129703003013 \\n0 75-2 0.74 1.50913547966e-09 0.00012970960433 \\n0 75-3 0.74 1.29236403339e-11 0.000129709655183 \\n0 75-4 0.74 5.09953542614e-12 0.000129709655183 \\n0 76-0 0.75 2.94149419766e-05 0.000128202036996 \\n0 76-1 0.75 1.89907339098e-07 0.000129074238517 \\n0 76-2 0.75 1.50919852839e-09 0.000129080819829 \\n0 76-3 0.75 1.292428625e-11 0.00012908087054 \\n0 76-4 0.75 5.09969711115e-12 0.00012908087054 \\n0 77-0 0.76 2.94163150423e-05 0.000127583495119 \\n0 77-1 0.76 1.89915519776e-07 0.000128452941358 \\n0 77-2 0.76 1.50926096128e-09 0.000128459502777 \\n0 77-3 0.76 1.2924880341e-11 0.000128459553347 \\n0 77-4 0.76 5.09959404483e-12 0.000128459553347 \\n0 78-0 0.77 2.94176622521e-05 0.00012697224753 \\n0 78-1 0.77 1.89923533147e-07 0.000127838955362 \\n0 78-2 0.77 1.50932275755e-09 0.000127845496986 \\n0 78-3 0.77 1.29254917753e-11 0.000127845547416 \\n0 78-4 0.77 5.09968553384e-12 0.000127845547416 \\n0 79-0 0.78 2.94189842967e-05 0.000126368149383 \\n0 79-1 0.78 1.89931384519e-07 0.000127232129483 \\n0 79-2 0.78 1.50938246399e-09 0.000127238651399 \\n0 79-3 0.78 1.2926086105e-11 0.000127238701688 \\n0 79-4 0.78 5.09983791127e-12 0.000127238701688 \\n0 80-0 0.79 2.94202818414e-05 0.000125771053988 \\n0 80-1 0.79 1.89939090927e-07 0.000126632317602 \\n0 80-2 0.79 1.50944037704e-09 0.000126638819906 \\n0 80-3 0.79 1.29266829279e-11 0.000126638870056 \\n0 80-4 0.79 5.10005877435e-12 0.000126638870056 \\n0 81-0 0.8 2.94215555275e-05 0.000125180817508 \\n0 81-1 0.8 1.89946665376e-07 0.000126039378379 \\n0 81-2 0.8 1.50949689158e-09 0.000126045861176 \\n0 81-3 0.8 1.29272920796e-11 0.000126045911187 \\n0 81-4 0.8 5.10035231521e-12 0.000126045911187 \\n0 82-0 0.81 2.94228059731e-05 0.000124597300559 \\n0 82-1 0.81 1.89954092891e-07 0.000125453175098 \\n0 82-2 0.81 1.50955206656e-09 0.000125459638483 \\n0 82-3 0.81 1.29279442419e-11 0.000125459688355 \\n0 82-4 0.81 5.10097404109e-12 0.000125459688355 \\n0 83-0 0.82 2.9424033775e-05 0.000124020376945 \\n0 83-1 0.82 1.89961374754e-07 0.000124873575469 \\n0 83-2 0.82 1.50960528699e-09 0.000124880019545 \\n0 83-3 0.82 1.29285784113e-11 0.00012488006928 \\n0 83-4 0.82 5.10149384359e-12 0.00012488006928 \\n0 84-0 0.83 2.94252395091e-05 0.00012344991083 \\n0 84-1 0.83 1.8996851479e-07 0.000124300451496 \\n0 84-2 0.83 1.50965815462e-09 0.000124306876369 \\n0 84-3 0.83 1.29292091154e-11 0.000124306925967 \\n0 84-4 0.83 5.10202857107e-12 0.000124306925967 \\n0 85-0 0.84 2.94264237317e-05 0.000122885780509 \\n0 85-1 0.84 1.89975516741e-07 0.000123733679331 \\n0 85-2 0.84 1.50970978769e-09 0.000123740085097 \\n0 85-3 0.84 1.29298456804e-11 0.000123740134558 \\n0 85-4 0.84 5.1026404219e-12 0.000123740134558 \\n0 86-0 0.85 2.94275869804e-05 0.000122327870448 \\n0 86-1 0.85 1.89982389076e-07 0.000123173139105 \\n0 86-2 0.85 1.50976004073e-09 0.000123179525861 \\n0 86-3 0.85 1.29304405762e-11 0.000123179575186 \\n0 86-4 0.85 5.10306427022e-12 0.000123179575186 \\n0 87-0 0.86 2.94287297752e-05 0.000121776061917 \\n0 87-1 0.86 1.89989136459e-07 0.000122618714783 \\n0 87-2 0.86 1.50980961545e-09 0.00012262508264 \\n0 87-3 0.86 1.2930975772e-11 0.00012262513183 \\n0 87-4 0.86 5.10313310793e-12 0.00012262513183 \\n0 88-0 0.87 2.9429852619e-05 0.000121230236919 \\n0 88-1 0.87 1.89995748115e-07 0.000122070294074 \\n0 88-2 0.87 1.50985903533e-09 0.000122076643126 \\n0 88-3 0.87 1.29315634636e-11 0.000122076692181 \\n0 88-4 0.87 5.10359930223e-12 0.000122076692181 \\n0 89-0 0.88 2.94309559983e-05 0.000120690298879 \\n0 89-1 0.88 1.90002233771e-07 0.000121527768253 \\n0 89-2 0.88 1.50990639718e-09 0.000121534098589 \\n0 89-3 0.88 1.29320904251e-11 0.00012153414751 \\n0 89-4 0.88 5.10385238493e-12 0.00012153414751 \\n0 90-0 0.89 2.94320403844e-05 0.000120156136218 \\n0 90-1 0.89 1.90008598727e-07 0.000120991032043 \\n0 90-2 0.89 1.50995339043e-09 0.000120997343751 \\n0 90-3 0.89 1.29326382134e-11 0.000120997392538 \\n0 90-4 0.89 5.1042666341e-12 0.000120997392538 \\n0 91-0 0.9 2.94331062338e-05 0.000119627653535 \\n0 91-1 0.9 1.90014860783e-07 0.000120459983477 \\n0 91-2 0.9 1.50999865931e-09 0.000120466276664 \\n0 91-3 0.9 1.29331453331e-11 0.000120466325318 \\n0 91-4 0.9 5.10435910619e-12 0.000120466325318 \\n0 92-0 0.91 2.94341539889e-05 0.00011910473834 \\n0 92-1 0.91 1.9002100506e-07 0.00011993452382 \\n0 92-2 0.91 1.51004469088e-09 0.000119940798588 \\n0 92-3 0.91 1.29337094022e-11 0.000119940847109 \\n0 92-4 0.91 5.10480893478e-12 0.000119940847109 \\n0 93-0 0.92 2.94351840785e-05 0.00011858730546 \\n0 93-1 0.92 1.90027026413e-07 0.000119414557437 \\n0 93-2 0.92 1.51008917672e-09 0.000119420813881 \\n0 93-3 0.92 1.29342568124e-11 0.00011942086227 \\n0 93-4 0.92 5.10523553581e-12 0.00011942086227 \\n0 94-0 0.93 2.94361969184e-05 0.000118075256885 \\n0 94-1 0.93 1.90032931484e-07 0.00011889999167 \\n0 94-2 0.93 1.51013337089e-09 0.000118906229884 \\n0 94-3 0.93 1.29348108045e-11 0.000118906278142 \\n0 94-4 0.93 5.10565198485e-12 0.000118906278142 \\n0 95-0 0.94 2.94371929122e-05 0.000117568507417 \\n0 95-1 0.94 1.9003874522e-07 0.000118390736752 \\n0 95-2 0.94 1.51017657136e-09 0.000118396956816 \\n0 95-3 0.94 1.29354095048e-11 0.000118397004943 \\n0 95-4 0.94 5.10631949887e-12 0.000118397004943 \\n0 96-0 0.95 2.94381724514e-05 0.000117066975877 \\n0 96-1 0.95 1.90044487746e-07 0.000117886705667 \\n0 96-2 0.95 1.51021794909e-09 0.000117892907671 \\n0 96-3 0.95 1.29359660789e-11 0.000117892955667 \\n0 96-4 0.95 5.10687886887e-12 0.000117892955667 \\n0 97-0 0.96 2.94391359163e-05 0.000116570568139 \\n0 97-1 0.96 1.90050140387e-07 0.000117387814074 \\n0 97-2 0.96 1.51025847932e-09 0.000117393998115 \\n0 97-3 0.96 1.29365253617e-11 0.000117394045982 \\n0 97-4 0.96 5.10749138561e-12 0.000117394045982 \\n0 98-0 0.97 2.94400836762e-05 0.000116079202845 \\n0 98-1 0.97 1.90055679876e-07 0.00011689398023 \\n0 98-2 0.97 1.51029780808e-09 0.000116900146396 \\n0 98-3 0.97 1.29371204051e-11 0.000116900194133 \\n0 98-4 0.97 5.1083201116e-12 0.000116900194133 \\n0 99-0 0.98 2.94410160897e-05 0.000115592805422 \\n0 99-1 0.98 1.90061112593e-07 0.000116405124864 \\n0 99-2 0.98 1.51033586591e-09 0.000116411273244 \\n0 99-3 0.98 1.2937655263e-11 0.000116411320852 \\n0 99-4 0.98 5.10892034591e-12 0.000116411320852 \\n0 100-0 0.99 2.94419335055e-05 0.00011511129479 \\n0 100-1 0.99 1.90066459481e-07 0.000115921171097 \\n0 100-2 0.99 1.51037395827e-09 0.000115927301786 \\n0 100-3 0.99 1.29381810645e-11 0.000115927349267 \\n0 100-4 0.99 5.10945107676e-12 0.000115927349267 \\n0 101-0 1.0 2.94428362626e-05 0.000114634597228 \\n0 101-1 1.0 1.90071714823e-07 0.000115442044366 \\n0 101-2 1.0 1.51041128157e-09 0.000115448157459 \\n0 101-3 1.0 1.2938705621e-11 0.000115448204812 \\n0 101-4 1.0 5.10996601107e-12 0.000115448204812 \\n0 102-0 1.01 2.94437246904e-05 0.000114162639165 \\n0 102-1 1.01 1.90076862576e-07 0.000114967672331 \\n0 102-2 1.01 1.51044821962e-09 0.000114973767924 \\n0 102-3 1.01 1.29392269752e-11 0.00011497381515 \\n0 102-4 1.01 5.11045234396e-12 0.00011497381515 \\n0 103-0 1.02 2.94445991095e-05 0.000113695350314 \\n0 103-1 1.02 1.90081900252e-07 0.0001144979848 \\n0 103-2 1.02 1.51048523939e-09 0.000114504062987 \\n0 103-3 1.02 1.29397009105e-11 0.000114504110087 \\n0 103-4 1.02 5.1106727354e-12 0.000114504110087 \\n0 104-0 1.03 2.94454598318e-05 0.000113232662973 \\n0 104-1 1.03 1.90086844112e-07 0.000114032913657 \\n0 104-2 1.03 1.51052249364e-09 0.000114038974522 \\n0 104-3 1.03 1.29401675024e-11 0.000114039021496 \\n0 104-4 1.03 5.110780179e-12 0.000114039021496 \\n0 105-0 1.04 2.94463071607e-05 0.000112774517657 \\n0 105-1 1.04 1.90091711461e-07 0.000113572392783 \\n0 105-2 1.04 1.51055920479e-09 0.000113578436393 \\n0 105-3 1.04 1.29406605146e-11 0.000113578483242 \\n0 105-4 1.04 5.11112406278e-12 0.000113578483242 \\n0 106-0 1.05 2.94471413917e-05 0.000112320853291 \\n0 106-1 1.05 1.90096532476e-07 0.000113116357964 \\n0 106-2 1.05 1.51059411543e-09 0.000113122384387 \\n0 106-3 1.05 1.29411747451e-11 0.000113122431111 \\n0 106-4 1.05 5.11172018609e-12 0.000113122431111 \\n0 107-0 1.06 2.94479628124e-05 0.000111871607218 \\n0 107-1 1.06 1.90101309541e-07 0.000112664746824 \\n0 107-2 1.06 1.51062712806e-09 0.000112670756136 \\n0 107-3 1.06 1.29416468271e-11 0.000112670802735 \\n0 107-4 1.06 5.11219704249e-12 0.000112670802735 \\n0 108-0 1.07 2.94487717029e-05 0.000111426712117 \\n0 108-1 1.07 1.90106014031e-07 0.000112217498769 \\n0 108-2 1.07 1.51065924847e-09 0.000112223491057 \\n0 108-3 1.07 1.29421416495e-11 0.000112223537532 \\n0 108-4 1.07 5.11271603545e-12 0.000112223537532 \\n0 109-0 1.08 2.94495683361e-05 0.000110986107874 \\n0 109-1 1.08 1.90110626491e-07 0.000111774554942 \\n0 109-2 1.08 1.51069059188e-09 0.000111780530283 \\n0 109-3 1.08 1.29426596159e-11 0.000111780576635 \\n'"
      ]
     },
     "execution_count": 87,
     "metadata": {},
     "output_type": "execute_result"
    }
   ],
   "source": [
    "killed.loc[\"39dc80730122\"][\"stdout_stderr\"]"
   ]
  },
  {
   "cell_type": "markdown",
   "metadata": {},
   "source": [
    "Even killed runs with output don't seem worth saving"
   ]
  },
  {
   "cell_type": "code",
   "execution_count": 88,
   "metadata": {
    "deletable": false,
    "editable": false,
    "run_control": {
     "frozen": true
    }
   },
   "outputs": [
    {
     "data": {
      "text/plain": [
       "[u'_killed_', u'troubleshooting']"
      ]
     },
     "execution_count": 88,
     "metadata": {},
     "output_type": "execute_result"
    }
   ],
   "source": [
    "killed.loc[\"39dc80730122\"][\"tags\"]"
   ]
  },
  {
   "cell_type": "code",
   "execution_count": 89,
   "metadata": {
    "deletable": false,
    "editable": false,
    "run_control": {
     "frozen": true
    }
   },
   "outputs": [
    {
     "name": "stdout",
     "output_type": "stream",
     "text": [
      "deleted 10bfd10b89a8\n",
      "deleted 39dc80730122\n",
      "deleted 42f0b986ec84\n",
      "deleted 71816f874e8b\n",
      "deleted 818ccac74a74\n",
      "deleted b0f07f4b812d\n",
      "deleted f3daedbf7d0b\n",
      "deleted f80c97aaa9f5\n"
     ]
    }
   ],
   "source": [
    "for label in killed.index:\n",
    "    print \"deleted\", label\n",
    "    shutil.rmtree(os.path.join(\"Data\", label))"
   ]
  },
  {
   "cell_type": "markdown",
   "metadata": {},
   "source": [
    "## `_failed_`"
   ]
  },
  {
   "cell_type": "code",
   "execution_count": 91,
   "metadata": {},
   "outputs": [],
   "source": [
    "failed = df[df['tags'].map(lambda x: '_failed_' in x)]"
   ]
  },
  {
   "cell_type": "code",
   "execution_count": 93,
   "metadata": {},
   "outputs": [
    {
     "data": {
      "text/plain": [
       "620"
      ]
     },
     "execution_count": 93,
     "metadata": {},
     "output_type": "execute_result"
    }
   ],
   "source": [
    "len(failed)"
   ]
  },
  {
   "cell_type": "code",
   "execution_count": 94,
   "metadata": {},
   "outputs": [
    {
     "data": {
      "text/plain": [
       "datastore           {u'type': u'FileSystemDataStore', u'parameters...\n",
       "dependencies        [{u'name': u'pygments', u'module': u'python', ...\n",
       "diff                                                                 \n",
       "duration                                                      94.1031\n",
       "executable          {u'path': u'/data/guyer/miniconda2/envs/fipy/b...\n",
       "input_data                                                         []\n",
       "input_datastore     {u'type': u'FileSystemDataStore', u'parameters...\n",
       "launch_mode         {u'type': u'SerialLaunchMode', u'parameters': ...\n",
       "main_file                                        optimizer7bDriver.py\n",
       "outcome                                                              \n",
       "output_data         [{u'path': u'Treant.b6b2dd44-b673-40dd-a800-1f...\n",
       "parameters          {u'content': u'Lx: 1.0\n",
       "Ly: 0.5\n",
       "checkpoint: 1.e...\n",
       "platforms           [{u'system_name': u'Linux', u'ip_addr': u'127....\n",
       "reason                                                               \n",
       "repeats                                                           NaN\n",
       "repository          {u'url': u'/data/guyer/CHiMaDPhaseFieldVI', u'...\n",
       "script_arguments                                         <parameters>\n",
       "stdout_stderr       storing results in /data/guyer/CHiMaDPhaseFiel...\n",
       "tags                                             [_failed_, optimize]\n",
       "timestamp                                         2018-03-31 04:03:28\n",
       "user                                  Jonathan Guyer <guyer@nist.gov>\n",
       "version                      de4fa7459919d020cd7431f696fc8271e2e334d1\n",
       "Lx                                                                  1\n",
       "Ly                                                                0.5\n",
       "checkpoint                                                       1.e0\n",
       "dt                                                               0.01\n",
       "input                /data/guyer/CHiMaDPhaseFieldVI/Data/d0d23a6c25a8\n",
       "iterations                                                        316\n",
       "kappa_x                                                        0.0004\n",
       "ncpus                                                              16\n",
       "nproc                                                              16\n",
       "nslots                                                             16\n",
       "nthreads                                                            1\n",
       "nx                                                                400\n",
       "preconditioner                                          MultilevelSAS\n",
       "script                                                 optimizer7b.py\n",
       "solver                                                            CGS\n",
       "sumatra_label                                            019f2f61437e\n",
       "sweeps                                                              1\n",
       "tolerance                                                       1e-06\n",
       "totaltime                                                           1\n",
       "dt_exact                                                         0.01\n",
       "eq                                                               None\n",
       "eta                                                              None\n",
       "kappa_y                                                           NaN\n",
       "numsteps                                                          100\n",
       "smt_project                                                benchmark7\n",
       "solvetime                                                         NaN\n",
       "Name: 019f2f61437e, dtype: object"
      ]
     },
     "execution_count": 94,
     "metadata": {},
     "output_type": "execute_result"
    }
   ],
   "source": [
    "failed.iloc[0]"
   ]
  },
  {
   "cell_type": "markdown",
   "metadata": {},
   "source": [
    "## `_crashed_`"
   ]
  },
  {
   "cell_type": "code",
   "execution_count": 95,
   "metadata": {},
   "outputs": [
    {
     "data": {
      "text/html": [
       "<div>\n",
       "<style scoped>\n",
       "    .dataframe tbody tr th:only-of-type {\n",
       "        vertical-align: middle;\n",
       "    }\n",
       "\n",
       "    .dataframe tbody tr th {\n",
       "        vertical-align: top;\n",
       "    }\n",
       "\n",
       "    .dataframe thead th {\n",
       "        text-align: right;\n",
       "    }\n",
       "</style>\n",
       "<table border=\"1\" class=\"dataframe\">\n",
       "  <thead>\n",
       "    <tr style=\"text-align: right;\">\n",
       "      <th></th>\n",
       "      <th>timestamp</th>\n",
       "      <th>outcome</th>\n",
       "    </tr>\n",
       "    <tr>\n",
       "      <th>label</th>\n",
       "      <th></th>\n",
       "      <th></th>\n",
       "    </tr>\n",
       "  </thead>\n",
       "  <tbody>\n",
       "    <tr>\n",
       "      <th>003ab26744bd</th>\n",
       "      <td>2018-02-22 14:39:06</td>\n",
       "      <td></td>\n",
       "    </tr>\n",
       "    <tr>\n",
       "      <th>01daf88099cf</th>\n",
       "      <td>2018-03-12 20:48:32</td>\n",
       "      <td></td>\n",
       "    </tr>\n",
       "    <tr>\n",
       "      <th>01e1f789210f</th>\n",
       "      <td>2018-02-22 19:36:26</td>\n",
       "      <td></td>\n",
       "    </tr>\n",
       "    <tr>\n",
       "      <th>1a7c5dc72801</th>\n",
       "      <td>2018-03-08 23:02:01</td>\n",
       "      <td></td>\n",
       "    </tr>\n",
       "    <tr>\n",
       "      <th>1eacc762b95c</th>\n",
       "      <td>2018-02-27 10:43:04</td>\n",
       "      <td></td>\n",
       "    </tr>\n",
       "    <tr>\n",
       "      <th>2983de8b55d4</th>\n",
       "      <td>2018-03-15 15:08:14</td>\n",
       "      <td></td>\n",
       "    </tr>\n",
       "    <tr>\n",
       "      <th>2ef2da75da48</th>\n",
       "      <td>2018-02-25 19:42:17</td>\n",
       "      <td></td>\n",
       "    </tr>\n",
       "    <tr>\n",
       "      <th>31eaaca368ad</th>\n",
       "      <td>2018-02-28 10:56:00</td>\n",
       "      <td></td>\n",
       "    </tr>\n",
       "    <tr>\n",
       "      <th>3299b8aeee76</th>\n",
       "      <td>2018-03-12 22:27:45</td>\n",
       "      <td></td>\n",
       "    </tr>\n",
       "    <tr>\n",
       "      <th>345e43e520d7</th>\n",
       "      <td>2018-03-08 23:02:01</td>\n",
       "      <td></td>\n",
       "    </tr>\n",
       "    <tr>\n",
       "      <th>3716ab1a96ca</th>\n",
       "      <td>2018-02-27 10:31:31</td>\n",
       "      <td></td>\n",
       "    </tr>\n",
       "    <tr>\n",
       "      <th>3ed14d9df714</th>\n",
       "      <td>2018-02-28 10:56:00</td>\n",
       "      <td></td>\n",
       "    </tr>\n",
       "    <tr>\n",
       "      <th>40344d182b03</th>\n",
       "      <td>2018-02-27 10:04:06</td>\n",
       "      <td></td>\n",
       "    </tr>\n",
       "    <tr>\n",
       "      <th>415e7d01bde9</th>\n",
       "      <td>2018-02-25 19:01:32</td>\n",
       "      <td></td>\n",
       "    </tr>\n",
       "    <tr>\n",
       "      <th>4831c662910d</th>\n",
       "      <td>2018-03-07 10:07:21</td>\n",
       "      <td></td>\n",
       "    </tr>\n",
       "    <tr>\n",
       "      <th>485409961581</th>\n",
       "      <td>2018-02-27 09:54:22</td>\n",
       "      <td></td>\n",
       "    </tr>\n",
       "    <tr>\n",
       "      <th>48effbf4d94e</th>\n",
       "      <td>2018-03-13 13:22:15</td>\n",
       "      <td></td>\n",
       "    </tr>\n",
       "    <tr>\n",
       "      <th>4e9b059ce0cf</th>\n",
       "      <td>2018-02-25 19:01:32</td>\n",
       "      <td></td>\n",
       "    </tr>\n",
       "    <tr>\n",
       "      <th>5622706bfd03</th>\n",
       "      <td>2018-02-27 10:46:16</td>\n",
       "      <td></td>\n",
       "    </tr>\n",
       "    <tr>\n",
       "      <th>569dfa8b9502</th>\n",
       "      <td>2018-02-23 10:46:05</td>\n",
       "      <td></td>\n",
       "    </tr>\n",
       "    <tr>\n",
       "      <th>6e32ee0ed204</th>\n",
       "      <td>2018-02-23 10:46:05</td>\n",
       "      <td></td>\n",
       "    </tr>\n",
       "    <tr>\n",
       "      <th>741ebb531708</th>\n",
       "      <td>2018-03-13 03:22:44</td>\n",
       "      <td></td>\n",
       "    </tr>\n",
       "    <tr>\n",
       "      <th>7b055da7fd83</th>\n",
       "      <td>2018-02-22 19:01:27</td>\n",
       "      <td></td>\n",
       "    </tr>\n",
       "    <tr>\n",
       "      <th>82a0a3cf65f7</th>\n",
       "      <td>2018-02-23 10:02:01</td>\n",
       "      <td></td>\n",
       "    </tr>\n",
       "    <tr>\n",
       "      <th>82a4a667b39c</th>\n",
       "      <td>2018-02-25 19:39:49</td>\n",
       "      <td></td>\n",
       "    </tr>\n",
       "    <tr>\n",
       "      <th>8aba597908e5</th>\n",
       "      <td>2018-02-27 10:22:33</td>\n",
       "      <td></td>\n",
       "    </tr>\n",
       "    <tr>\n",
       "      <th>9448827b7841</th>\n",
       "      <td>2018-02-24 09:40:47</td>\n",
       "      <td></td>\n",
       "    </tr>\n",
       "    <tr>\n",
       "      <th>954c498eaed3</th>\n",
       "      <td>2018-02-24 09:40:35</td>\n",
       "      <td></td>\n",
       "    </tr>\n",
       "    <tr>\n",
       "      <th>9b9ef0db6e0d</th>\n",
       "      <td>2018-03-15 18:07:14</td>\n",
       "      <td></td>\n",
       "    </tr>\n",
       "    <tr>\n",
       "      <th>c290310fdf20</th>\n",
       "      <td>2018-02-27 10:26:01</td>\n",
       "      <td></td>\n",
       "    </tr>\n",
       "    <tr>\n",
       "      <th>cc850dcf9333</th>\n",
       "      <td>2018-02-27 16:41:38</td>\n",
       "      <td></td>\n",
       "    </tr>\n",
       "    <tr>\n",
       "      <th>d091db81fc06</th>\n",
       "      <td>2018-02-27 11:50:34</td>\n",
       "      <td></td>\n",
       "    </tr>\n",
       "    <tr>\n",
       "      <th>d3a1fe69ea7e</th>\n",
       "      <td>2018-02-22 19:22:02</td>\n",
       "      <td></td>\n",
       "    </tr>\n",
       "    <tr>\n",
       "      <th>d6f1e2706309</th>\n",
       "      <td>2018-03-08 23:02:01</td>\n",
       "      <td></td>\n",
       "    </tr>\n",
       "    <tr>\n",
       "      <th>d9e49647329f</th>\n",
       "      <td>2018-03-09 14:50:00</td>\n",
       "      <td></td>\n",
       "    </tr>\n",
       "    <tr>\n",
       "      <th>db2ccd036a98</th>\n",
       "      <td>2018-02-25 19:01:32</td>\n",
       "      <td></td>\n",
       "    </tr>\n",
       "    <tr>\n",
       "      <th>dd6cf426ae7b</th>\n",
       "      <td>2018-03-08 18:58:32</td>\n",
       "      <td></td>\n",
       "    </tr>\n",
       "    <tr>\n",
       "      <th>e1ad5b4a5986</th>\n",
       "      <td>2018-02-28 10:56:00</td>\n",
       "      <td></td>\n",
       "    </tr>\n",
       "    <tr>\n",
       "      <th>e55e8b19a019</th>\n",
       "      <td>2018-02-21 17:12:17</td>\n",
       "      <td></td>\n",
       "    </tr>\n",
       "    <tr>\n",
       "      <th>ebe0cb1fdfd8</th>\n",
       "      <td>2018-02-25 19:42:17</td>\n",
       "      <td></td>\n",
       "    </tr>\n",
       "    <tr>\n",
       "      <th>eccd62645910</th>\n",
       "      <td>2018-02-24 09:40:35</td>\n",
       "      <td></td>\n",
       "    </tr>\n",
       "    <tr>\n",
       "      <th>ef7669a9f29c</th>\n",
       "      <td>2018-03-13 13:22:15</td>\n",
       "      <td></td>\n",
       "    </tr>\n",
       "    <tr>\n",
       "      <th>f35af71c17b5</th>\n",
       "      <td>2018-02-27 09:47:05</td>\n",
       "      <td></td>\n",
       "    </tr>\n",
       "    <tr>\n",
       "      <th>fb034dc6c1a8</th>\n",
       "      <td>2018-02-27 16:41:38</td>\n",
       "      <td></td>\n",
       "    </tr>\n",
       "  </tbody>\n",
       "</table>\n",
       "</div>"
      ],
      "text/plain": [
       "                       timestamp outcome\n",
       "label                                   \n",
       "003ab26744bd 2018-02-22 14:39:06        \n",
       "01daf88099cf 2018-03-12 20:48:32        \n",
       "01e1f789210f 2018-02-22 19:36:26        \n",
       "1a7c5dc72801 2018-03-08 23:02:01        \n",
       "1eacc762b95c 2018-02-27 10:43:04        \n",
       "2983de8b55d4 2018-03-15 15:08:14        \n",
       "2ef2da75da48 2018-02-25 19:42:17        \n",
       "31eaaca368ad 2018-02-28 10:56:00        \n",
       "3299b8aeee76 2018-03-12 22:27:45        \n",
       "345e43e520d7 2018-03-08 23:02:01        \n",
       "3716ab1a96ca 2018-02-27 10:31:31        \n",
       "3ed14d9df714 2018-02-28 10:56:00        \n",
       "40344d182b03 2018-02-27 10:04:06        \n",
       "415e7d01bde9 2018-02-25 19:01:32        \n",
       "4831c662910d 2018-03-07 10:07:21        \n",
       "485409961581 2018-02-27 09:54:22        \n",
       "48effbf4d94e 2018-03-13 13:22:15        \n",
       "4e9b059ce0cf 2018-02-25 19:01:32        \n",
       "5622706bfd03 2018-02-27 10:46:16        \n",
       "569dfa8b9502 2018-02-23 10:46:05        \n",
       "6e32ee0ed204 2018-02-23 10:46:05        \n",
       "741ebb531708 2018-03-13 03:22:44        \n",
       "7b055da7fd83 2018-02-22 19:01:27        \n",
       "82a0a3cf65f7 2018-02-23 10:02:01        \n",
       "82a4a667b39c 2018-02-25 19:39:49        \n",
       "8aba597908e5 2018-02-27 10:22:33        \n",
       "9448827b7841 2018-02-24 09:40:47        \n",
       "954c498eaed3 2018-02-24 09:40:35        \n",
       "9b9ef0db6e0d 2018-03-15 18:07:14        \n",
       "c290310fdf20 2018-02-27 10:26:01        \n",
       "cc850dcf9333 2018-02-27 16:41:38        \n",
       "d091db81fc06 2018-02-27 11:50:34        \n",
       "d3a1fe69ea7e 2018-02-22 19:22:02        \n",
       "d6f1e2706309 2018-03-08 23:02:01        \n",
       "d9e49647329f 2018-03-09 14:50:00        \n",
       "db2ccd036a98 2018-02-25 19:01:32        \n",
       "dd6cf426ae7b 2018-03-08 18:58:32        \n",
       "e1ad5b4a5986 2018-02-28 10:56:00        \n",
       "e55e8b19a019 2018-02-21 17:12:17        \n",
       "ebe0cb1fdfd8 2018-02-25 19:42:17        \n",
       "eccd62645910 2018-02-24 09:40:35        \n",
       "ef7669a9f29c 2018-03-13 13:22:15        \n",
       "f35af71c17b5 2018-02-27 09:47:05        \n",
       "fb034dc6c1a8 2018-02-27 16:41:38        "
      ]
     },
     "execution_count": 95,
     "metadata": {},
     "output_type": "execute_result"
    }
   ],
   "source": [
    "crashed = df[df['tags'].map(lambda x: '_crashed_' in x)]\n",
    "crashed[['timestamp', 'outcome']]"
   ]
  },
  {
   "cell_type": "markdown",
   "metadata": {},
   "source": [
    "Ugh!!! I managed to remove some files I just generated!!!"
   ]
  },
  {
   "cell_type": "markdown",
   "metadata": {},
   "source": [
    "## consolidate tags"
   ]
  },
  {
   "cell_type": "code",
   "execution_count": 6,
   "metadata": {
    "ExecuteTime": {
     "end_time": "2020-01-17T14:53:02.153438Z",
     "start_time": "2020-01-17T14:53:01.967051Z"
    },
    "deletable": false,
    "editable": false,
    "run_control": {
     "frozen": true
    }
   },
   "outputs": [
    {
     "data": {
      "text/plain": [
       "{u'_crashed_',\n",
       " u'_failed_',\n",
       " u'_finished..._',\n",
       " u'_finished_',\n",
       " u'_running_',\n",
       " u'benchmark7a',\n",
       " u'benson',\n",
       " u'leakage',\n",
       " u'master',\n",
       " u'meshsize',\n",
       " u'mprof',\n",
       " u'mprof_pysparse',\n",
       " u'optimize',\n",
       " u'petsc',\n",
       " u'profile_smt_run',\n",
       " u'r001',\n",
       " u'r041',\n",
       " u'r049',\n",
       " u'scaling',\n",
       " u'scaling_addpetsc_py2k_r049',\n",
       " u'scaling_addpetsc_py3k_r049',\n",
       " u'testchunking',\n",
       " u'threading',\n",
       " u'threading_addpetsc_r049',\n",
       " u'ticket644-Add_support_for_PETSc_solvers',\n",
       " u'timestep',\n",
       " u'troubleshoot',\n",
       " u'troubleshooting'}"
      ]
     },
     "execution_count": 6,
     "metadata": {},
     "output_type": "execute_result"
    }
   ],
   "source": [
    "set(df.tags.sum())"
   ]
  },
  {
   "cell_type": "markdown",
   "metadata": {},
   "source": [
    "### `scaling_addpetsc_py2k_r049`"
   ]
  },
  {
   "cell_type": "code",
   "execution_count": 8,
   "metadata": {
    "ExecuteTime": {
     "end_time": "2020-01-17T14:56:01.008302Z",
     "start_time": "2020-01-17T14:56:00.989883Z"
    },
    "deletable": false,
    "editable": false,
    "run_control": {
     "frozen": true
    }
   },
   "outputs": [
    {
     "data": {
      "text/plain": [
       "u'0632e8a6a20c b601aa5d0084'"
      ]
     },
     "execution_count": 8,
     "metadata": {},
     "output_type": "execute_result"
    }
   ],
   "source": [
    "\" \".join(df[df['tags'].map(lambda x: 'scaling_addpetsc_py2k_r049' in x)].index)"
   ]
  },
  {
   "cell_type": "code",
   "execution_count": 9,
   "metadata": {
    "ExecuteTime": {
     "end_time": "2020-01-17T14:56:45.794968Z",
     "start_time": "2020-01-17T14:56:19.645297Z"
    }
   },
   "outputs": [
    {
     "name": "stdout",
     "output_type": "stream",
     "text": [
      "usage: smt tag [options] TAG [LIST]\r\n",
      "\r\n",
      "If TAG contains spaces, it must be enclosed in quotes. LIST should be a space-\r\n",
      "separated list of labels for individual records. If it is omitted, only the\r\n",
      "most recent record will be tagged. If the '-r/--remove' option is set, the tag\r\n",
      "will be removed from the records. TAG can be a status from the mutually\r\n",
      "exclusive list: _initialized_, _pre_run_, _running_, _finished_, _failed_,\r\n",
      "_killed_, _succeeded_, _crashed_.\r\n",
      "\r\n",
      "positional arguments:\r\n",
      "  TAG           tag to add\r\n",
      "  LIST          a space-separated list of records to be tagged\r\n",
      "\r\n",
      "optional arguments:\r\n",
      "  -h, --help    show this help message and exit\r\n",
      "  -r, --remove  remove the tag from the record(s), rather than adding it.\r\n"
     ]
    }
   ],
   "source": [
    "!smt tag --help"
   ]
  },
  {
   "cell_type": "code",
   "execution_count": 10,
   "metadata": {
    "ExecuteTime": {
     "end_time": "2020-01-17T14:58:20.979593Z",
     "start_time": "2020-01-17T14:58:08.557500Z"
    },
    "deletable": false,
    "editable": false,
    "run_control": {
     "frozen": true
    }
   },
   "outputs": [
    {
     "name": "stdout",
     "output_type": "stream",
     "text": [
      "Warning: \r\n",
      "calling yaml.load() without Loader=... is deprecated, as the default Loader is unsafe. Please read https://msg.pyyaml.org/load for full details.\r\n"
     ]
    }
   ],
   "source": [
    "!smt tag scaling 0632e8a6a20c b601aa5d0084"
   ]
  },
  {
   "cell_type": "code",
   "execution_count": 11,
   "metadata": {
    "ExecuteTime": {
     "end_time": "2020-01-17T14:58:51.021832Z",
     "start_time": "2020-01-17T14:58:45.810779Z"
    },
    "deletable": false,
    "editable": false,
    "run_control": {
     "frozen": true
    }
   },
   "outputs": [
    {
     "name": "stdout",
     "output_type": "stream",
     "text": [
      "Warning: \r\n",
      "calling yaml.load() without Loader=... is deprecated, as the default Loader is unsafe. Please read https://msg.pyyaml.org/load for full details.\r\n"
     ]
    }
   ],
   "source": [
    "!smt tag ticket644-Add_support_for_PETSc_solvers 0632e8a6a20c b601aa5d0084"
   ]
  },
  {
   "cell_type": "code",
   "execution_count": 12,
   "metadata": {
    "ExecuteTime": {
     "end_time": "2020-01-17T14:59:13.336335Z",
     "start_time": "2020-01-17T14:59:08.426300Z"
    },
    "deletable": false,
    "editable": false,
    "run_control": {
     "frozen": true
    }
   },
   "outputs": [
    {
     "name": "stdout",
     "output_type": "stream",
     "text": [
      "Warning: \r\n",
      "calling yaml.load() without Loader=... is deprecated, as the default Loader is unsafe. Please read https://msg.pyyaml.org/load for full details.\r\n"
     ]
    }
   ],
   "source": [
    "!smt tag r049 0632e8a6a20c b601aa5d0084"
   ]
  },
  {
   "cell_type": "code",
   "execution_count": 19,
   "metadata": {
    "ExecuteTime": {
     "end_time": "2020-01-17T15:31:28.116329Z",
     "start_time": "2020-01-17T15:30:54.680241Z"
    },
    "deletable": false,
    "editable": false,
    "run_control": {
     "frozen": true
    }
   },
   "outputs": [
    {
     "name": "stdout",
     "output_type": "stream",
     "text": [
      "Warning: \r\n",
      "calling yaml.load() without Loader=... is deprecated, as the default Loader is unsafe. Please read https://msg.pyyaml.org/load for full details.\r\n"
     ]
    }
   ],
   "source": [
    "!smt tag --remove scaling_addpetsc_py2k_r049 0632e8a6a20c b601aa5d0084"
   ]
  },
  {
   "cell_type": "markdown",
   "metadata": {},
   "source": [
    "### `scaling_addpetsc_py3k_r049`"
   ]
  },
  {
   "cell_type": "code",
   "execution_count": 13,
   "metadata": {
    "ExecuteTime": {
     "end_time": "2020-01-17T14:59:51.277087Z",
     "start_time": "2020-01-17T14:59:51.256085Z"
    },
    "deletable": false,
    "editable": false,
    "run_control": {
     "frozen": true
    }
   },
   "outputs": [
    {
     "data": {
      "text/plain": [
       "u'0b62439a2c42 29e69363f08c 2fea4703cba5 3861c7616be5 3e8fb823e443 3f4357f743d4 4531b954f6fe 5ca291421e8f 5fa880c63958 610f77f74801 93e187f91055 94a65481724f 96c222f841bb a717a28c9474 b1d990033949 c5906af6f8ee d61061f7b2e2 dcaa4234a6ea e52313ae6f63 e661bc820774 f25232f1ba1d f60f679f6d6e'"
      ]
     },
     "execution_count": 13,
     "metadata": {},
     "output_type": "execute_result"
    }
   ],
   "source": [
    "\" \".join(df[df['tags'].map(lambda x: 'scaling_addpetsc_py3k_r049' in x)].index)"
   ]
  },
  {
   "cell_type": "code",
   "execution_count": 14,
   "metadata": {
    "ExecuteTime": {
     "end_time": "2020-01-17T15:08:11.505671Z",
     "start_time": "2020-01-17T15:00:09.194662Z"
    },
    "deletable": false,
    "editable": false,
    "run_control": {
     "frozen": true
    }
   },
   "outputs": [
    {
     "name": "stdout",
     "output_type": "stream",
     "text": [
      "Warning: \r\n",
      "calling yaml.load() without Loader=... is deprecated, as the default Loader is unsafe. Please read https://msg.pyyaml.org/load for full details.\r\n"
     ]
    }
   ],
   "source": [
    "!smt tag scaling 0b62439a2c42 29e69363f08c 2fea4703cba5 3861c7616be5 3e8fb823e443 3f4357f743d4 4531b954f6fe 5ca291421e8f 5fa880c63958 610f77f74801 93e187f91055 94a65481724f 96c222f841bb a717a28c9474 b1d990033949 c5906af6f8ee d61061f7b2e2 dcaa4234a6ea e52313ae6f63 e661bc820774 f25232f1ba1d f60f679f6d6e"
   ]
  },
  {
   "cell_type": "code",
   "execution_count": 15,
   "metadata": {
    "ExecuteTime": {
     "end_time": "2020-01-17T15:17:17.955253Z",
     "start_time": "2020-01-17T15:08:35.782366Z"
    },
    "deletable": false,
    "editable": false,
    "run_control": {
     "frozen": true
    }
   },
   "outputs": [
    {
     "name": "stdout",
     "output_type": "stream",
     "text": [
      "Warning: \r\n",
      "calling yaml.load() without Loader=... is deprecated, as the default Loader is unsafe. Please read https://msg.pyyaml.org/load for full details.\r\n"
     ]
    }
   ],
   "source": [
    "!smt tag ticket644-Add_support_for_PETSc_solvers 0b62439a2c42 29e69363f08c 2fea4703cba5 3861c7616be5 3e8fb823e443 3f4357f743d4 4531b954f6fe 5ca291421e8f 5fa880c63958 610f77f74801 93e187f91055 94a65481724f 96c222f841bb a717a28c9474 b1d990033949 c5906af6f8ee d61061f7b2e2 dcaa4234a6ea e52313ae6f63 e661bc820774 f25232f1ba1d f60f679f6d6e"
   ]
  },
  {
   "cell_type": "code",
   "execution_count": 16,
   "metadata": {
    "ExecuteTime": {
     "end_time": "2020-01-17T15:24:11.846864Z",
     "start_time": "2020-01-17T15:17:59.913999Z"
    },
    "deletable": false,
    "editable": false,
    "run_control": {
     "frozen": true
    }
   },
   "outputs": [
    {
     "name": "stdout",
     "output_type": "stream",
     "text": [
      "Warning: \r\n",
      "calling yaml.load() without Loader=... is deprecated, as the default Loader is unsafe. Please read https://msg.pyyaml.org/load for full details.\r\n"
     ]
    }
   ],
   "source": [
    "!smt tag r049 0b62439a2c42 29e69363f08c 2fea4703cba5 3861c7616be5 3e8fb823e443 3f4357f743d4 4531b954f6fe 5ca291421e8f 5fa880c63958 610f77f74801 93e187f91055 94a65481724f 96c222f841bb a717a28c9474 b1d990033949 c5906af6f8ee d61061f7b2e2 dcaa4234a6ea e52313ae6f63 e661bc820774 f25232f1ba1d f60f679f6d6e"
   ]
  },
  {
   "cell_type": "code",
   "execution_count": 20,
   "metadata": {
    "ExecuteTime": {
     "end_time": "2020-01-17T15:38:18.449059Z",
     "start_time": "2020-01-17T15:31:53.696333Z"
    },
    "deletable": false,
    "editable": false,
    "run_control": {
     "frozen": true
    }
   },
   "outputs": [
    {
     "name": "stdout",
     "output_type": "stream",
     "text": [
      "Warning: \r\n",
      "calling yaml.load() without Loader=... is deprecated, as the default Loader is unsafe. Please read https://msg.pyyaml.org/load for full details.\r\n"
     ]
    }
   ],
   "source": [
    "!smt tag --remove scaling_addpetsc_py3k_r049 0b62439a2c42 29e69363f08c 2fea4703cba5 3861c7616be5 3e8fb823e443 3f4357f743d4 4531b954f6fe 5ca291421e8f 5fa880c63958 610f77f74801 93e187f91055 94a65481724f 96c222f841bb a717a28c9474 b1d990033949 c5906af6f8ee d61061f7b2e2 dcaa4234a6ea e52313ae6f63 e661bc820774 f25232f1ba1d f60f679f6d6e"
   ]
  },
  {
   "cell_type": "markdown",
   "metadata": {},
   "source": [
    "### `threading_addpetsc_r049`"
   ]
  },
  {
   "cell_type": "code",
   "execution_count": 17,
   "metadata": {
    "ExecuteTime": {
     "end_time": "2020-01-17T15:27:38.477189Z",
     "start_time": "2020-01-17T15:27:38.453318Z"
    },
    "deletable": false,
    "editable": false,
    "run_control": {
     "frozen": true
    }
   },
   "outputs": [
    {
     "data": {
      "text/plain": [
       "u'06df2982a3ff 15a5e85d89bb 394291dd5e65 51559f574c89 53b0466344b3 5d7ac5984009 6c2a4c5b4f75 a01a26adda37 a13c77a0c7ee c40fe8f5c916 e47d283e8c93 f7a3ead24a87'"
      ]
     },
     "execution_count": 17,
     "metadata": {},
     "output_type": "execute_result"
    }
   ],
   "source": [
    "\" \".join(df[df['tags'].map(lambda x: 'threading_addpetsc_r049' in x)].index)"
   ]
  },
  {
   "cell_type": "code",
   "execution_count": 18,
   "metadata": {
    "ExecuteTime": {
     "end_time": "2020-01-17T15:30:41.658750Z",
     "start_time": "2020-01-17T15:28:07.256486Z"
    },
    "deletable": false,
    "editable": false,
    "run_control": {
     "frozen": true
    }
   },
   "outputs": [
    {
     "name": "stdout",
     "output_type": "stream",
     "text": [
      "Warning: \r\n",
      "calling yaml.load() without Loader=... is deprecated, as the default Loader is unsafe. Please read https://msg.pyyaml.org/load for full details.\r\n"
     ]
    }
   ],
   "source": [
    "!smt tag threading 06df2982a3ff 15a5e85d89bb 394291dd5e65 51559f574c89 53b0466344b3 5d7ac5984009 6c2a4c5b4f75 a01a26adda37 a13c77a0c7ee c40fe8f5c916 e47d283e8c93 f7a3ead24a87"
   ]
  },
  {
   "cell_type": "code",
   "execution_count": 21,
   "metadata": {
    "ExecuteTime": {
     "end_time": "2020-01-17T15:47:56.251725Z",
     "start_time": "2020-01-17T15:39:58.956391Z"
    },
    "deletable": false,
    "editable": false,
    "run_control": {
     "frozen": true
    }
   },
   "outputs": [
    {
     "name": "stdout",
     "output_type": "stream",
     "text": [
      "Warning: \r\n",
      "calling yaml.load() without Loader=... is deprecated, as the default Loader is unsafe. Please read https://msg.pyyaml.org/load for full details.\r\n"
     ]
    }
   ],
   "source": [
    "!smt tag ticket644-Add_support_for_PETSc_solvers 06df2982a3ff 15a5e85d89bb 394291dd5e65 51559f574c89 53b0466344b3 5d7ac5984009 6c2a4c5b4f75 a01a26adda37 a13c77a0c7ee c40fe8f5c916 e47d283e8c93 f7a3ead24a87"
   ]
  },
  {
   "cell_type": "code",
   "execution_count": 22,
   "metadata": {
    "ExecuteTime": {
     "end_time": "2020-01-17T15:54:06.890171Z",
     "start_time": "2020-01-17T15:52:00.637327Z"
    },
    "deletable": false,
    "editable": false,
    "run_control": {
     "frozen": true
    }
   },
   "outputs": [
    {
     "name": "stdout",
     "output_type": "stream",
     "text": [
      "Warning: \r\n",
      "calling yaml.load() without Loader=... is deprecated, as the default Loader is unsafe. Please read https://msg.pyyaml.org/load for full details.\r\n"
     ]
    }
   ],
   "source": [
    "!smt tag r049 06df2982a3ff 15a5e85d89bb 394291dd5e65 51559f574c89 53b0466344b3 5d7ac5984009 6c2a4c5b4f75 a01a26adda37 a13c77a0c7ee c40fe8f5c916 e47d283e8c93 f7a3ead24a87"
   ]
  },
  {
   "cell_type": "code",
   "execution_count": 23,
   "metadata": {
    "ExecuteTime": {
     "end_time": "2020-01-17T15:56:59.138515Z",
     "start_time": "2020-01-17T15:55:13.770398Z"
    },
    "deletable": false,
    "editable": false,
    "run_control": {
     "frozen": true
    }
   },
   "outputs": [
    {
     "name": "stdout",
     "output_type": "stream",
     "text": [
      "Warning: \r\n",
      "calling yaml.load() without Loader=... is deprecated, as the default Loader is unsafe. Please read https://msg.pyyaml.org/load for full details.\r\n"
     ]
    }
   ],
   "source": [
    "!smt tag --remove threading_addpetsc_r049 06df2982a3ff 15a5e85d89bb 394291dd5e65 51559f574c89 53b0466344b3 5d7ac5984009 6c2a4c5b4f75 a01a26adda37 a13c77a0c7ee c40fe8f5c916 e47d283e8c93 f7a3ead24a87"
   ]
  },
  {
   "cell_type": "code",
   "execution_count": 24,
   "metadata": {
    "ExecuteTime": {
     "end_time": "2020-01-17T16:02:28.440759Z",
     "start_time": "2020-01-17T15:59:06.666620Z"
    },
    "deletable": false,
    "editable": false,
    "run_control": {
     "frozen": true
    }
   },
   "outputs": [],
   "source": [
    "df = load_sumatreant(\"benchmark7\")"
   ]
  },
  {
   "cell_type": "code",
   "execution_count": 25,
   "metadata": {
    "ExecuteTime": {
     "end_time": "2020-01-17T16:03:59.990961Z",
     "start_time": "2020-01-17T16:03:59.926701Z"
    },
    "deletable": false,
    "editable": false,
    "run_control": {
     "frozen": true
    }
   },
   "outputs": [
    {
     "data": {
      "text/plain": [
       "{u'_crashed_',\n",
       " u'_failed_',\n",
       " u'_finished..._',\n",
       " u'_finished_',\n",
       " u'_running_',\n",
       " u'benchmark7a',\n",
       " u'benson',\n",
       " u'leakage',\n",
       " u'master',\n",
       " u'meshsize',\n",
       " u'mprof',\n",
       " u'mprof_pysparse',\n",
       " u'optimize',\n",
       " u'petsc',\n",
       " u'profile_smt_run',\n",
       " u'r001',\n",
       " u'r041',\n",
       " u'r049',\n",
       " u'scaling',\n",
       " u'testchunking',\n",
       " u'threading',\n",
       " u'threading_addpetsc',\n",
       " u'ticket644-Add_support_for_PETSc_solvers',\n",
       " u'timestep',\n",
       " u'troubleshoot',\n",
       " u'troubleshooting'}"
      ]
     },
     "execution_count": 25,
     "metadata": {},
     "output_type": "execute_result"
    }
   ],
   "source": [
    "set(df.tags.sum())"
   ]
  },
  {
   "cell_type": "markdown",
   "metadata": {},
   "source": [
    "### `mprof_pysparse`"
   ]
  },
  {
   "cell_type": "code",
   "execution_count": 26,
   "metadata": {
    "ExecuteTime": {
     "end_time": "2020-01-17T16:04:39.882298Z",
     "start_time": "2020-01-17T16:04:39.856383Z"
    },
    "deletable": false,
    "editable": false,
    "run_control": {
     "frozen": true
    }
   },
   "outputs": [
    {
     "data": {
      "text/plain": [
       "u'ec169c4d9e14 ee191e39d325'"
      ]
     },
     "execution_count": 26,
     "metadata": {},
     "output_type": "execute_result"
    }
   ],
   "source": [
    "\" \".join(df[df['tags'].map(lambda x: 'mprof_pysparse' in x)].index)"
   ]
  },
  {
   "cell_type": "code",
   "execution_count": 27,
   "metadata": {
    "ExecuteTime": {
     "end_time": "2020-01-17T16:05:18.825682Z",
     "start_time": "2020-01-17T16:05:18.430062Z"
    },
    "deletable": false,
    "editable": false,
    "run_control": {
     "frozen": true
    }
   },
   "outputs": [
    {
     "data": {
      "text/plain": [
       "datastore           {u'type': u'FileSystemDataStore', u'parameters...\n",
       "dependencies        [{u'name': u'reprlib', u'module': u'python', u...\n",
       "diff                                                                 \n",
       "duration                                                      59.4614\n",
       "executable          {u'path': u'/data/guyer/miniconda3/envs/petsc2...\n",
       "input_data                                                         []\n",
       "input_datastore     {u'type': u'FileSystemDataStore', u'parameters...\n",
       "launch_mode         {u'type': u'DistributedLaunchMode', u'paramete...\n",
       "main_file                                               threadtest.py\n",
       "outcome             Maybe memory was saturated after all, but hard...\n",
       "output_data         [{u'path': u'Sumatra.ec169c4d9e14.json', u'cre...\n",
       "parameters          {u'content': u'Lx: 1.0\n",
       "Ly: 0.5\n",
       "checkpoint: 1.e...\n",
       "platforms           [{u'system_name': u'Linux', u'ip_addr': u'192....\n",
       "reason                                                               \n",
       "repeats                                                           NaN\n",
       "repository          {u'url': u'/data/guyer/CHiMaDPhaseFieldVI', u'...\n",
       "script_arguments                                         <parameters>\n",
       "stdout_stderr       /data/guyer/sumatra/sumatra/parameters.py:156:...\n",
       "tags                                     [_finished_, mprof_pysparse]\n",
       "timestamp                                         2020-01-16 14:39:31\n",
       "user                                  Jonathan Guyer <guyer@nist.gov>\n",
       "version                      17ec99d547d2c7d90cece873c2347b7c837eadf7\n",
       "Lx                                                                  1\n",
       "Ly                                                                0.5\n",
       "checkpoint                                                       1.e0\n",
       "dt                                                               0.01\n",
       "input                                                             NaN\n",
       "iterations                                                        NaN\n",
       "kappa_x                                                        0.0004\n",
       "ncpus                                                               1\n",
       "nproc                                                               1\n",
       "nslots                                                              1\n",
       "nthreads                                                            1\n",
       "nx                                                                100\n",
       "preconditioner                                                    NaN\n",
       "script                                                explicitDW7a.py\n",
       "solver                                                       pysparse\n",
       "sumatra_label                                            ec169c4d9e14\n",
       "sweeps                                                              5\n",
       "tolerance                                                         NaN\n",
       "totaltime                                                         0.8\n",
       "dt_exact                                                          NaN\n",
       "eq                                                               None\n",
       "eta                                                              None\n",
       "kappa_y                                                           NaN\n",
       "numsteps                                                          NaN\n",
       "smt_project                                                benchmark7\n",
       "solvetime                                                     5.91917\n",
       "Name: ec169c4d9e14, dtype: object"
      ]
     },
     "execution_count": 27,
     "metadata": {},
     "output_type": "execute_result"
    }
   ],
   "source": [
    "df.loc['ec169c4d9e14']"
   ]
  },
  {
   "cell_type": "markdown",
   "metadata": {},
   "source": [
    "`mprof` captured sumatra, not the actual run"
   ]
  },
  {
   "cell_type": "code",
   "execution_count": 28,
   "metadata": {
    "ExecuteTime": {
     "end_time": "2020-01-17T16:07:43.719037Z",
     "start_time": "2020-01-17T16:07:29.723102Z"
    },
    "deletable": false,
    "editable": false,
    "run_control": {
     "frozen": true
    }
   },
   "outputs": [],
   "source": [
    "!rm -r Data/ec169c4d9e14 Data/ee191e39d325"
   ]
  },
  {
   "cell_type": "code",
   "execution_count": null,
   "metadata": {},
   "outputs": [],
   "source": []
  }
 ],
 "metadata": {
  "kernelspec": {
   "display_name": "Python 2",
   "language": "python",
   "name": "python2"
  },
  "language_info": {
   "codemirror_mode": {
    "name": "ipython",
    "version": 2
   },
   "file_extension": ".py",
   "mimetype": "text/x-python",
   "name": "python",
   "nbconvert_exporter": "python",
   "pygments_lexer": "ipython2",
   "version": "2.7.15"
  },
  "toc": {
   "base_numbering": 1,
   "nav_menu": {},
   "number_sections": true,
   "sideBar": true,
   "skip_h1_title": false,
   "title_cell": "Table of Contents",
   "title_sidebar": "Contents",
   "toc_cell": false,
   "toc_position": {},
   "toc_section_display": true,
   "toc_window_display": false
  }
 },
 "nbformat": 4,
 "nbformat_minor": 2
}
