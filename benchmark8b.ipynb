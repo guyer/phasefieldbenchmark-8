{
 "cells": [
  {
   "cell_type": "markdown",
   "metadata": {},
   "source": [
    "FiPy implementation of problem 2.2: \"Explicit nucleation, multiple seeds at t=0\"\n",
    "\n",
    "in *Benchmark problems for nucleation*, Tamás Pusztai, September 25, 2019"
   ]
  },
  {
   "cell_type": "code",
   "execution_count": 2,
   "metadata": {
    "ExecuteTime": {
     "end_time": "2019-10-10T18:36:31.298746Z",
     "start_time": "2019-10-10T18:36:26.095467Z"
    }
   },
   "outputs": [],
   "source": [
    "import os\n",
    "import re\n",
    "import sys\n",
    "import time\n",
    "import yaml\n",
    "\n",
    "import datreant.core as dtr\n",
    "\n",
    "import fipy as fp\n",
    "from fipy.tools import parallelComm\n",
    "from fipy.meshes.factoryMeshes import _dnl\n",
    "\n",
    "from fipy.tools.debug import PRINT"
   ]
  },
  {
   "cell_type": "markdown",
   "metadata": {},
   "source": [
    "Load parameters"
   ]
  },
  {
   "cell_type": "code",
   "execution_count": null,
   "metadata": {
    "ExecuteTime": {
     "end_time": "2019-10-09T00:00:57.366526Z",
     "start_time": "2019-10-09T00:00:57.357021Z"
    }
   },
   "outputs": [],
   "source": [
    "from IPython import get_ipython\n",
    "if get_ipython() is None:\n",
    "    yamlfile = sys.argv[1]\n",
    "else:\n",
    "    yamlfile = \"params8b.yaml\"\n",
    "\n",
    "with open(yamlfile, 'r') as f:\n",
    "    params = yaml.load(f)"
   ]
  },
  {
   "cell_type": "markdown",
   "metadata": {},
   "source": [
    "Set any parameters for interactive notebook"
   ]
  },
  {
   "cell_type": "code",
   "execution_count": null,
   "metadata": {
    "ExecuteTime": {
     "end_time": "2019-10-09T00:00:57.377275Z",
     "start_time": "2019-10-09T00:00:57.371546Z"
    }
   },
   "outputs": [],
   "source": [
    "if get_ipython() is not None:\n",
    "    params['Lx'] = 100.\n",
    "    params['Ly'] = 100.\n",
    "    params['savetime'] = 4 * params['dt'] \n",
    "    params['totaltime'] = 100 * params['dt']"
   ]
  },
  {
   "cell_type": "markdown",
   "metadata": {},
   "source": [
    "Setup ouput storage"
   ]
  },
  {
   "cell_type": "code",
   "execution_count": null,
   "metadata": {
    "ExecuteTime": {
     "end_time": "2019-10-09T00:00:58.373152Z",
     "start_time": "2019-10-09T00:00:57.381495Z"
    }
   },
   "outputs": [],
   "source": [
    "try:\n",
    "    from sumatra.projects import load_project\n",
    "    project = load_project(os.getcwd())\n",
    "    record = project.get_record(params[\"sumatra_label\"])\n",
    "    output = record.datastore.root\n",
    "except:\n",
    "    # either there's no sumatra, no sumatra project, or no sumatra_label\n",
    "    # this will be the case if this script is run directly\n",
    "    output = os.getcwd()\n",
    "    \n",
    "if parallelComm.procID == 0:\n",
    "    print \"storing results in {0}\".format(output)\n",
    "    data = dtr.Treant(output)\n",
    "else:\n",
    "    class dummyTreant(object):\n",
    "        categories = dict()\n",
    "\n",
    "    data = dummyTreant()"
   ]
  },
  {
   "cell_type": "markdown",
   "metadata": {},
   "source": [
    "Initialize mesh and solution variables\n",
    "\n",
    "Either restart from some `path/to/t={time}.tar.gz`, where the time is assigned to `elapsed`\n",
    "\n",
    "or\n",
    "\n",
    "Create a mesh based on parameters. \"Generate random positions with uniform distribution for 100 supercritical seeds with $r_0 = 1.1r^∗$. ... When adding a new seed, simply add the $\\phi$ values given by the $\\phi(r)$ profile\n",
    "\\begin{align}\n",
    "\\phi(x) &= \\frac{1 - \\tanh\\left(\\frac{x - x_0}{\\sqrt{2}}\\right)}{2}\\tag{8}\n",
    "\\end{align}\n",
    "to the $\\phi$ values already in the domain, and handle the possible overlaps by setting $\\phi = 1$ for all cells where $\\phi > 1.$\""
   ]
  },
  {
   "cell_type": "code",
   "execution_count": null,
   "metadata": {
    "ExecuteTime": {
     "end_time": "2019-10-09T00:00:58.382803Z",
     "start_time": "2019-10-09T00:00:58.377473Z"
    }
   },
   "outputs": [],
   "source": [
    "def nucleus(x0, y0, r0):\n",
    "    r = fp.numerix.sqrt((x - x0)**2 + (y - y0)**2)\n",
    "\n",
    "    return (1 - fp.numerix.tanh((r - r0) / fp.numerix.sqrt(2.))) / 2"
   ]
  },
  {
   "cell_type": "code",
   "execution_count": null,
   "metadata": {
    "ExecuteTime": {
     "end_time": "2019-10-09T00:00:59.762607Z",
     "start_time": "2019-10-09T00:00:58.386807Z"
    }
   },
   "outputs": [],
   "source": [
    "checkpoint = params['checkpoint']\n",
    "savetime = params['savetime']\n",
    "totaltime = params['totaltime']\n",
    "dt = params['dt']\n",
    "\n",
    "if params['restart']:\n",
    "    phi, = fp.tools.dump.read(filename=params['restart'])\n",
    "    mesh = phi.mesh\n",
    "\n",
    "    Lx = max(mesh.x) - min(mesh.x)\n",
    "    Ly = max(mesh.y) - min(mesh.y)\n",
    "\n",
    "    # scanf(\"%g\") simulator\n",
    "    # https://docs.python.org/3/library/re.html#simulating-scanf\n",
    "    scanf_g = \"[-+]?(\\d+(\\.\\d*)?|\\.\\d+)([eE][-+]?\\d+)?\"\n",
    "    pattern = \".*/t=({g})\\.tar\\.gz\".format(g=scanf_g)\n",
    "    elapsed = re.match(pattern, params['restart']).group(1)\n",
    "    elapsed = fp.Variable(name=\"$t$\", value=float(elapsed))\n",
    "else:\n",
    "    Lx = params['Lx']\n",
    "    Ly = params['Ly']\n",
    "\n",
    "    dx, nx = _dnl(dx=params['dx'], nx=None, Lx=Lx)\n",
    "    dy, ny = _dnl(dx=params['dx'], nx=None, Lx=Ly)\n",
    "\n",
    "    mesh = fp.Grid2D(dx=dx, nx=nx, dy=dy, ny=ny)\n",
    "    x, y = mesh.cellCenters[0], mesh.cellCenters[1]\n",
    "    X, Y = mesh.faceCenters[0], mesh.faceCenters[1]\n",
    "\n",
    "    phi = fp.CellVariable(mesh=mesh, name=\"$\\phi$\", value=0., hasOld=True)\n",
    "\n",
    "    elapsed = fp.Variable(name=\"$t$\", value=0.)\n",
    "\n",
    "    for fx, fy in fp.numerix.random.random(size=(100, 2)):\n",
    "        phi.setValue(phi + nucleus(x0=fx * Lx, y0=fy * Ly, r0=params['factor'] * 2))\n",
    "\n",
    "    phi.setValue(1., where=phi > 1.)"
   ]
  },
  {
   "cell_type": "code",
   "execution_count": null,
   "metadata": {
    "ExecuteTime": {
     "end_time": "2019-10-09T00:01:00.750334Z",
     "start_time": "2019-10-09T00:00:59.775042Z"
    }
   },
   "outputs": [],
   "source": [
    "if get_ipython() is not None:\n",
    "    viewer = fp.Viewer(vars=phi, datamin=0., datamax=1.)\n",
    "    viewer.plot()"
   ]
  },
  {
   "cell_type": "markdown",
   "metadata": {},
   "source": [
    "Given driving force $\\Delta f = 1 / (6\\sqrt{2})$"
   ]
  },
  {
   "cell_type": "code",
   "execution_count": null,
   "metadata": {
    "ExecuteTime": {
     "end_time": "2019-10-09T00:00:59.770897Z",
     "start_time": "2019-10-09T00:00:59.767394Z"
    }
   },
   "outputs": [],
   "source": [
    "Delta_f = 1. / (6 * fp.numerix.sqrt(2.))"
   ]
  },
  {
   "cell_type": "markdown",
   "metadata": {},
   "source": [
    "define governing equation \n",
    "\\begin{align}\n",
    "\\frac{\\partial\\phi}{\\partial t} &= \\nabla^2\\phi - g'(\\phi) + \\Delta f p'(\\phi) \\tag{7}\n",
    "\\end{align}\n",
    "$$g(\\phi) = \\phi^2(1 - \\phi)^2 \\qquad p(\\phi)=\\phi^3(10 - 15\\phi + 6\\phi^2)$$\n",
    "following [`examples/phase/simple.py`](https://www.ctcms.nist.gov/fipy/examples/phase/generated/examples.phase.simple.html)\n",
    "\n",
    "\n",
    "\\begin{align}\n",
    "\\frac{\\partial\\phi}{\\partial t}\n",
    "&= \\nabla^2\\phi + m_\\phi \\phi (1 - \\phi) \\notag\n",
    "\\qquad\\text{for $m_\\phi \\equiv -2(1 - 2\\phi) + 30 \\phi (1 - \\phi) \\Delta f$} \\notag\n",
    "\\\\\n",
    "&= \\nabla^2\\phi + S \\notag\n",
    "\\\\\n",
    "&= \\nabla^2\\phi + S|_\\text{old} \n",
    "+ \\left.{\\frac{\\partial S}{\\partial \\phi}}\\right|_\\text{old} (\\phi - \\phi_\\text{old}) \n",
    "\\notag \\\\\n",
    "&= \\nabla^2\\phi + \\left(S - \\frac{\\partial S}{\\partial \\phi} \\phi\\right)_\\text{old} \n",
    "- \\left.{\\frac{\\partial S}{\\partial \\phi}}\\right|_\\text{old} \\phi \\notag\n",
    "\\\\\n",
    "&= \\nabla^2\\phi + S_0 + S_1 \\phi \\notag\n",
    "\\\\\n",
    "S_0 &\\equiv \\left(S - \\frac{\\partial S}{\\partial \\phi} \\phi\\right)_\\text{old}\n",
    "\\notag \\\\\n",
    "&= m_\\phi \\phi_\\text{old} (1 - \\phi_\\text{old}) - S_1 \\phi_\\text{old}\n",
    "\\notag \\\\\n",
    "S_1 &\\equiv \\left.{\\frac{\\partial S}{\\partial \\phi}}\\right|_\\text{old}\n",
    "\\notag \\\\\n",
    "&= \\frac{\\partial m_\\phi}{\\partial \\phi} \\phi (1 - \\phi) + m_\\phi (1 - 2\\phi)\n",
    "\\notag\n",
    "\\end{align}"
   ]
  },
  {
   "cell_type": "code",
   "execution_count": null,
   "metadata": {
    "ExecuteTime": {
     "end_time": "2019-10-09T00:01:00.804749Z",
     "start_time": "2019-10-09T00:01:00.753049Z"
    }
   },
   "outputs": [],
   "source": [
    "mPhi = -2 * (1 - 2 * phi) + 30 * phi * (1 - phi) * Delta_f\n",
    "dmPhidPhi = 4 + 30 * (1 - 2 * phi) * Delta_f\n",
    "S1 = dmPhidPhi * phi * (1 - phi) + mPhi * (1 - 2 * phi)\n",
    "S0 = mPhi * phi * (1 - phi) - S1 * phi\n",
    "\n",
    "eq = (fp.TransientTerm() == \n",
    "      fp.DiffusionTerm(coeff=1.) + S0 + fp.ImplicitSourceTerm(coeff=S1))"
   ]
  },
  {
   "cell_type": "markdown",
   "metadata": {},
   "source": [
    "Total free energy\n",
    "\\begin{align}\n",
    "F[\\phi] = \\int\\left[\\frac{1}{2}(\\nabla\\phi)^2 + g(\\phi) - \\Delta f p(\\phi)\\right]\\,dV \\tag{6}\n",
    "\\end{align}"
   ]
  },
  {
   "cell_type": "code",
   "execution_count": null,
   "metadata": {
    "ExecuteTime": {
     "end_time": "2019-10-09T00:01:00.846384Z",
     "start_time": "2019-10-09T00:01:00.807699Z"
    }
   },
   "outputs": [],
   "source": [
    "ftot = (0.5 * phi.grad.mag**2\n",
    "        + phi**2 * (1 - phi)**2\n",
    "        - Delta_f * phi**3 * (10 - 15 * phi + 6 * phi**2))\n",
    "volumes = fp.CellVariable(mesh=mesh, value=mesh.cellVolumes)\n",
    "F = ftot.cellVolumeAverage * volumes.sum()"
   ]
  },
  {
   "cell_type": "markdown",
   "metadata": {},
   "source": [
    "Output results"
   ]
  },
  {
   "cell_type": "code",
   "execution_count": null,
   "metadata": {
    "ExecuteTime": {
     "end_time": "2019-10-09T00:01:01.104404Z",
     "start_time": "2019-10-09T00:01:00.850948Z"
    }
   },
   "outputs": [],
   "source": [
    "def saveStats(elapsed):\n",
    "    stats = \"{}\\t{}\\t{}\\n\".format(elapsed.value, phi.cellVolumeAverage.value, F.value)\n",
    "    if parallelComm.procID == 0:\n",
    "        with open(data['stats.txt'].make().abspath, 'a') as f:\n",
    "            f.write(stats)\n",
    "\n",
    "def savePhi(elapsed):\n",
    "    if parallelComm.procID == 0:\n",
    "        fname = data[\"t={}.tar.gz\".format(elapsed)].make().abspath\n",
    "    else:\n",
    "        fname = None\n",
    "    fname = parallelComm.bcast(fname)\n",
    "\n",
    "    fp.tools.dump.write((phi,), filename=fname)\n",
    "\n",
    "if parallelComm.procID == 0:\n",
    "    with open(data['stats.txt'].make().abspath, 'a') as f:\n",
    "        f.write(\"\\t\".join([\"time\", \"fraction\", \"energy\"]) + \"\\n\")\n",
    "\n",
    "saveStats(elapsed)\n",
    "savePhi(elapsed)"
   ]
  },
  {
   "cell_type": "markdown",
   "metadata": {},
   "source": [
    "Figure out when to save"
   ]
  },
  {
   "cell_type": "code",
   "execution_count": null,
   "metadata": {},
   "outputs": [],
   "source": [
    "checkpoints = (fp.numerix.arange(elapsed // checkpoint, totaltime // checkpoint) + 1) * checkpoint\n",
    "for sometime in [savetime, totaltime]:\n",
    "    if sometime not in checkpoints: \n",
    "        checkpoints = fp.tools.concatenate([checkpoints, [sometime]])\n",
    "checkpoints.sort()"
   ]
  },
  {
   "cell_type": "markdown",
   "metadata": {},
   "source": [
    "Solve loop"
   ]
  },
  {
   "cell_type": "code",
   "execution_count": null,
   "metadata": {
    "ExecuteTime": {
     "end_time": "2019-10-09T00:01:14.492710Z",
     "start_time": "2019-10-09T00:01:01.109277Z"
    }
   },
   "outputs": [],
   "source": [
    "for until in checkpoints:\n",
    "    while elapsed.value < until:\n",
    "        phi.updateOld()\n",
    "        for sweep in range(5):\n",
    "            eq.sweep(var=phi, dt=dt)\n",
    "        elapsed.value = elapsed() + dt\n",
    "        saveStats(elapsed)\n",
    "\n",
    "    savePhi(elapsed)"
   ]
  },
  {
   "cell_type": "code",
   "execution_count": null,
   "metadata": {
    "ExecuteTime": {
     "end_time": "2019-10-09T00:01:14.671284Z",
     "start_time": "2019-10-09T00:01:14.497561Z"
    }
   },
   "outputs": [],
   "source": [
    "if get_ipython() is not None:\n",
    "    viewer.plot()"
   ]
  },
  {
   "cell_type": "code",
   "execution_count": null,
   "metadata": {},
   "outputs": [],
   "source": []
  }
 ],
 "metadata": {
  "kernelspec": {
   "display_name": "Python 2",
   "language": "python",
   "name": "python2"
  },
  "language_info": {
   "codemirror_mode": {
    "name": "ipython",
    "version": 2
   },
   "file_extension": ".py",
   "mimetype": "text/x-python",
   "name": "python",
   "nbconvert_exporter": "python",
   "pygments_lexer": "ipython2",
   "version": "2.7.15"
  },
  "toc": {
   "base_numbering": 1,
   "nav_menu": {},
   "number_sections": true,
   "sideBar": true,
   "skip_h1_title": false,
   "title_cell": "Table of Contents",
   "title_sidebar": "Contents",
   "toc_cell": false,
   "toc_position": {},
   "toc_section_display": true,
   "toc_window_display": false
  }
 },
 "nbformat": 4,
 "nbformat_minor": 2
}
