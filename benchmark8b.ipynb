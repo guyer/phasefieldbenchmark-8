{
 "cells": [
  {
   "cell_type": "markdown",
   "metadata": {},
   "source": [
    "# Phase Field Benchmark 8b\n",
    "## Explicit nucleation, multiple seeds at $t=0$\n",
    "FiPy implementation of problem 2 in *Nucleation Benchmark Problem*, Wenkun Wu *et al.*, January 16, 2020\n",
    "\n",
    "Based on problem 2.2 in *Benchmark problems for nucleation*, Tamás Pusztai, September 25, 2019"
   ]
  },
  {
   "cell_type": "markdown",
   "metadata": {},
   "source": [
    "**Do not edit `benchmark8b.py`**. Generate the batch-runnable file from the notebook with\n",
    "```bash\n",
    "jupyter nbconvert benchmark8b.ipynb --to python\n",
    "```"
   ]
  },
  {
   "cell_type": "markdown",
   "metadata": {},
   "source": [
    "## Import Python modules"
   ]
  },
  {
   "cell_type": "code",
   "execution_count": 1,
   "metadata": {
    "ExecuteTime": {
     "end_time": "2020-02-02T02:37:31.586777Z",
     "start_time": "2020-02-02T02:37:16.443056Z"
    }
   },
   "outputs": [],
   "source": [
    "import os\n",
    "import re\n",
    "import sys\n",
    "import yaml\n",
    "\n",
    "import datreant as dtr\n",
    "\n",
    "import fipy as fp\n",
    "from fipy.tools import parallelComm\n",
    "from fipy.meshes.factoryMeshes import _dnl"
   ]
  },
  {
   "cell_type": "markdown",
   "metadata": {},
   "source": [
    "Jupyter notebook handles some things differently than from the commandline"
   ]
  },
  {
   "cell_type": "code",
   "execution_count": 2,
   "metadata": {
    "ExecuteTime": {
     "end_time": "2020-02-02T02:38:01.327511Z",
     "start_time": "2020-02-02T02:38:01.314436Z"
    }
   },
   "outputs": [],
   "source": [
    "try:\n",
    "    from IPython import get_ipython\n",
    "    isnotebook = get_ipython() is not None\n",
    "except:\n",
    "    isnotebook = False"
   ]
  },
  {
   "cell_type": "markdown",
   "metadata": {},
   "source": [
    "## Initialize\n",
    "### Load parameters"
   ]
  },
  {
   "cell_type": "code",
   "execution_count": 3,
   "metadata": {
    "ExecuteTime": {
     "end_time": "2020-02-02T02:38:03.617607Z",
     "start_time": "2020-02-02T02:38:03.012732Z"
    }
   },
   "outputs": [],
   "source": [
    "if isnotebook:\n",
    "    yamlfile = \"params8b.yaml\"\n",
    "else:\n",
    "    yamlfile = sys.argv[1]\n",
    "\n",
    "with open(yamlfile, 'r') as f:\n",
    "    if hasattr(yaml, \"FullLoader\"):\n",
    "        # PyYAML 5.1 deprecated the plain yaml.load(input) function\n",
    "        # https://github.com/yaml/pyyaml/wiki/PyYAML-yaml.load(input)-Deprecation\n",
    "        params = yaml.load(f, Loader=yaml.FullLoader)\n",
    "    else:\n",
    "        params = yaml.load(f)"
   ]
  },
  {
   "cell_type": "markdown",
   "metadata": {},
   "source": [
    "### Set any parameters for interactive notebook"
   ]
  },
  {
   "cell_type": "code",
   "execution_count": 4,
   "metadata": {
    "ExecuteTime": {
     "end_time": "2020-02-02T02:38:05.932352Z",
     "start_time": "2020-02-02T02:38:05.919917Z"
    }
   },
   "outputs": [],
   "source": [
    "if isnotebook:\n",
    "    params['Lx'] = 100.\n",
    "    params['Ly'] = 100.\n",
    "    params['checkpoint_interval'] = 1.5 * params['dt']\n",
    "    params['savetime'] = 4 * params['dt'] \n",
    "    params['totaltime'] = 100 * params['dt']"
   ]
  },
  {
   "cell_type": "markdown",
   "metadata": {},
   "source": [
    "### Initialize mesh and solution variables\n",
    "\n",
    "Either restart from some `path/to/t={time}.tar.gz`, where the time is assigned to `elapsed`\n",
    "\n",
    "or\n",
    "\n",
    "Create a mesh based on parameters. Set\n",
    ">  the domain size to 500 × 500... the spatial and temporal resolution by setting $\\Delta x = \\Delta y = 0.8$ and $\\Delta t = 0.04$\n",
    "\n",
    "($\\Delta x$, $\\Delta y$, and $\\Delta t$ no longer stipulated in rev 2, but continue with same for now)"
   ]
  },
  {
   "cell_type": "code",
   "execution_count": 5,
   "metadata": {
    "ExecuteTime": {
     "end_time": "2020-02-02T02:38:08.063714Z",
     "start_time": "2020-02-02T02:38:07.546494Z"
    }
   },
   "outputs": [],
   "source": [
    "checkpoint_interval = params['checkpoint_interval']\n",
    "savetime = params['savetime']\n",
    "totaltime = params['totaltime']\n",
    "dt = params['dt']\n",
    "\n",
    "if params['restart']:\n",
    "    phi, = fp.tools.dump.read(filename=params['restart'])\n",
    "    mesh = phi.mesh\n",
    "\n",
    "    X, Y = mesh.faceCenters\n",
    "    \n",
    "    Lx = mesh.communicator.MaxAll(max(X)) - mesh.communicator.MinAll(min(X))\n",
    "    Ly = mesh.communicator.MaxAll(max(Y)) - mesh.communicator.MinAll(min(Y))\n",
    "\n",
    "    # scanf(\"%g\") simulator\n",
    "    # https://docs.python.org/3/library/re.html#simulating-scanf\n",
    "    scanf_g = \"[-+]?(\\d+(\\.\\d*)?|\\.\\d+)([eE][-+]?\\d+)?\"\n",
    "    pattern = \".*t=({g})\\.tar\\.gz\".format(g=scanf_g)\n",
    "    elapsed = re.match(pattern, params['restart']).group(1)\n",
    "    elapsed = fp.Variable(name=\"$t$\", value=float(elapsed))\n",
    "else:\n",
    "    Lx = params['Lx']\n",
    "    Ly = params['Ly']\n",
    "\n",
    "    dx, nx = _dnl(dx=params['dx'], nx=None, Lx=Lx)\n",
    "    dy, ny = _dnl(dx=params['dx'], nx=None, Lx=Ly)\n",
    "\n",
    "    mesh = fp.Grid2D(dx=dx, nx=nx, dy=dy, ny=ny)\n",
    "\n",
    "    phi = fp.CellVariable(mesh=mesh, name=\"$\\phi$\", value=0., hasOld=True)\n",
    "\n",
    "    elapsed = fp.Variable(name=\"$t$\", value=0.)\n",
    "    \n",
    "x, y = mesh.cellCenters[0], mesh.cellCenters[1]\n",
    "X, Y = mesh.faceCenters[0], mesh.faceCenters[1]"
   ]
  },
  {
   "cell_type": "code",
   "execution_count": 6,
   "metadata": {
    "ExecuteTime": {
     "end_time": "2020-02-02T02:39:06.536326Z",
     "start_time": "2020-02-02T02:38:08.801607Z"
    }
   },
   "outputs": [
    {
     "data": {
      "image/png": "[encoded data removed]",
      "text/plain": [
       "<fipy.viewers.matplotlibViewer.matplotlib2DGridViewer.Matplotlib2DGridViewer at 0x7fa8abacd9d0>"
      ]
     },
     "metadata": {},
     "output_type": "display_data"
    }
   ],
   "source": [
    "if isnotebook:\n",
    "    viewer = fp.Viewer(vars=phi, datamin=0., datamax=1.)\n",
    "    viewer.plot()"
   ]
  },
  {
   "cell_type": "markdown",
   "metadata": {},
   "source": [
    "## Define governing equation"
   ]
  },
  {
   "cell_type": "markdown",
   "metadata": {},
   "source": [
    "> use only the nondimensional forms of the phase-field and nucleation equations, but without the tildes, for simplicity\n",
    "\n",
    "> [Set] the driving force to $\\Delta f = 1 / (6\\sqrt{2})$"
   ]
  },
  {
   "cell_type": "code",
   "execution_count": 7,
   "metadata": {
    "ExecuteTime": {
     "end_time": "2020-02-02T02:39:14.737935Z",
     "start_time": "2020-02-02T02:39:14.731683Z"
    }
   },
   "outputs": [],
   "source": [
    "Delta_f = 1. / (6 * fp.numerix.sqrt(2.))"
   ]
  },
  {
   "cell_type": "markdown",
   "metadata": {},
   "source": [
    "> $$r_c = \\frac{1}{3\\sqrt{2}}\\frac{1}{\\Delta f} = 2.0$$"
   ]
  },
  {
   "cell_type": "code",
   "execution_count": 8,
   "metadata": {
    "ExecuteTime": {
     "end_time": "2020-02-02T02:39:15.903107Z",
     "start_time": "2020-02-02T02:39:15.894282Z"
    }
   },
   "outputs": [],
   "source": [
    "rc = 2.0"
   ]
  },
  {
   "cell_type": "markdown",
   "metadata": {},
   "source": [
    "and define the governing equation \n",
    "> \\begin{align}\n",
    "\\frac{\\partial\\phi}{\\partial t} &= \\nabla^2\\phi - g'(\\phi) + \\Delta f p'(\\phi) \\tag{7}\n",
    "\\end{align}\n",
    "\n",
    "> $$g(\\phi) = \\phi^2(1 - \\phi)^2 \\qquad p(\\phi)=\\phi^3(10 - 15\\phi + 6\\phi^2)$$\n",
    "\n",
    "Following [`examples/phase/simple.py`](https://www.ctcms.nist.gov/fipy/examples/phase/generated/examples.phase.simple.html)\n",
    "\n",
    "\n",
    "\\begin{align}\n",
    "\\frac{\\partial\\phi}{\\partial t}\n",
    "&= \\nabla^2\\phi + m_\\phi \\phi (1 - \\phi) \\notag\n",
    "\\qquad\\text{for $m_\\phi \\equiv -2(1 - 2\\phi) + 30 \\phi (1 - \\phi) \\Delta f$} \\notag\n",
    "\\\\\n",
    "&= \\nabla^2\\phi + S \\notag\n",
    "\\\\\n",
    "&\\approx \\nabla^2\\phi + S|_\\text{old}\n",
    "+ \\left.{\\frac{\\partial S}{\\partial \\phi}}\\right|_\\text{old} (\\phi - \\phi_\\text{old}) \n",
    "\\notag \\\\\n",
    "&= \\nabla^2\\phi + \\left(S - \\frac{\\partial S}{\\partial \\phi} \\phi\\right)_\\text{old} \n",
    "- \\left.{\\frac{\\partial S}{\\partial \\phi}}\\right|_\\text{old} \\phi \\notag\n",
    "\\\\\n",
    "&= \\nabla^2\\phi + S_0 + S_1 \\phi \\notag\n",
    "\\\\\n",
    "S_0 &\\equiv \\left(S - \\frac{\\partial S}{\\partial \\phi} \\phi\\right)_\\text{old}\n",
    "\\notag \\\\\n",
    "&= m_\\phi \\phi_\\text{old} (1 - \\phi_\\text{old}) - S_1 \\phi_\\text{old}\n",
    "\\notag \\\\\n",
    "S_1 &\\equiv \\left.{\\frac{\\partial S}{\\partial \\phi}}\\right|_\\text{old}\n",
    "\\notag \\\\\n",
    "&= \\frac{\\partial m_\\phi}{\\partial \\phi} \\phi (1 - \\phi) + m_\\phi (1 - 2\\phi)\n",
    "\\notag\n",
    "\\end{align}"
   ]
  },
  {
   "cell_type": "code",
   "execution_count": 9,
   "metadata": {
    "ExecuteTime": {
     "end_time": "2020-02-02T02:39:18.506029Z",
     "start_time": "2020-02-02T02:39:18.157782Z"
    }
   },
   "outputs": [],
   "source": [
    "mPhi = -2 * (1 - 2 * phi) + 30 * phi * (1 - phi) * Delta_f\n",
    "dmPhidPhi = 4 + 30 * (1 - 2 * phi) * Delta_f\n",
    "S1 = dmPhidPhi * phi * (1 - phi) + mPhi * (1 - 2 * phi)\n",
    "S0 = mPhi * phi * (1 - phi) - S1 * phi\n",
    "\n",
    "eq = (fp.TransientTerm() == \n",
    "      fp.DiffusionTerm(coeff=1.) + S0 + fp.ImplicitSourceTerm(coeff=S1))"
   ]
  },
  {
   "cell_type": "markdown",
   "metadata": {},
   "source": [
    "## Calculate total free energy\n",
    "\n",
    "> \\begin{align}\n",
    "F[\\phi] = \\int\\left[\\frac{1}{2}(\\nabla\\phi)^2 + g(\\phi) - \\Delta f p(\\phi)\\right]\\,dV \\tag{6}\n",
    "\\end{align}"
   ]
  },
  {
   "cell_type": "code",
   "execution_count": 10,
   "metadata": {
    "ExecuteTime": {
     "end_time": "2020-02-02T02:39:20.610454Z",
     "start_time": "2020-02-02T02:39:20.069151Z"
    }
   },
   "outputs": [],
   "source": [
    "ftot = (0.5 * phi.grad.mag**2\n",
    "        + phi**2 * (1 - phi)**2\n",
    "        - Delta_f * phi**3 * (10 - 15 * phi + 6 * phi**2))\n",
    "volumes = fp.CellVariable(mesh=mesh, value=mesh.cellVolumes)\n",
    "F = ftot.cellVolumeAverage * volumes.sum()"
   ]
  },
  {
   "cell_type": "markdown",
   "metadata": {},
   "source": [
    "## Define nucleation\n",
    "\n",
    "> When adding a new seed, simply add the $\\phi$ values given by the $\\phi(r)$ profile\n",
    "\\begin{align}\n",
    "\\phi(x) &= \\frac{1 - \\tanh\\left(\\frac{x - x_0}{\\sqrt{2}}\\right)}{2}\\tag{8}\n",
    "\\end{align}\n",
    "to the $\\phi$ values already in the domain, and handle the possible overlaps by setting $\\phi = 1$ for all cells where $\\phi > 1.$"
   ]
  },
  {
   "cell_type": "code",
   "execution_count": 11,
   "metadata": {
    "ExecuteTime": {
     "end_time": "2020-02-02T02:39:22.361424Z",
     "start_time": "2020-02-02T02:39:22.347836Z"
    }
   },
   "outputs": [],
   "source": [
    "def nucleus(x0, y0, r0):\n",
    "    r = fp.numerix.sqrt((x - x0)**2 + (y - y0)**2)\n",
    "\n",
    "    return (1 - fp.numerix.tanh((r - r0) / fp.numerix.sqrt(2.))) / 2"
   ]
  },
  {
   "cell_type": "markdown",
   "metadata": {},
   "source": [
    "> Generate random positions with uniform distribution for 25 supercritical seeds with $r_0 = 1.1r_c$. "
   ]
  },
  {
   "cell_type": "code",
   "execution_count": 12,
   "metadata": {
    "ExecuteTime": {
     "end_time": "2020-02-02T02:39:24.645693Z",
     "start_time": "2020-02-02T02:39:23.956467Z"
    }
   },
   "outputs": [],
   "source": [
    "if not params['restart']:\n",
    "    if parallelComm.procID == 0:\n",
    "        seeds = fp.numerix.random.random(size=(25, 2))\n",
    "    else:\n",
    "        seeds = None\n",
    "    seeds = parallelComm.bcast(seeds)\n",
    "    for fx, fy in seeds:\n",
    "        phi.setValue(phi + nucleus(x0=fx * Lx, y0=fy * Ly, r0=params['factor'] * rc))\n",
    "\n",
    "    phi.setValue(1., where=phi > 1.)"
   ]
  },
  {
   "cell_type": "markdown",
   "metadata": {},
   "source": [
    "## Setup output"
   ]
  },
  {
   "cell_type": "markdown",
   "metadata": {},
   "source": [
    "### Setup ouput storage"
   ]
  },
  {
   "cell_type": "code",
   "execution_count": 13,
   "metadata": {
    "ExecuteTime": {
     "end_time": "2020-02-02T02:39:43.584496Z",
     "start_time": "2020-02-02T02:39:33.665164Z"
    }
   },
   "outputs": [
    {
     "name": "stdout",
     "output_type": "stream",
     "text": [
      "storing results in /data/guyer/CHiMaD/phase_field/phasefieldbenchmark-8\n"
     ]
    }
   ],
   "source": [
    "try:\n",
    "    from sumatra.projects import load_project\n",
    "    project = load_project(os.getcwd())\n",
    "    record = project.get_record(params[\"sumatra_label\"])\n",
    "    output = record.datastore.root\n",
    "except:\n",
    "    # either there's no sumatra, no sumatra project, or no sumatra_label\n",
    "    # this will be the case if this script is run directly\n",
    "    output = os.getcwd()\n",
    "    \n",
    "if parallelComm.procID == 0:\n",
    "    print(\"storing results in {0}\".format(output))\n",
    "    data = dtr.Treant(output)\n",
    "else:\n",
    "    class dummyTreant(object):\n",
    "        categories = dict()\n",
    "\n",
    "    data = dummyTreant()"
   ]
  },
  {
   "cell_type": "markdown",
   "metadata": {},
   "source": [
    "### Create particle counter"
   ]
  },
  {
   "cell_type": "code",
   "execution_count": 14,
   "metadata": {
    "ExecuteTime": {
     "end_time": "2020-02-02T02:39:51.947182Z",
     "start_time": "2020-02-02T02:39:51.822746Z"
    }
   },
   "outputs": [],
   "source": [
    "from scipy import ndimage\n",
    "\n",
    "class LabelVariable(fp.CellVariable):\n",
    "    \"\"\"Label features in `var` using scipy.ndimage.label\n",
    "    \n",
    "    Parameters\n",
    "    ----------\n",
    "    var : ~fipy.variables.cellVariable.CellVariable\n",
    "        Field to be labeled. Any values equal to or greater than `threshold`\n",
    "        are counted as features and values below are considered the background.\n",
    "        \n",
    "        .. important:\n",
    "           Only sensible if `var` is defined on a `...Grid...` Mesh.\n",
    "    structure : array_like, optional\n",
    "        A structuring element that defines feature connections.\n",
    "        `structure` must be centrosymmetric\n",
    "        (see ```scipy.ndimage.label`` Notes\n",
    "        <https://docs.scipy.org/doc/scipy/reference/generated/scipy.ndimage.label.html#scipy.ndimage.label>`_).\n",
    "        If no structuring element is provided,\n",
    "        one is automatically generated with a squared connectivity equal to\n",
    "        one.  That is, for a 2-D `input` array, the default structuring element\n",
    "        is::\n",
    "            [[0,1,0],\n",
    "             [1,1,1],\n",
    "             [0,1,0]]\n",
    "    threshold : float, optional\n",
    "        Boundary value between features (inclusive) and background.\n",
    "    dtype : date-type, optional\n",
    "        The desired data-type for the labels. Note that the type must be able\n",
    "        to store the largest label, or this Variable will raise an Exception.\n",
    "        Default: int.\n",
    "    \"\"\"\n",
    "    def __init__(self, var, structure=None, threshold=0.5, dtype=int):\n",
    "        # We want our value to hold dtype,\n",
    "        # but if we pass an array, the CellVariable\n",
    "        # will probably be wonky\n",
    "        value = fp.numerix.array(0.).astype(dtype).item()\n",
    "        fp.CellVariable.__init__(self,\n",
    "                                 mesh=var.mesh,\n",
    "                                 value=value,\n",
    "                                 elementshape=var.shape[:-1])\n",
    "        self.var = self._requires(var)\n",
    "        self.structure = structure\n",
    "        self.threshold = threshold\n",
    "        self.dtype = dtype\n",
    "        self._num_features = None\n",
    "    \n",
    "    def _calcValue(self):\n",
    "        \"\"\"Label features of `var`\n",
    "        \n",
    "        Side-effect: sets self._num_features\n",
    "        \"\"\"\n",
    "        arr = (self.var.globalValue > self.threshold).astype(self.dtype)\n",
    "        shape = (self.var.mesh.args['nx'], self.var.mesh.args['ny'])\n",
    "        arr = arr.reshape(shape)\n",
    "        self._num_features = ndimage.label(input=arr,\n",
    "                                           structure=self.structure,\n",
    "                                           output=arr)\n",
    "        return arr.flat\n",
    "        \n",
    "    @property\n",
    "    def num_features(self):\n",
    "        \"\"\"How many objects were found\n",
    "        \"\"\"\n",
    "        if self.stale or not self._isCached() or self._num_features is None:\n",
    "            self._getValue()\n",
    "\n",
    "        return self._num_features"
   ]
  },
  {
   "cell_type": "code",
   "execution_count": 15,
   "metadata": {
    "ExecuteTime": {
     "end_time": "2020-02-02T02:39:54.276860Z",
     "start_time": "2020-02-02T02:39:54.266272Z"
    }
   },
   "outputs": [],
   "source": [
    "labels = LabelVariable(phi, threshold=0.5)"
   ]
  },
  {
   "cell_type": "code",
   "execution_count": 16,
   "metadata": {
    "ExecuteTime": {
     "end_time": "2020-02-02T02:39:56.930306Z",
     "start_time": "2020-02-02T02:39:56.413383Z"
    }
   },
   "outputs": [
    {
     "data": {
      "image/png": "[encoded data removed]",
      "text/plain": [
       "<fipy.viewers.matplotlibViewer.matplotlib2DGridViewer.Matplotlib2DGridViewer at 0x7fa8a851ded0>"
      ]
     },
     "metadata": {},
     "output_type": "display_data"
    },
    {
     "data": {
      "image/png": "[encoded data removed]",
      "text/plain": [
       "<Figure size 288x288 with 2 Axes>"
      ]
     },
     "metadata": {
      "needs_background": "light"
     },
     "output_type": "display_data"
    }
   ],
   "source": [
    "if isnotebook:\n",
    "    labelViewer = fp.Viewer(vars=labels, datamin=0, datamax=25)\n",
    "    labelViewer.plot()"
   ]
  },
  {
   "cell_type": "code",
   "execution_count": 17,
   "metadata": {
    "ExecuteTime": {
     "end_time": "2020-02-02T02:40:09.795631Z",
     "start_time": "2020-02-02T02:40:09.781832Z"
    }
   },
   "outputs": [
    {
     "data": {
      "text/plain": [
       "23"
      ]
     },
     "execution_count": 17,
     "metadata": {},
     "output_type": "execute_result"
    }
   ],
   "source": [
    "labels.num_features"
   ]
  },
  {
   "cell_type": "markdown",
   "metadata": {},
   "source": [
    "### Define output routines"
   ]
  },
  {
   "cell_type": "code",
   "execution_count": 19,
   "metadata": {
    "ExecuteTime": {
     "end_time": "2020-02-02T02:40:42.292711Z",
     "start_time": "2020-02-02T02:40:42.257451Z"
    }
   },
   "outputs": [],
   "source": [
    "def saveStats(elapsed):\n",
    "    if parallelComm.procID == 0:\n",
    "        fname = data['stats.txt'].make().abspath\n",
    "        if os.path.exists(fname):\n",
    "            # backup before overwrite\n",
    "            os.rename(fname, fname + \".save\")\n",
    "        try:\n",
    "            fp.numerix.savetxt(fname, \n",
    "                               stats,\n",
    "                               delimiter=\"\\t\",\n",
    "                               comments='',\n",
    "                               header=\"\\t\".join([\"time\", \"fraction\", \"particle_count\", \"energy\"]))\n",
    "        except:\n",
    "            # restore from backup\n",
    "            os.rename(fname + \".save\", fname)\n",
    "        if os.path.exists(fname + \".save\"):\n",
    "            os.remove(fname + \".save\")\n",
    "\n",
    "def current_stats(elapsed):\n",
    "    return [float(x) for x in [elapsed, phi.cellVolumeAverage, labels.num_features, F]]\n",
    "\n",
    "def savePhi(elapsed):\n",
    "    if parallelComm.procID == 0:\n",
    "        fname = data[\"t={}.tar.gz\".format(elapsed)].make().abspath\n",
    "    else:\n",
    "        fname = None\n",
    "    fname = parallelComm.bcast(fname)\n",
    "\n",
    "    fp.tools.dump.write((phi,), filename=fname)\n",
    "\n",
    "def checkpoint(elapsed):\n",
    "    saveStats(elapsed)\n",
    "    savePhi(elapsed)"
   ]
  },
  {
   "cell_type": "markdown",
   "metadata": {},
   "source": [
    "### Figure out when to save"
   ]
  },
  {
   "cell_type": "code",
   "execution_count": 20,
   "metadata": {
    "ExecuteTime": {
     "end_time": "2020-02-02T02:40:44.001732Z",
     "start_time": "2020-02-02T02:40:43.986023Z"
    }
   },
   "outputs": [],
   "source": [
    "checkpoints = (fp.numerix.arange(int(elapsed / checkpoint_interval),\n",
    "                                 int(totaltime / checkpoint_interval)) + 1) * checkpoint_interval\n",
    "for sometime in [savetime, totaltime]:\n",
    "    if sometime > elapsed and sometime not in checkpoints: \n",
    "        checkpoints = fp.tools.concatenate([checkpoints, [sometime]])\n",
    "checkpoints.sort()"
   ]
  },
  {
   "cell_type": "markdown",
   "metadata": {},
   "source": [
    "### Output initial condition"
   ]
  },
  {
   "cell_type": "code",
   "execution_count": 21,
   "metadata": {
    "ExecuteTime": {
     "end_time": "2020-02-02T02:40:49.002618Z",
     "start_time": "2020-02-02T02:40:46.532787Z"
    }
   },
   "outputs": [],
   "source": [
    "if params['restart']:\n",
    "    fname = os.path.join(os.path.dirname(params['restart']), \"stats.txt\")\n",
    "    stats = fp.numerix.loadtxt(fname, skiprows=1)\n",
    "    stats = stats[stats[..., 0] <= elapsed].tolist()\n",
    "else:\n",
    "    stats = []\n",
    "    stats.append(current_stats(elapsed))\n",
    "\n",
    "checkpoint(elapsed)"
   ]
  },
  {
   "cell_type": "markdown",
   "metadata": {},
   "source": [
    "## Solve and output"
   ]
  },
  {
   "cell_type": "code",
   "execution_count": 22,
   "metadata": {
    "ExecuteTime": {
     "end_time": "2020-02-02T02:43:29.909346Z",
     "start_time": "2020-02-02T02:40:55.460795Z"
    }
   },
   "outputs": [
    {
     "data": {
      "image/png": "[encoded data removed]",
      "text/plain": [
       "<fipy.viewers.matplotlibViewer.matplotlib2DGridViewer.Matplotlib2DGridViewer at 0x7fa8a851ded0>"
      ]
     },
     "metadata": {},
     "output_type": "display_data"
    },
    {
     "ename": "KeyboardInterrupt",
     "evalue": "",
     "output_type": "error",
     "traceback": [
      "\u001b[0;31m---------------------------------------------------------------------------\u001b[0m",
      "\u001b[0;31mKeyboardInterrupt\u001b[0m                         Traceback (most recent call last)",
      "\u001b[0;32m<ipython-input-22-b060acd69b67>\u001b[0m in \u001b[0;36m<module>\u001b[0;34m()\u001b[0m\n\u001b[1;32m     12\u001b[0m         \u001b[0mdt\u001b[0m \u001b[0;34m=\u001b[0m \u001b[0mdt_save\u001b[0m\u001b[0;34m\u001b[0m\u001b[0m\n\u001b[1;32m     13\u001b[0m \u001b[0;34m\u001b[0m\u001b[0m\n\u001b[0;32m---> 14\u001b[0;31m     \u001b[0mcheckpoint\u001b[0m\u001b[0;34m(\u001b[0m\u001b[0melapsed\u001b[0m\u001b[0;34m)\u001b[0m\u001b[0;34m\u001b[0m\u001b[0m\n\u001b[0m\u001b[1;32m     15\u001b[0m \u001b[0;34m\u001b[0m\u001b[0m\n\u001b[1;32m     16\u001b[0m     \u001b[0;32mif\u001b[0m \u001b[0misnotebook\u001b[0m\u001b[0;34m:\u001b[0m\u001b[0;34m\u001b[0m\u001b[0m\n",
      "\u001b[0;32m<ipython-input-19-39897757f255>\u001b[0m in \u001b[0;36mcheckpoint\u001b[0;34m(elapsed)\u001b[0m\n\u001b[1;32m     31\u001b[0m \u001b[0;32mdef\u001b[0m \u001b[0mcheckpoint\u001b[0m\u001b[0;34m(\u001b[0m\u001b[0melapsed\u001b[0m\u001b[0;34m)\u001b[0m\u001b[0;34m:\u001b[0m\u001b[0;34m\u001b[0m\u001b[0m\n\u001b[1;32m     32\u001b[0m     \u001b[0msaveStats\u001b[0m\u001b[0;34m(\u001b[0m\u001b[0melapsed\u001b[0m\u001b[0;34m)\u001b[0m\u001b[0;34m\u001b[0m\u001b[0m\n\u001b[0;32m---> 33\u001b[0;31m     \u001b[0msavePhi\u001b[0m\u001b[0;34m(\u001b[0m\u001b[0melapsed\u001b[0m\u001b[0;34m)\u001b[0m\u001b[0;34m\u001b[0m\u001b[0m\n\u001b[0m",
      "\u001b[0;32m<ipython-input-19-39897757f255>\u001b[0m in \u001b[0;36msavePhi\u001b[0;34m(elapsed)\u001b[0m\n\u001b[1;32m     27\u001b[0m     \u001b[0mfname\u001b[0m \u001b[0;34m=\u001b[0m \u001b[0mparallelComm\u001b[0m\u001b[0;34m.\u001b[0m\u001b[0mbcast\u001b[0m\u001b[0;34m(\u001b[0m\u001b[0mfname\u001b[0m\u001b[0;34m)\u001b[0m\u001b[0;34m\u001b[0m\u001b[0m\n\u001b[1;32m     28\u001b[0m \u001b[0;34m\u001b[0m\u001b[0m\n\u001b[0;32m---> 29\u001b[0;31m     \u001b[0mfp\u001b[0m\u001b[0;34m.\u001b[0m\u001b[0mtools\u001b[0m\u001b[0;34m.\u001b[0m\u001b[0mdump\u001b[0m\u001b[0;34m.\u001b[0m\u001b[0mwrite\u001b[0m\u001b[0;34m(\u001b[0m\u001b[0;34m(\u001b[0m\u001b[0mphi\u001b[0m\u001b[0;34m,\u001b[0m\u001b[0;34m)\u001b[0m\u001b[0;34m,\u001b[0m \u001b[0mfilename\u001b[0m\u001b[0;34m=\u001b[0m\u001b[0mfname\u001b[0m\u001b[0;34m)\u001b[0m\u001b[0;34m\u001b[0m\u001b[0m\n\u001b[0m\u001b[1;32m     30\u001b[0m \u001b[0;34m\u001b[0m\u001b[0m\n\u001b[1;32m     31\u001b[0m \u001b[0;32mdef\u001b[0m \u001b[0mcheckpoint\u001b[0m\u001b[0;34m(\u001b[0m\u001b[0melapsed\u001b[0m\u001b[0;34m)\u001b[0m\u001b[0;34m:\u001b[0m\u001b[0;34m\u001b[0m\u001b[0m\n",
      "\u001b[0;32m/data/guyer/fipy/fipy/tools/dump.pyc\u001b[0m in \u001b[0;36mwrite\u001b[0;34m(data, filename, extension, communicator)\u001b[0m\n\u001b[1;32m     57\u001b[0m \u001b[0;34m\u001b[0m\u001b[0m\n\u001b[1;32m     58\u001b[0m     \u001b[0mpickle\u001b[0m\u001b[0;34m.\u001b[0m\u001b[0mdump\u001b[0m\u001b[0;34m(\u001b[0m\u001b[0mdata\u001b[0m\u001b[0;34m,\u001b[0m \u001b[0mfileStream\u001b[0m\u001b[0;34m,\u001b[0m \u001b[0;36m0\u001b[0m\u001b[0;34m)\u001b[0m\u001b[0;34m\u001b[0m\u001b[0m\n\u001b[0;32m---> 59\u001b[0;31m     \u001b[0mfileStream\u001b[0m\u001b[0;34m.\u001b[0m\u001b[0mclose\u001b[0m\u001b[0;34m(\u001b[0m\u001b[0;34m)\u001b[0m\u001b[0;34m\u001b[0m\u001b[0m\n\u001b[0m\u001b[1;32m     60\u001b[0m \u001b[0;34m\u001b[0m\u001b[0m\n\u001b[1;32m     61\u001b[0m     \u001b[0;32mif\u001b[0m \u001b[0mfilename\u001b[0m \u001b[0;32mis\u001b[0m \u001b[0mNone\u001b[0m\u001b[0;34m:\u001b[0m\u001b[0;34m\u001b[0m\u001b[0m\n",
      "\u001b[0;32m/data/guyer/miniconda3/envs/petsc27/lib/python2.7/gzip.pyc\u001b[0m in \u001b[0;36mclose\u001b[0;34m(self)\u001b[0m\n\u001b[1;32m    384\u001b[0m             \u001b[0;32mif\u001b[0m \u001b[0mmyfileobj\u001b[0m\u001b[0;34m:\u001b[0m\u001b[0;34m\u001b[0m\u001b[0m\n\u001b[1;32m    385\u001b[0m                 \u001b[0mself\u001b[0m\u001b[0;34m.\u001b[0m\u001b[0mmyfileobj\u001b[0m \u001b[0;34m=\u001b[0m \u001b[0mNone\u001b[0m\u001b[0;34m\u001b[0m\u001b[0m\n\u001b[0;32m--> 386\u001b[0;31m                 \u001b[0mmyfileobj\u001b[0m\u001b[0;34m.\u001b[0m\u001b[0mclose\u001b[0m\u001b[0;34m(\u001b[0m\u001b[0;34m)\u001b[0m\u001b[0;34m\u001b[0m\u001b[0m\n\u001b[0m\u001b[1;32m    387\u001b[0m \u001b[0;34m\u001b[0m\u001b[0m\n\u001b[1;32m    388\u001b[0m     \u001b[0;32mdef\u001b[0m \u001b[0mflush\u001b[0m\u001b[0;34m(\u001b[0m\u001b[0mself\u001b[0m\u001b[0;34m,\u001b[0m\u001b[0mzlib_mode\u001b[0m\u001b[0;34m=\u001b[0m\u001b[0mzlib\u001b[0m\u001b[0;34m.\u001b[0m\u001b[0mZ_SYNC_FLUSH\u001b[0m\u001b[0;34m)\u001b[0m\u001b[0;34m:\u001b[0m\u001b[0;34m\u001b[0m\u001b[0m\n",
      "\u001b[0;31mKeyboardInterrupt\u001b[0m: "
     ]
    },
    {
     "data": {
      "text/plain": [
       "<Figure size 432x288 with 0 Axes>"
      ]
     },
     "metadata": {},
     "output_type": "display_data"
    }
   ],
   "source": [
    "for until in checkpoints:\n",
    "    while elapsed.value < until:\n",
    "        phi.updateOld()\n",
    "        dt_until = (until - elapsed).value\n",
    "        dt_save = dt\n",
    "        if dt_until < dt:\n",
    "            dt = dt_until\n",
    "        for sweep in range(5):\n",
    "            eq.sweep(var=phi, dt=dt)\n",
    "        elapsed.value = elapsed() + dt\n",
    "        stats.append(current_stats(elapsed))\n",
    "        dt = dt_save\n",
    "\n",
    "    checkpoint(elapsed)\n",
    "\n",
    "    if isnotebook:\n",
    "        viewer.plot()\n",
    "        labelViewer.plot()"
   ]
  },
  {
   "cell_type": "code",
   "execution_count": null,
   "metadata": {},
   "outputs": [],
   "source": []
  }
 ],
 "metadata": {
  "kernelspec": {
   "display_name": "Python 2",
   "language": "python",
   "name": "python2"
  },
  "language_info": {
   "codemirror_mode": {
    "name": "ipython",
    "version": 2
   },
   "file_extension": ".py",
   "mimetype": "text/x-python",
   "name": "python",
   "nbconvert_exporter": "python",
   "pygments_lexer": "ipython2",
   "version": "2.7.15"
  },
  "toc": {
   "base_numbering": 1,
   "nav_menu": {},
   "number_sections": false,
   "sideBar": true,
   "skip_h1_title": false,
   "title_cell": "Table of Contents",
   "title_sidebar": "Contents",
   "toc_cell": false,
   "toc_position": {},
   "toc_section_display": true,
   "toc_window_display": true
  }
 },
 "nbformat": 4,
 "nbformat_minor": 2
}
