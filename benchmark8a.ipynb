{
 "cells": [
  {
   "cell_type": "markdown",
   "metadata": {},
   "source": [
    "# Phase Field Benchmark 8a\n",
    "## Explicit nucleation, single seed\n",
    "FiPy implementation of problem 2.1 in *Benchmark problems for nucleation*, Tamás Pusztai, September 25, 2019"
   ]
  },
  {
   "cell_type": "markdown",
   "metadata": {},
   "source": [
    "**Do not edit `benchmark8a.py`**. Generate the batch-runnable file from the notebook with\n",
    "```bash\n",
    "jupyter nbconvert benchmark8a.ipynb --to python\n",
    "```"
   ]
  },
  {
   "cell_type": "markdown",
   "metadata": {},
   "source": [
    "## Import Python modules"
   ]
  },
  {
   "cell_type": "code",
   "execution_count": 1,
   "metadata": {
    "ExecuteTime": {
     "end_time": "2019-10-15T12:06:01.564636Z",
     "start_time": "2019-10-15T12:05:56.107070Z"
    }
   },
   "outputs": [],
   "source": [
    "import os\n",
    "import re\n",
    "import sys\n",
    "import yaml\n",
    "\n",
    "import datreant.core as dtr\n",
    "\n",
    "import fipy as fp\n",
    "from fipy.tools import parallelComm\n",
    "from fipy.meshes.factoryMeshes import _dnl\n",
    "\n",
    "from fipy.tools.debug import PRINT"
   ]
  },
  {
   "cell_type": "markdown",
   "metadata": {},
   "source": [
    "Jupyter notebook handles some things differently than from the commandline"
   ]
  },
  {
   "cell_type": "code",
   "execution_count": 2,
   "metadata": {
    "ExecuteTime": {
     "end_time": "2019-10-13T11:20:28.393239Z",
     "start_time": "2019-10-13T11:20:28.387050Z"
    }
   },
   "outputs": [],
   "source": [
    "try:\n",
    "    from IPython import get_ipython\n",
    "    isnotebook = get_ipython() is not None\n",
    "except:\n",
    "    isnotebook = False"
   ]
  },
  {
   "cell_type": "markdown",
   "metadata": {},
   "source": [
    "## Initialize\n",
    "### Load parameters"
   ]
  },
  {
   "cell_type": "code",
   "execution_count": 3,
   "metadata": {
    "ExecuteTime": {
     "end_time": "2019-10-13T11:20:28.411533Z",
     "start_time": "2019-10-13T11:20:28.396757Z"
    }
   },
   "outputs": [],
   "source": [
    "if isnotebook:\n",
    "    yamlfile = \"params8a.yaml\"\n",
    "else:\n",
    "    yamlfile = sys.argv[1]\n",
    "\n",
    "with open(yamlfile, 'r') as f:\n",
    "    if hasattr(yaml, \"FullLoader\"):\n",
    "        # PyYAML 5.1 deprecated the plain yaml.load(input) function\n",
    "        # https://github.com/yaml/pyyaml/wiki/PyYAML-yaml.load(input)-Deprecation\n",
    "        params = yaml.load(f, Loader=yaml.FullLoader)\n",
    "    else:\n",
    "        params = yaml.load(f)"
   ]
  },
  {
   "cell_type": "markdown",
   "metadata": {},
   "source": [
    "### Set any parameters for interactive notebook"
   ]
  },
  {
   "cell_type": "code",
   "execution_count": 4,
   "metadata": {
    "ExecuteTime": {
     "end_time": "2019-10-13T11:20:28.423181Z",
     "start_time": "2019-10-13T11:20:28.416379Z"
    }
   },
   "outputs": [],
   "source": [
    "if isnotebook:\n",
    "    params['Lx'] = 100.\n",
    "    params['Ly'] = 100.\n",
    "    params['checkpoint_interval'] = 1.5 * params['dt']\n",
    "    params['totaltime'] = 100 * params['dt']"
   ]
  },
  {
   "cell_type": "markdown",
   "metadata": {},
   "source": [
    "### Initialize mesh and solution variables\n",
    "\n",
    "Either restart from some `path/to/t={time}.tar.gz`, where the time is assigned to `elapsed`\n",
    "\n",
    "or\n",
    "\n",
    "Create a mesh based on parameters.\n",
    "> Make a 2D simulation domain of size 100 × 100 units... the time step $\\Delta t = 0.01$ and the spatial resolution $\\Delta x = \\Delta y = 0.4$ with periodic boundary conditions"
   ]
  },
  {
   "cell_type": "code",
   "execution_count": 5,
   "metadata": {
    "ExecuteTime": {
     "end_time": "2019-10-13T11:20:28.486822Z",
     "start_time": "2019-10-13T11:20:28.427560Z"
    }
   },
   "outputs": [],
   "source": [
    "checkpoint_interval = params['checkpoint_interval']\n",
    "totaltime = params['totaltime']\n",
    "dt = params['dt']\n",
    "\n",
    "if params['restart']:\n",
    "    phi, = fp.tools.dump.read(filename=params['restart'])\n",
    "    mesh = phi.mesh\n",
    "\n",
    "    X, Y = mesh.faceCenters\n",
    "\n",
    "    Lx = mesh.communicator.MaxAll(max(X)) - mesh.communicator.MinAll(min(X))\n",
    "    Ly = mesh.communicator.MaxAll(max(Y)) - mesh.communicator.MinAll(min(Y))\n",
    "\n",
    "    # scanf(\"%g\") simulator\n",
    "    # https://docs.python.org/3/library/re.html#simulating-scanf\n",
    "    scanf_g = \"[-+]?(\\d+(\\.\\d*)?|\\.\\d+)([eE][-+]?\\d+)?\"\n",
    "    pattern = \".*t=({g})\\.tar\\.gz\".format(g=scanf_g)\n",
    "    elapsed = re.match(pattern, params['restart']).group(1)\n",
    "    elapsed = fp.Variable(name=\"$t$\", value=float(elapsed))\n",
    "else:\n",
    "    Lx = params['Lx']\n",
    "    Ly = params['Ly']\n",
    "\n",
    "    dx, nx = _dnl(dx=params['dx'], nx=None, Lx=Lx)\n",
    "    dy, ny = _dnl(dx=params['dx'], nx=None, Lx=Ly)\n",
    "\n",
    "    mesh = fp.PeriodicGrid2D(dx=dx, nx=nx, dy=dy, ny=ny)\n",
    "\n",
    "    phi = fp.CellVariable(mesh=mesh, name=\"$\\phi$\", value=0., hasOld=True)\n",
    "\n",
    "    elapsed = fp.Variable(name=\"$t$\", value=0.)\n",
    "    \n",
    "x, y = mesh.cellCenters[0], mesh.cellCenters[1]\n",
    "X, Y = mesh.faceCenters[0], mesh.faceCenters[1]"
   ]
  },
  {
   "cell_type": "code",
   "execution_count": 6,
   "metadata": {
    "ExecuteTime": {
     "end_time": "2019-10-13T11:20:31.010411Z",
     "start_time": "2019-10-13T11:20:28.491454Z"
    }
   },
   "outputs": [
    {
     "data": {
      "image/png": "[encoded data removed]",
      "text/plain": [
       "<fipy.viewers.matplotlibViewer.matplotlib2DGridViewer.Matplotlib2DGridViewer at 0x7fe090c8aed0>"
      ]
     },
     "metadata": {},
     "output_type": "display_data"
    }
   ],
   "source": [
    "if isnotebook:\n",
    "    viewer = fp.Viewer(vars=phi, datamin=0., datamax=1.)\n",
    "    viewer.plot()"
   ]
  },
  {
   "cell_type": "markdown",
   "metadata": {},
   "source": [
    "## Define governing equation"
   ]
  },
  {
   "cell_type": "markdown",
   "metadata": {},
   "source": [
    "> use only the nondimensional forms of the phase-field and nucleation equations, but without the tildes, for simplicity\n",
    "\n",
    "> [Set] the driving force to $\\Delta f = 1 / (15\\sqrt{2})$"
   ]
  },
  {
   "cell_type": "code",
   "execution_count": 7,
   "metadata": {
    "ExecuteTime": {
     "end_time": "2019-10-13T11:20:31.018206Z",
     "start_time": "2019-10-13T11:20:31.013397Z"
    }
   },
   "outputs": [],
   "source": [
    "Delta_f = 1. / (15 * fp.numerix.sqrt(2.))"
   ]
  },
  {
   "cell_type": "markdown",
   "metadata": {},
   "source": [
    "and define the governing equation \n",
    "> \\begin{align}\n",
    "\\frac{\\partial\\phi}{\\partial t} &= \\nabla^2\\phi - g'(\\phi) + \\Delta f p'(\\phi) \\tag{7}\n",
    "\\end{align}\n",
    "\n",
    "> $$g(\\phi) = \\phi^2(1 - \\phi)^2 \\qquad p(\\phi)=\\phi^3(10 - 15\\phi + 6\\phi^2)$$\n",
    "\n",
    "Following [`examples/phase/simple.py`](https://www.ctcms.nist.gov/fipy/examples/phase/generated/examples.phase.simple.html)\n",
    "\n",
    "\n",
    "\\begin{align}\n",
    "\\frac{\\partial\\phi}{\\partial t}\n",
    "&= \\nabla^2\\phi + m_\\phi \\phi (1 - \\phi) \\notag\n",
    "\\qquad\\text{for $m_\\phi \\equiv -2(1 - 2\\phi) + 30 \\phi (1 - \\phi) \\Delta f$} \\notag\n",
    "\\\\\n",
    "&= \\nabla^2\\phi + S \\notag\n",
    "\\\\\n",
    "&\\approx \\nabla^2\\phi + S|_\\text{old}\n",
    "+ \\left.{\\frac{\\partial S}{\\partial \\phi}}\\right|_\\text{old} (\\phi - \\phi_\\text{old}) \n",
    "\\notag \\\\\n",
    "&= \\nabla^2\\phi + \\left(S - \\frac{\\partial S}{\\partial \\phi} \\phi\\right)_\\text{old} \n",
    "- \\left.{\\frac{\\partial S}{\\partial \\phi}}\\right|_\\text{old} \\phi \\notag\n",
    "\\\\\n",
    "&= \\nabla^2\\phi + S_0 + S_1 \\phi \\notag\n",
    "\\\\\n",
    "S_0 &\\equiv \\left(S - \\frac{\\partial S}{\\partial \\phi} \\phi\\right)_\\text{old}\n",
    "\\notag \\\\\n",
    "&= m_\\phi \\phi_\\text{old} (1 - \\phi_\\text{old}) - S_1 \\phi_\\text{old}\n",
    "\\notag \\\\\n",
    "S_1 &\\equiv \\left.{\\frac{\\partial S}{\\partial \\phi}}\\right|_\\text{old}\n",
    "\\notag \\\\\n",
    "&= \\frac{\\partial m_\\phi}{\\partial \\phi} \\phi (1 - \\phi) + m_\\phi (1 - 2\\phi)\n",
    "\\notag\n",
    "\\end{align}"
   ]
  },
  {
   "cell_type": "code",
   "execution_count": 8,
   "metadata": {
    "ExecuteTime": {
     "end_time": "2019-10-13T11:20:31.058352Z",
     "start_time": "2019-10-13T11:20:31.022281Z"
    }
   },
   "outputs": [],
   "source": [
    "mPhi = -2 * (1 - 2 * phi) + 30 * phi * (1 - phi) * Delta_f\n",
    "dmPhidPhi = 4 + 30 * (1 - 2 * phi) * Delta_f\n",
    "S1 = dmPhidPhi * phi * (1 - phi) + mPhi * (1 - 2 * phi)\n",
    "S0 = mPhi * phi * (1 - phi) - S1 * phi\n",
    "\n",
    "eq = (fp.TransientTerm() == \n",
    "      fp.DiffusionTerm(coeff=1.) + S0 + fp.ImplicitSourceTerm(coeff=S1))"
   ]
  },
  {
   "cell_type": "markdown",
   "metadata": {},
   "source": [
    "## Calculate total free energy\n",
    "\n",
    "> \\begin{align}\n",
    "F[\\phi] = \\int\\left[\\frac{1}{2}(\\nabla\\phi)^2 + g(\\phi) - \\Delta f p(\\phi)\\right]\\,dV \\tag{6}\n",
    "\\end{align}"
   ]
  },
  {
   "cell_type": "code",
   "execution_count": 9,
   "metadata": {
    "ExecuteTime": {
     "end_time": "2019-10-13T11:20:31.117674Z",
     "start_time": "2019-10-13T11:20:31.062025Z"
    }
   },
   "outputs": [],
   "source": [
    "ftot = (0.5 * phi.grad.mag**2\n",
    "        + phi**2 * (1 - phi)**2\n",
    "        - Delta_f * phi**3 * (10 - 15 * phi + 6 * phi**2))\n",
    "volumes = fp.CellVariable(mesh=mesh, value=mesh.cellVolumes)\n",
    "F = ftot.cellVolumeAverage * volumes.sum()"
   ]
  },
  {
   "cell_type": "markdown",
   "metadata": {},
   "source": [
    "## Define nucleation\n",
    "\n",
    "> When adding a new seed, simply add the $\\phi$ values given by the $\\phi(r)$ profile\n",
    "\\begin{align}\n",
    "\\phi(x) &= \\frac{1 - \\tanh\\left(\\frac{x - x_0}{\\sqrt{2}}\\right)}{2}\\tag{8}\n",
    "\\end{align}\n",
    "to the $\\phi$ values already in the domain, and handle the possible overlaps by setting $\\phi = 1$ for all cells where $\\phi > 1.$"
   ]
  },
  {
   "cell_type": "code",
   "execution_count": 10,
   "metadata": {
    "ExecuteTime": {
     "end_time": "2019-10-13T11:20:31.128124Z",
     "start_time": "2019-10-13T11:20:31.122012Z"
    }
   },
   "outputs": [],
   "source": [
    "def nucleus(x0, y0, r0):\n",
    "    r = fp.numerix.sqrt((x - x0)**2 + (y - y0)**2)\n",
    "\n",
    "    return (1 - fp.numerix.tanh((r - r0) / fp.numerix.sqrt(2.))) / 2"
   ]
  },
  {
   "cell_type": "markdown",
   "metadata": {},
   "source": [
    "> Place a circular seed in the center of the domain using the profile $\\phi(r)$ given by Eq. 8 with radius $r_0 = r^∗$... [for] the critical radius $r^∗ = 5$... [M]ake two more simulations starting from seeds with $r_0 = 0.99 r^*$ and $r_0 = 1.01 r^*$"
   ]
  },
  {
   "cell_type": "code",
   "execution_count": 11,
   "metadata": {
    "ExecuteTime": {
     "end_time": "2019-10-13T11:20:32.467810Z",
     "start_time": "2019-10-13T11:20:31.132266Z"
    }
   },
   "outputs": [],
   "source": [
    "if not params['restart']:\n",
    "    phi.setValue(phi + nucleus(x0=0.5 * Lx, y0=0.5 * Ly, r0=params['factor'] * 5))\n",
    "\n",
    "    phi.setValue(1., where=phi > 1.)"
   ]
  },
  {
   "cell_type": "markdown",
   "metadata": {},
   "source": [
    "## Setup output"
   ]
  },
  {
   "cell_type": "markdown",
   "metadata": {},
   "source": [
    "### Setup ouput storage"
   ]
  },
  {
   "cell_type": "code",
   "execution_count": 12,
   "metadata": {
    "ExecuteTime": {
     "end_time": "2019-10-13T11:20:34.547694Z",
     "start_time": "2019-10-13T11:20:32.471622Z"
    }
   },
   "outputs": [
    {
     "name": "stdout",
     "output_type": "stream",
     "text": [
      "storing results in /Users/guyer/Documents/research/CHiMaD/phase_field/phasefieldbenchmark-8\n"
     ]
    }
   ],
   "source": [
    "try:\n",
    "    from sumatra.projects import load_project\n",
    "    project = load_project(os.getcwd())\n",
    "    record = project.get_record(params[\"sumatra_label\"])\n",
    "    output = record.datastore.root\n",
    "except:\n",
    "    # either there's no sumatra, no sumatra project, or no sumatra_label\n",
    "    # this will be the case if this script is run directly\n",
    "    output = os.getcwd()\n",
    "    \n",
    "if parallelComm.procID == 0:\n",
    "    print \"storing results in {0}\".format(output)\n",
    "    data = dtr.Treant(output)\n",
    "else:\n",
    "    class dummyTreant(object):\n",
    "        categories = dict()\n",
    "\n",
    "    data = dummyTreant()"
   ]
  },
  {
   "cell_type": "markdown",
   "metadata": {},
   "source": [
    "### Define output routines"
   ]
  },
  {
   "cell_type": "code",
   "execution_count": 13,
   "metadata": {
    "ExecuteTime": {
     "end_time": "2019-10-13T11:20:34.562249Z",
     "start_time": "2019-10-13T11:20:34.552093Z"
    }
   },
   "outputs": [],
   "source": [
    "def saveStats(elapsed):\n",
    "    if parallelComm.procID == 0:\n",
    "        fname = data['stats.txt'].make().abspath\n",
    "        if os.path.exists(fname):\n",
    "            # backup before overwrite\n",
    "            os.rename(fname, fname + \".save\")\n",
    "        try:\n",
    "            fp.numerix.savetxt(fname,\n",
    "                               stats,\n",
    "                               delimiter=\"\\t\",\n",
    "                               comments='',\n",
    "                               header=\"\\t\".join([\"time\", \"fraction\", \"energy\"]))\n",
    "        except:\n",
    "            # restore from backup\n",
    "            os.rename(fname + \".save\", fname)\n",
    "        if os.path.exists(fname + \".save\"):\n",
    "            os.remove(fname + \".save\")\n",
    "\n",
    "def current_stats(elapsed):\n",
    "    return [float(x) for x in [elapsed, phi.cellVolumeAverage, F]]\n",
    "\n",
    "def savePhi(elapsed):\n",
    "    if parallelComm.procID == 0:\n",
    "        fname = data[\"t={}.tar.gz\".format(elapsed)].make().abspath\n",
    "    else:\n",
    "        fname = None\n",
    "    fname = parallelComm.bcast(fname)\n",
    "\n",
    "    fp.tools.dump.write((phi,), filename=fname)\n",
    "\n",
    "def checkpoint(elapsed):\n",
    "    saveStats(elapsed)\n",
    "    savePhi(elapsed)"
   ]
  },
  {
   "cell_type": "markdown",
   "metadata": {},
   "source": [
    "### Figure out when to save"
   ]
  },
  {
   "cell_type": "code",
   "execution_count": 14,
   "metadata": {
    "ExecuteTime": {
     "end_time": "2019-10-13T11:20:34.574961Z",
     "start_time": "2019-10-13T11:20:34.565416Z"
    }
   },
   "outputs": [],
   "source": [
    "checkpoints = (fp.numerix.arange(int(elapsed / checkpoint_interval),\n",
    "                                 int(totaltime / checkpoint_interval)) + 1) * checkpoint_interval\n",
    "for sometime in [totaltime]:\n",
    "    if sometime > elapsed and sometime not in checkpoints: \n",
    "        checkpoints = fp.tools.concatenate([checkpoints, [sometime]])\n",
    "checkpoints.sort()"
   ]
  },
  {
   "cell_type": "markdown",
   "metadata": {},
   "source": [
    "### Output initial condition"
   ]
  },
  {
   "cell_type": "code",
   "execution_count": 15,
   "metadata": {
    "ExecuteTime": {
     "end_time": "2019-10-13T11:20:34.857836Z",
     "start_time": "2019-10-13T11:20:34.579731Z"
    }
   },
   "outputs": [],
   "source": [
    "if params['restart']:\n",
    "    fname = os.path.join(os.path.dirname(params['restart']), \"stats.txt\")\n",
    "    stats = fp.numerix.loadtxt(fname, skiprows=1)\n",
    "    stats = stats[stats[..., 0] <= elapsed].tolist()\n",
    "else:\n",
    "    stats = []\n",
    "    stats.append(current_stats(elapsed))\n",
    "\n",
    "checkpoint(elapsed)"
   ]
  },
  {
   "cell_type": "markdown",
   "metadata": {},
   "source": [
    "## Solve and output"
   ]
  },
  {
   "cell_type": "code",
   "execution_count": 16,
   "metadata": {
    "ExecuteTime": {
     "end_time": "2019-10-13T11:21:41.341825Z",
     "start_time": "2019-10-13T11:20:34.862379Z"
    }
   },
   "outputs": [
    {
     "data": {
      "image/png": "[encoded data removed]",
      "text/plain": [
       "<fipy.viewers.matplotlibViewer.matplotlib2DGridViewer.Matplotlib2DGridViewer at 0x7fe090c8aed0>"
      ]
     },
     "metadata": {},
     "output_type": "display_data"
    },
    {
     "data": {
      "text/plain": [
       "<Figure size 432x288 with 0 Axes>"
      ]
     },
     "metadata": {},
     "output_type": "display_data"
    }
   ],
   "source": [
    "for until in checkpoints:\n",
    "    while elapsed.value < until:\n",
    "        phi.updateOld()\n",
    "        dt_until = (until - elapsed).value\n",
    "        dt_save = dt\n",
    "        if dt_until < dt:\n",
    "            dt = dt_until\n",
    "        for sweep in range(5):\n",
    "            eq.sweep(var=phi, dt=dt)\n",
    "        elapsed.value = elapsed() + dt\n",
    "        stats.append(current_stats(elapsed))\n",
    "        dt = dt_save\n",
    "\n",
    "    checkpoint(elapsed)\n",
    "\n",
    "    if isnotebook:\n",
    "        viewer.plot()"
   ]
  },
  {
   "cell_type": "code",
   "execution_count": null,
   "metadata": {},
   "outputs": [],
   "source": []
  }
 ],
 "metadata": {
  "kernelspec": {
   "display_name": "Python 2",
   "language": "python",
   "name": "python2"
  },
  "language_info": {
   "codemirror_mode": {
    "name": "ipython",
    "version": 2
   },
   "file_extension": ".py",
   "mimetype": "text/x-python",
   "name": "python",
   "nbconvert_exporter": "python",
   "pygments_lexer": "ipython2",
   "version": "2.7.15"
  },
  "toc": {
   "base_numbering": 1,
   "nav_menu": {},
   "number_sections": false,
   "sideBar": true,
   "skip_h1_title": false,
   "title_cell": "Table of Contents",
   "title_sidebar": "Contents",
   "toc_cell": false,
   "toc_position": {},
   "toc_section_display": true,
   "toc_window_display": true
  }
 },
 "nbformat": 4,
 "nbformat_minor": 2
}
